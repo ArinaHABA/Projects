{
 "cells": [
  {
   "cell_type": "markdown",
   "metadata": {},
   "source": [
    "Дан интернет-магазин «Стримчик», который продаёт по всему миру компьютерные игры. Из открытых источников доступны исторические данные о продажах игр, оценки пользователей и экспертов, жанры и платформы (например, Xbox или PlayStation). \n",
    "\n",
    "Нужно выявить определяющие успешность игры закономерности. \n",
    "\n",
    "Для этого обработаем данные, произведем исследовательский анализ данных и проверим гипотезы.\n",
    "\n",
    "**Описание данных:**\n",
    "\n",
    "Name — название игры\n",
    "\n",
    "Platform — платформа\n",
    "\n",
    "Year_of_Release — год выпуска\n",
    "\n",
    "Genre — жанр игры\n",
    "\n",
    "NA_sales — продажи в Северной Америке (миллионы проданных копий)\n",
    "\n",
    "EU_sales — продажи в Европе (миллионы проданных копий)\n",
    "\n",
    "JP_sales — продажи в Японии (миллионы проданных копий)\n",
    "\n",
    "Other_sales — продажи в других странах (миллионы проданных копий)\n",
    "\n",
    "Critic_Score — оценка критиков (максимум 100)\n",
    "\n",
    "User_Score — оценка пользователей (максимум 10)\n",
    "\n",
    "Rating — рейтинг от организации ESRB (англ. Entertainment Software Rating Board). Эта ассоциация определяет рейтинг компьютерных игр и присваивает им подходящую возрастную категорию."
   ]
  },
  {
   "cell_type": "code",
   "execution_count": 1,
   "metadata": {},
   "outputs": [],
   "source": [
    "import pandas as pd\n",
    "import matplotlib.pyplot as plt\n",
    "import math\n",
    "import numpy as np\n",
    "from scipy import stats as st\n",
    "import seaborn as sns"
   ]
  },
  {
   "cell_type": "code",
   "execution_count": 2,
   "metadata": {},
   "outputs": [
    {
     "data": {
      "text/html": [
       "<div>\n",
       "<style scoped>\n",
       "    .dataframe tbody tr th:only-of-type {\n",
       "        vertical-align: middle;\n",
       "    }\n",
       "\n",
       "    .dataframe tbody tr th {\n",
       "        vertical-align: top;\n",
       "    }\n",
       "\n",
       "    .dataframe thead th {\n",
       "        text-align: right;\n",
       "    }\n",
       "</style>\n",
       "<table border=\"1\" class=\"dataframe\">\n",
       "  <thead>\n",
       "    <tr style=\"text-align: right;\">\n",
       "      <th></th>\n",
       "      <th>Name</th>\n",
       "      <th>Platform</th>\n",
       "      <th>Year_of_Release</th>\n",
       "      <th>Genre</th>\n",
       "      <th>NA_sales</th>\n",
       "      <th>EU_sales</th>\n",
       "      <th>JP_sales</th>\n",
       "      <th>Other_sales</th>\n",
       "      <th>Critic_Score</th>\n",
       "      <th>User_Score</th>\n",
       "      <th>Rating</th>\n",
       "    </tr>\n",
       "  </thead>\n",
       "  <tbody>\n",
       "    <tr>\n",
       "      <th>0</th>\n",
       "      <td>Wii Sports</td>\n",
       "      <td>Wii</td>\n",
       "      <td>2006.0</td>\n",
       "      <td>Sports</td>\n",
       "      <td>41.36</td>\n",
       "      <td>28.96</td>\n",
       "      <td>3.77</td>\n",
       "      <td>8.45</td>\n",
       "      <td>76.0</td>\n",
       "      <td>8</td>\n",
       "      <td>E</td>\n",
       "    </tr>\n",
       "    <tr>\n",
       "      <th>1</th>\n",
       "      <td>Super Mario Bros.</td>\n",
       "      <td>NES</td>\n",
       "      <td>1985.0</td>\n",
       "      <td>Platform</td>\n",
       "      <td>29.08</td>\n",
       "      <td>3.58</td>\n",
       "      <td>6.81</td>\n",
       "      <td>0.77</td>\n",
       "      <td>NaN</td>\n",
       "      <td>NaN</td>\n",
       "      <td>NaN</td>\n",
       "    </tr>\n",
       "    <tr>\n",
       "      <th>2</th>\n",
       "      <td>Mario Kart Wii</td>\n",
       "      <td>Wii</td>\n",
       "      <td>2008.0</td>\n",
       "      <td>Racing</td>\n",
       "      <td>15.68</td>\n",
       "      <td>12.76</td>\n",
       "      <td>3.79</td>\n",
       "      <td>3.29</td>\n",
       "      <td>82.0</td>\n",
       "      <td>8.3</td>\n",
       "      <td>E</td>\n",
       "    </tr>\n",
       "    <tr>\n",
       "      <th>3</th>\n",
       "      <td>Wii Sports Resort</td>\n",
       "      <td>Wii</td>\n",
       "      <td>2009.0</td>\n",
       "      <td>Sports</td>\n",
       "      <td>15.61</td>\n",
       "      <td>10.93</td>\n",
       "      <td>3.28</td>\n",
       "      <td>2.95</td>\n",
       "      <td>80.0</td>\n",
       "      <td>8</td>\n",
       "      <td>E</td>\n",
       "    </tr>\n",
       "    <tr>\n",
       "      <th>4</th>\n",
       "      <td>Pokemon Red/Pokemon Blue</td>\n",
       "      <td>GB</td>\n",
       "      <td>1996.0</td>\n",
       "      <td>Role-Playing</td>\n",
       "      <td>11.27</td>\n",
       "      <td>8.89</td>\n",
       "      <td>10.22</td>\n",
       "      <td>1.00</td>\n",
       "      <td>NaN</td>\n",
       "      <td>NaN</td>\n",
       "      <td>NaN</td>\n",
       "    </tr>\n",
       "    <tr>\n",
       "      <th>5</th>\n",
       "      <td>Tetris</td>\n",
       "      <td>GB</td>\n",
       "      <td>1989.0</td>\n",
       "      <td>Puzzle</td>\n",
       "      <td>23.20</td>\n",
       "      <td>2.26</td>\n",
       "      <td>4.22</td>\n",
       "      <td>0.58</td>\n",
       "      <td>NaN</td>\n",
       "      <td>NaN</td>\n",
       "      <td>NaN</td>\n",
       "    </tr>\n",
       "    <tr>\n",
       "      <th>6</th>\n",
       "      <td>New Super Mario Bros.</td>\n",
       "      <td>DS</td>\n",
       "      <td>2006.0</td>\n",
       "      <td>Platform</td>\n",
       "      <td>11.28</td>\n",
       "      <td>9.14</td>\n",
       "      <td>6.50</td>\n",
       "      <td>2.88</td>\n",
       "      <td>89.0</td>\n",
       "      <td>8.5</td>\n",
       "      <td>E</td>\n",
       "    </tr>\n",
       "    <tr>\n",
       "      <th>7</th>\n",
       "      <td>Wii Play</td>\n",
       "      <td>Wii</td>\n",
       "      <td>2006.0</td>\n",
       "      <td>Misc</td>\n",
       "      <td>13.96</td>\n",
       "      <td>9.18</td>\n",
       "      <td>2.93</td>\n",
       "      <td>2.84</td>\n",
       "      <td>58.0</td>\n",
       "      <td>6.6</td>\n",
       "      <td>E</td>\n",
       "    </tr>\n",
       "    <tr>\n",
       "      <th>8</th>\n",
       "      <td>New Super Mario Bros. Wii</td>\n",
       "      <td>Wii</td>\n",
       "      <td>2009.0</td>\n",
       "      <td>Platform</td>\n",
       "      <td>14.44</td>\n",
       "      <td>6.94</td>\n",
       "      <td>4.70</td>\n",
       "      <td>2.24</td>\n",
       "      <td>87.0</td>\n",
       "      <td>8.4</td>\n",
       "      <td>E</td>\n",
       "    </tr>\n",
       "    <tr>\n",
       "      <th>9</th>\n",
       "      <td>Duck Hunt</td>\n",
       "      <td>NES</td>\n",
       "      <td>1984.0</td>\n",
       "      <td>Shooter</td>\n",
       "      <td>26.93</td>\n",
       "      <td>0.63</td>\n",
       "      <td>0.28</td>\n",
       "      <td>0.47</td>\n",
       "      <td>NaN</td>\n",
       "      <td>NaN</td>\n",
       "      <td>NaN</td>\n",
       "    </tr>\n",
       "  </tbody>\n",
       "</table>\n",
       "</div>"
      ],
      "text/plain": [
       "                        Name Platform  Year_of_Release         Genre  \\\n",
       "0                 Wii Sports      Wii           2006.0        Sports   \n",
       "1          Super Mario Bros.      NES           1985.0      Platform   \n",
       "2             Mario Kart Wii      Wii           2008.0        Racing   \n",
       "3          Wii Sports Resort      Wii           2009.0        Sports   \n",
       "4   Pokemon Red/Pokemon Blue       GB           1996.0  Role-Playing   \n",
       "5                     Tetris       GB           1989.0        Puzzle   \n",
       "6      New Super Mario Bros.       DS           2006.0      Platform   \n",
       "7                   Wii Play      Wii           2006.0          Misc   \n",
       "8  New Super Mario Bros. Wii      Wii           2009.0      Platform   \n",
       "9                  Duck Hunt      NES           1984.0       Shooter   \n",
       "\n",
       "   NA_sales  EU_sales  JP_sales  Other_sales  Critic_Score User_Score Rating  \n",
       "0     41.36     28.96      3.77         8.45          76.0          8      E  \n",
       "1     29.08      3.58      6.81         0.77           NaN        NaN    NaN  \n",
       "2     15.68     12.76      3.79         3.29          82.0        8.3      E  \n",
       "3     15.61     10.93      3.28         2.95          80.0          8      E  \n",
       "4     11.27      8.89     10.22         1.00           NaN        NaN    NaN  \n",
       "5     23.20      2.26      4.22         0.58           NaN        NaN    NaN  \n",
       "6     11.28      9.14      6.50         2.88          89.0        8.5      E  \n",
       "7     13.96      9.18      2.93         2.84          58.0        6.6      E  \n",
       "8     14.44      6.94      4.70         2.24          87.0        8.4      E  \n",
       "9     26.93      0.63      0.28         0.47           NaN        NaN    NaN  "
      ]
     },
     "execution_count": 2,
     "metadata": {},
     "output_type": "execute_result"
    }
   ],
   "source": [
    "df = pd.read_csv('/datasets/games.csv')\n",
    "df.head(10)"
   ]
  },
  {
   "cell_type": "markdown",
   "metadata": {},
   "source": [
    "**Обработаем данные:**"
   ]
  },
  {
   "cell_type": "markdown",
   "metadata": {},
   "source": [
    "Преобразуем столбцы Name, Platform и Genre к нижнему регистру"
   ]
  },
  {
   "cell_type": "code",
   "execution_count": 3,
   "metadata": {},
   "outputs": [
    {
     "data": {
      "text/html": [
       "<div>\n",
       "<style scoped>\n",
       "    .dataframe tbody tr th:only-of-type {\n",
       "        vertical-align: middle;\n",
       "    }\n",
       "\n",
       "    .dataframe tbody tr th {\n",
       "        vertical-align: top;\n",
       "    }\n",
       "\n",
       "    .dataframe thead th {\n",
       "        text-align: right;\n",
       "    }\n",
       "</style>\n",
       "<table border=\"1\" class=\"dataframe\">\n",
       "  <thead>\n",
       "    <tr style=\"text-align: right;\">\n",
       "      <th></th>\n",
       "      <th>Name</th>\n",
       "      <th>Platform</th>\n",
       "      <th>Year_of_Release</th>\n",
       "      <th>Genre</th>\n",
       "      <th>NA_sales</th>\n",
       "      <th>EU_sales</th>\n",
       "      <th>JP_sales</th>\n",
       "      <th>Other_sales</th>\n",
       "      <th>Critic_Score</th>\n",
       "      <th>User_Score</th>\n",
       "      <th>Rating</th>\n",
       "    </tr>\n",
       "  </thead>\n",
       "  <tbody>\n",
       "    <tr>\n",
       "      <th>0</th>\n",
       "      <td>wii sports</td>\n",
       "      <td>wii</td>\n",
       "      <td>2006.0</td>\n",
       "      <td>sports</td>\n",
       "      <td>41.36</td>\n",
       "      <td>28.96</td>\n",
       "      <td>3.77</td>\n",
       "      <td>8.45</td>\n",
       "      <td>76.0</td>\n",
       "      <td>8</td>\n",
       "      <td>E</td>\n",
       "    </tr>\n",
       "    <tr>\n",
       "      <th>1</th>\n",
       "      <td>super mario bros.</td>\n",
       "      <td>nes</td>\n",
       "      <td>1985.0</td>\n",
       "      <td>platform</td>\n",
       "      <td>29.08</td>\n",
       "      <td>3.58</td>\n",
       "      <td>6.81</td>\n",
       "      <td>0.77</td>\n",
       "      <td>NaN</td>\n",
       "      <td>NaN</td>\n",
       "      <td>NaN</td>\n",
       "    </tr>\n",
       "    <tr>\n",
       "      <th>2</th>\n",
       "      <td>mario kart wii</td>\n",
       "      <td>wii</td>\n",
       "      <td>2008.0</td>\n",
       "      <td>racing</td>\n",
       "      <td>15.68</td>\n",
       "      <td>12.76</td>\n",
       "      <td>3.79</td>\n",
       "      <td>3.29</td>\n",
       "      <td>82.0</td>\n",
       "      <td>8.3</td>\n",
       "      <td>E</td>\n",
       "    </tr>\n",
       "    <tr>\n",
       "      <th>3</th>\n",
       "      <td>wii sports resort</td>\n",
       "      <td>wii</td>\n",
       "      <td>2009.0</td>\n",
       "      <td>sports</td>\n",
       "      <td>15.61</td>\n",
       "      <td>10.93</td>\n",
       "      <td>3.28</td>\n",
       "      <td>2.95</td>\n",
       "      <td>80.0</td>\n",
       "      <td>8</td>\n",
       "      <td>E</td>\n",
       "    </tr>\n",
       "    <tr>\n",
       "      <th>4</th>\n",
       "      <td>pokemon red/pokemon blue</td>\n",
       "      <td>gb</td>\n",
       "      <td>1996.0</td>\n",
       "      <td>role-playing</td>\n",
       "      <td>11.27</td>\n",
       "      <td>8.89</td>\n",
       "      <td>10.22</td>\n",
       "      <td>1.00</td>\n",
       "      <td>NaN</td>\n",
       "      <td>NaN</td>\n",
       "      <td>NaN</td>\n",
       "    </tr>\n",
       "    <tr>\n",
       "      <th>5</th>\n",
       "      <td>tetris</td>\n",
       "      <td>gb</td>\n",
       "      <td>1989.0</td>\n",
       "      <td>puzzle</td>\n",
       "      <td>23.20</td>\n",
       "      <td>2.26</td>\n",
       "      <td>4.22</td>\n",
       "      <td>0.58</td>\n",
       "      <td>NaN</td>\n",
       "      <td>NaN</td>\n",
       "      <td>NaN</td>\n",
       "    </tr>\n",
       "    <tr>\n",
       "      <th>6</th>\n",
       "      <td>new super mario bros.</td>\n",
       "      <td>ds</td>\n",
       "      <td>2006.0</td>\n",
       "      <td>platform</td>\n",
       "      <td>11.28</td>\n",
       "      <td>9.14</td>\n",
       "      <td>6.50</td>\n",
       "      <td>2.88</td>\n",
       "      <td>89.0</td>\n",
       "      <td>8.5</td>\n",
       "      <td>E</td>\n",
       "    </tr>\n",
       "    <tr>\n",
       "      <th>7</th>\n",
       "      <td>wii play</td>\n",
       "      <td>wii</td>\n",
       "      <td>2006.0</td>\n",
       "      <td>misc</td>\n",
       "      <td>13.96</td>\n",
       "      <td>9.18</td>\n",
       "      <td>2.93</td>\n",
       "      <td>2.84</td>\n",
       "      <td>58.0</td>\n",
       "      <td>6.6</td>\n",
       "      <td>E</td>\n",
       "    </tr>\n",
       "    <tr>\n",
       "      <th>8</th>\n",
       "      <td>new super mario bros. wii</td>\n",
       "      <td>wii</td>\n",
       "      <td>2009.0</td>\n",
       "      <td>platform</td>\n",
       "      <td>14.44</td>\n",
       "      <td>6.94</td>\n",
       "      <td>4.70</td>\n",
       "      <td>2.24</td>\n",
       "      <td>87.0</td>\n",
       "      <td>8.4</td>\n",
       "      <td>E</td>\n",
       "    </tr>\n",
       "    <tr>\n",
       "      <th>9</th>\n",
       "      <td>duck hunt</td>\n",
       "      <td>nes</td>\n",
       "      <td>1984.0</td>\n",
       "      <td>shooter</td>\n",
       "      <td>26.93</td>\n",
       "      <td>0.63</td>\n",
       "      <td>0.28</td>\n",
       "      <td>0.47</td>\n",
       "      <td>NaN</td>\n",
       "      <td>NaN</td>\n",
       "      <td>NaN</td>\n",
       "    </tr>\n",
       "  </tbody>\n",
       "</table>\n",
       "</div>"
      ],
      "text/plain": [
       "                        Name Platform  Year_of_Release         Genre  \\\n",
       "0                 wii sports      wii           2006.0        sports   \n",
       "1          super mario bros.      nes           1985.0      platform   \n",
       "2             mario kart wii      wii           2008.0        racing   \n",
       "3          wii sports resort      wii           2009.0        sports   \n",
       "4   pokemon red/pokemon blue       gb           1996.0  role-playing   \n",
       "5                     tetris       gb           1989.0        puzzle   \n",
       "6      new super mario bros.       ds           2006.0      platform   \n",
       "7                   wii play      wii           2006.0          misc   \n",
       "8  new super mario bros. wii      wii           2009.0      platform   \n",
       "9                  duck hunt      nes           1984.0       shooter   \n",
       "\n",
       "   NA_sales  EU_sales  JP_sales  Other_sales  Critic_Score User_Score Rating  \n",
       "0     41.36     28.96      3.77         8.45          76.0          8      E  \n",
       "1     29.08      3.58      6.81         0.77           NaN        NaN    NaN  \n",
       "2     15.68     12.76      3.79         3.29          82.0        8.3      E  \n",
       "3     15.61     10.93      3.28         2.95          80.0          8      E  \n",
       "4     11.27      8.89     10.22         1.00           NaN        NaN    NaN  \n",
       "5     23.20      2.26      4.22         0.58           NaN        NaN    NaN  \n",
       "6     11.28      9.14      6.50         2.88          89.0        8.5      E  \n",
       "7     13.96      9.18      2.93         2.84          58.0        6.6      E  \n",
       "8     14.44      6.94      4.70         2.24          87.0        8.4      E  \n",
       "9     26.93      0.63      0.28         0.47           NaN        NaN    NaN  "
      ]
     },
     "execution_count": 3,
     "metadata": {},
     "output_type": "execute_result"
    }
   ],
   "source": [
    "df['Name'] = df['Name'].str.lower()\n",
    "df['Platform'] = df['Platform'].str.lower()\n",
    "df['Genre'] = df['Genre'].str.lower()\n",
    "df.head(10)"
   ]
  },
  {
   "cell_type": "code",
   "execution_count": 4,
   "metadata": {},
   "outputs": [
    {
     "name": "stdout",
     "output_type": "stream",
     "text": [
      "<class 'pandas.core.frame.DataFrame'>\n",
      "RangeIndex: 16715 entries, 0 to 16714\n",
      "Data columns (total 11 columns):\n",
      " #   Column           Non-Null Count  Dtype  \n",
      "---  ------           --------------  -----  \n",
      " 0   Name             16713 non-null  object \n",
      " 1   Platform         16715 non-null  object \n",
      " 2   Year_of_Release  16446 non-null  float64\n",
      " 3   Genre            16713 non-null  object \n",
      " 4   NA_sales         16715 non-null  float64\n",
      " 5   EU_sales         16715 non-null  float64\n",
      " 6   JP_sales         16715 non-null  float64\n",
      " 7   Other_sales      16715 non-null  float64\n",
      " 8   Critic_Score     8137 non-null   float64\n",
      " 9   User_Score       10014 non-null  object \n",
      " 10  Rating           9949 non-null   object \n",
      "dtypes: float64(6), object(5)\n",
      "memory usage: 1.4+ MB\n"
     ]
    }
   ],
   "source": [
    "df.info()"
   ]
  },
  {
   "cell_type": "code",
   "execution_count": 5,
   "metadata": {},
   "outputs": [
    {
     "data": {
      "text/plain": [
       "array([76., nan, 82., 80., 89., 58., 87., 91., 61., 97., 95., 77., 88.,\n",
       "       83., 94., 93., 85., 86., 98., 96., 90., 84., 73., 74., 78., 92.,\n",
       "       71., 72., 68., 62., 49., 67., 81., 66., 56., 79., 70., 59., 64.,\n",
       "       75., 60., 63., 69., 50., 25., 42., 44., 55., 48., 57., 29., 47.,\n",
       "       65., 54., 20., 53., 37., 38., 33., 52., 30., 32., 43., 45., 51.,\n",
       "       40., 46., 39., 34., 35., 41., 36., 28., 31., 27., 26., 19., 23.,\n",
       "       24., 21., 17., 22., 13.])"
      ]
     },
     "execution_count": 5,
     "metadata": {},
     "output_type": "execute_result"
    }
   ],
   "source": [
    "df['Critic_Score'].unique() # оценки критиков рассчитываются по 100-бальной шкале"
   ]
  },
  {
   "cell_type": "code",
   "execution_count": 6,
   "metadata": {},
   "outputs": [
    {
     "data": {
      "text/plain": [
       "array(['8', nan, '8.3', '8.5', '6.6', '8.4', '8.6', '7.7', '6.3', '7.4',\n",
       "       '8.2', '9', '7.9', '8.1', '8.7', '7.1', '3.4', '5.3', '4.8', '3.2',\n",
       "       '8.9', '6.4', '7.8', '7.5', '2.6', '7.2', '9.2', '7', '7.3', '4.3',\n",
       "       '7.6', '5.7', '5', '9.1', '6.5', 'tbd', '8.8', '6.9', '9.4', '6.8',\n",
       "       '6.1', '6.7', '5.4', '4', '4.9', '4.5', '9.3', '6.2', '4.2', '6',\n",
       "       '3.7', '4.1', '5.8', '5.6', '5.5', '4.4', '4.6', '5.9', '3.9',\n",
       "       '3.1', '2.9', '5.2', '3.3', '4.7', '5.1', '3.5', '2.5', '1.9', '3',\n",
       "       '2.7', '2.2', '2', '9.5', '2.1', '3.6', '2.8', '1.8', '3.8', '0',\n",
       "       '1.6', '9.6', '2.4', '1.7', '1.1', '0.3', '1.5', '0.7', '1.2',\n",
       "       '2.3', '0.5', '1.3', '0.2', '0.6', '1.4', '0.9', '1', '9.7'],\n",
       "      dtype=object)"
      ]
     },
     "execution_count": 6,
     "metadata": {},
     "output_type": "execute_result"
    }
   ],
   "source": [
    "df['User_Score'].unique() # оценки критиков рассчитываются по 10-бальной шкале"
   ]
  },
  {
   "cell_type": "code",
   "execution_count": 7,
   "metadata": {},
   "outputs": [
    {
     "data": {
      "text/plain": [
       "0"
      ]
     },
     "execution_count": 7,
     "metadata": {},
     "output_type": "execute_result"
    }
   ],
   "source": [
    "df.duplicated().sum() #дубликаты отсутствуют"
   ]
  },
  {
   "cell_type": "markdown",
   "metadata": {},
   "source": [
    "Обработаем пропуски"
   ]
  },
  {
   "cell_type": "code",
   "execution_count": 8,
   "metadata": {},
   "outputs": [
    {
     "data": {
      "text/plain": [
       "2"
      ]
     },
     "execution_count": 8,
     "metadata": {},
     "output_type": "execute_result"
    }
   ],
   "source": [
    "df['Name'].isna().sum() #есть 2 пропущенных значения"
   ]
  },
  {
   "cell_type": "markdown",
   "metadata": {},
   "source": [
    "Удалим эти значения, так как клиента не интересуют игры, у которых не указано название"
   ]
  },
  {
   "cell_type": "code",
   "execution_count": 9,
   "metadata": {},
   "outputs": [
    {
     "data": {
      "text/html": [
       "<div>\n",
       "<style scoped>\n",
       "    .dataframe tbody tr th:only-of-type {\n",
       "        vertical-align: middle;\n",
       "    }\n",
       "\n",
       "    .dataframe tbody tr th {\n",
       "        vertical-align: top;\n",
       "    }\n",
       "\n",
       "    .dataframe thead th {\n",
       "        text-align: right;\n",
       "    }\n",
       "</style>\n",
       "<table border=\"1\" class=\"dataframe\">\n",
       "  <thead>\n",
       "    <tr style=\"text-align: right;\">\n",
       "      <th></th>\n",
       "      <th>Name</th>\n",
       "      <th>Platform</th>\n",
       "      <th>Year_of_Release</th>\n",
       "      <th>Genre</th>\n",
       "      <th>NA_sales</th>\n",
       "      <th>EU_sales</th>\n",
       "      <th>JP_sales</th>\n",
       "      <th>Other_sales</th>\n",
       "      <th>Critic_Score</th>\n",
       "      <th>User_Score</th>\n",
       "      <th>Rating</th>\n",
       "    </tr>\n",
       "  </thead>\n",
       "  <tbody>\n",
       "    <tr>\n",
       "      <th>0</th>\n",
       "      <td>wii sports</td>\n",
       "      <td>wii</td>\n",
       "      <td>2006.0</td>\n",
       "      <td>sports</td>\n",
       "      <td>41.36</td>\n",
       "      <td>28.96</td>\n",
       "      <td>3.77</td>\n",
       "      <td>8.45</td>\n",
       "      <td>76.0</td>\n",
       "      <td>8</td>\n",
       "      <td>E</td>\n",
       "    </tr>\n",
       "    <tr>\n",
       "      <th>1</th>\n",
       "      <td>super mario bros.</td>\n",
       "      <td>nes</td>\n",
       "      <td>1985.0</td>\n",
       "      <td>platform</td>\n",
       "      <td>29.08</td>\n",
       "      <td>3.58</td>\n",
       "      <td>6.81</td>\n",
       "      <td>0.77</td>\n",
       "      <td>NaN</td>\n",
       "      <td>NaN</td>\n",
       "      <td>NaN</td>\n",
       "    </tr>\n",
       "    <tr>\n",
       "      <th>2</th>\n",
       "      <td>mario kart wii</td>\n",
       "      <td>wii</td>\n",
       "      <td>2008.0</td>\n",
       "      <td>racing</td>\n",
       "      <td>15.68</td>\n",
       "      <td>12.76</td>\n",
       "      <td>3.79</td>\n",
       "      <td>3.29</td>\n",
       "      <td>82.0</td>\n",
       "      <td>8.3</td>\n",
       "      <td>E</td>\n",
       "    </tr>\n",
       "    <tr>\n",
       "      <th>3</th>\n",
       "      <td>wii sports resort</td>\n",
       "      <td>wii</td>\n",
       "      <td>2009.0</td>\n",
       "      <td>sports</td>\n",
       "      <td>15.61</td>\n",
       "      <td>10.93</td>\n",
       "      <td>3.28</td>\n",
       "      <td>2.95</td>\n",
       "      <td>80.0</td>\n",
       "      <td>8</td>\n",
       "      <td>E</td>\n",
       "    </tr>\n",
       "    <tr>\n",
       "      <th>4</th>\n",
       "      <td>pokemon red/pokemon blue</td>\n",
       "      <td>gb</td>\n",
       "      <td>1996.0</td>\n",
       "      <td>role-playing</td>\n",
       "      <td>11.27</td>\n",
       "      <td>8.89</td>\n",
       "      <td>10.22</td>\n",
       "      <td>1.00</td>\n",
       "      <td>NaN</td>\n",
       "      <td>NaN</td>\n",
       "      <td>NaN</td>\n",
       "    </tr>\n",
       "    <tr>\n",
       "      <th>...</th>\n",
       "      <td>...</td>\n",
       "      <td>...</td>\n",
       "      <td>...</td>\n",
       "      <td>...</td>\n",
       "      <td>...</td>\n",
       "      <td>...</td>\n",
       "      <td>...</td>\n",
       "      <td>...</td>\n",
       "      <td>...</td>\n",
       "      <td>...</td>\n",
       "      <td>...</td>\n",
       "    </tr>\n",
       "    <tr>\n",
       "      <th>16710</th>\n",
       "      <td>samurai warriors: sanada maru</td>\n",
       "      <td>ps3</td>\n",
       "      <td>2016.0</td>\n",
       "      <td>action</td>\n",
       "      <td>0.00</td>\n",
       "      <td>0.00</td>\n",
       "      <td>0.01</td>\n",
       "      <td>0.00</td>\n",
       "      <td>NaN</td>\n",
       "      <td>NaN</td>\n",
       "      <td>NaN</td>\n",
       "    </tr>\n",
       "    <tr>\n",
       "      <th>16711</th>\n",
       "      <td>lma manager 2007</td>\n",
       "      <td>x360</td>\n",
       "      <td>2006.0</td>\n",
       "      <td>sports</td>\n",
       "      <td>0.00</td>\n",
       "      <td>0.01</td>\n",
       "      <td>0.00</td>\n",
       "      <td>0.00</td>\n",
       "      <td>NaN</td>\n",
       "      <td>NaN</td>\n",
       "      <td>NaN</td>\n",
       "    </tr>\n",
       "    <tr>\n",
       "      <th>16712</th>\n",
       "      <td>haitaka no psychedelica</td>\n",
       "      <td>psv</td>\n",
       "      <td>2016.0</td>\n",
       "      <td>adventure</td>\n",
       "      <td>0.00</td>\n",
       "      <td>0.00</td>\n",
       "      <td>0.01</td>\n",
       "      <td>0.00</td>\n",
       "      <td>NaN</td>\n",
       "      <td>NaN</td>\n",
       "      <td>NaN</td>\n",
       "    </tr>\n",
       "    <tr>\n",
       "      <th>16713</th>\n",
       "      <td>spirits &amp; spells</td>\n",
       "      <td>gba</td>\n",
       "      <td>2003.0</td>\n",
       "      <td>platform</td>\n",
       "      <td>0.01</td>\n",
       "      <td>0.00</td>\n",
       "      <td>0.00</td>\n",
       "      <td>0.00</td>\n",
       "      <td>NaN</td>\n",
       "      <td>NaN</td>\n",
       "      <td>NaN</td>\n",
       "    </tr>\n",
       "    <tr>\n",
       "      <th>16714</th>\n",
       "      <td>winning post 8 2016</td>\n",
       "      <td>psv</td>\n",
       "      <td>2016.0</td>\n",
       "      <td>simulation</td>\n",
       "      <td>0.00</td>\n",
       "      <td>0.00</td>\n",
       "      <td>0.01</td>\n",
       "      <td>0.00</td>\n",
       "      <td>NaN</td>\n",
       "      <td>NaN</td>\n",
       "      <td>NaN</td>\n",
       "    </tr>\n",
       "  </tbody>\n",
       "</table>\n",
       "<p>16713 rows × 11 columns</p>\n",
       "</div>"
      ],
      "text/plain": [
       "                                Name Platform  Year_of_Release         Genre  \\\n",
       "0                         wii sports      wii           2006.0        sports   \n",
       "1                  super mario bros.      nes           1985.0      platform   \n",
       "2                     mario kart wii      wii           2008.0        racing   \n",
       "3                  wii sports resort      wii           2009.0        sports   \n",
       "4           pokemon red/pokemon blue       gb           1996.0  role-playing   \n",
       "...                              ...      ...              ...           ...   \n",
       "16710  samurai warriors: sanada maru      ps3           2016.0        action   \n",
       "16711               lma manager 2007     x360           2006.0        sports   \n",
       "16712        haitaka no psychedelica      psv           2016.0     adventure   \n",
       "16713               spirits & spells      gba           2003.0      platform   \n",
       "16714            winning post 8 2016      psv           2016.0    simulation   \n",
       "\n",
       "       NA_sales  EU_sales  JP_sales  Other_sales  Critic_Score User_Score  \\\n",
       "0         41.36     28.96      3.77         8.45          76.0          8   \n",
       "1         29.08      3.58      6.81         0.77           NaN        NaN   \n",
       "2         15.68     12.76      3.79         3.29          82.0        8.3   \n",
       "3         15.61     10.93      3.28         2.95          80.0          8   \n",
       "4         11.27      8.89     10.22         1.00           NaN        NaN   \n",
       "...         ...       ...       ...          ...           ...        ...   \n",
       "16710      0.00      0.00      0.01         0.00           NaN        NaN   \n",
       "16711      0.00      0.01      0.00         0.00           NaN        NaN   \n",
       "16712      0.00      0.00      0.01         0.00           NaN        NaN   \n",
       "16713      0.01      0.00      0.00         0.00           NaN        NaN   \n",
       "16714      0.00      0.00      0.01         0.00           NaN        NaN   \n",
       "\n",
       "      Rating  \n",
       "0          E  \n",
       "1        NaN  \n",
       "2          E  \n",
       "3          E  \n",
       "4        NaN  \n",
       "...      ...  \n",
       "16710    NaN  \n",
       "16711    NaN  \n",
       "16712    NaN  \n",
       "16713    NaN  \n",
       "16714    NaN  \n",
       "\n",
       "[16713 rows x 11 columns]"
      ]
     },
     "execution_count": 9,
     "metadata": {},
     "output_type": "execute_result"
    }
   ],
   "source": [
    "df.dropna(subset = ['Name'])"
   ]
  },
  {
   "cell_type": "code",
   "execution_count": 10,
   "metadata": {},
   "outputs": [
    {
     "data": {
      "text/plain": [
       "array(['wii', 'nes', 'gb', 'ds', 'x360', 'ps3', 'ps2', 'snes', 'gba',\n",
       "       'ps4', '3ds', 'n64', 'ps', 'xb', 'pc', '2600', 'psp', 'xone',\n",
       "       'wiiu', 'gc', 'gen', 'dc', 'psv', 'sat', 'scd', 'ws', 'ng', 'tg16',\n",
       "       '3do', 'gg', 'pcfx'], dtype=object)"
      ]
     },
     "execution_count": 10,
     "metadata": {},
     "output_type": "execute_result"
    }
   ],
   "source": [
    "df['Platform'].unique() #нет пропущенных значений"
   ]
  },
  {
   "cell_type": "markdown",
   "metadata": {},
   "source": [
    "Существует реальный пользовательский рейтинг 0. Могут смешаться пропуски и оценки 0, если заполнять нулями. Поэтому значения NaN в рейтингах заменять не будем"
   ]
  },
  {
   "cell_type": "code",
   "execution_count": 11,
   "metadata": {},
   "outputs": [
    {
     "data": {
      "text/plain": [
       "array(['8', nan, '8.3', '8.5', '6.6', '8.4', '8.6', '7.7', '6.3', '7.4',\n",
       "       '8.2', '9', '7.9', '8.1', '8.7', '7.1', '3.4', '5.3', '4.8', '3.2',\n",
       "       '8.9', '6.4', '7.8', '7.5', '2.6', '7.2', '9.2', '7', '7.3', '4.3',\n",
       "       '7.6', '5.7', '5', '9.1', '6.5', 'tbd', '8.8', '6.9', '9.4', '6.8',\n",
       "       '6.1', '6.7', '5.4', '4', '4.9', '4.5', '9.3', '6.2', '4.2', '6',\n",
       "       '3.7', '4.1', '5.8', '5.6', '5.5', '4.4', '4.6', '5.9', '3.9',\n",
       "       '3.1', '2.9', '5.2', '3.3', '4.7', '5.1', '3.5', '2.5', '1.9', '3',\n",
       "       '2.7', '2.2', '2', '9.5', '2.1', '3.6', '2.8', '1.8', '3.8', '0',\n",
       "       '1.6', '9.6', '2.4', '1.7', '1.1', '0.3', '1.5', '0.7', '1.2',\n",
       "       '2.3', '0.5', '1.3', '0.2', '0.6', '1.4', '0.9', '1', '9.7'],\n",
       "      dtype=object)"
      ]
     },
     "execution_count": 11,
     "metadata": {},
     "output_type": "execute_result"
    }
   ],
   "source": [
    "df['User_Score'].unique()"
   ]
  },
  {
   "cell_type": "code",
   "execution_count": 12,
   "metadata": {},
   "outputs": [
    {
     "data": {
      "text/html": [
       "<div>\n",
       "<style scoped>\n",
       "    .dataframe tbody tr th:only-of-type {\n",
       "        vertical-align: middle;\n",
       "    }\n",
       "\n",
       "    .dataframe tbody tr th {\n",
       "        vertical-align: top;\n",
       "    }\n",
       "\n",
       "    .dataframe thead th {\n",
       "        text-align: right;\n",
       "    }\n",
       "</style>\n",
       "<table border=\"1\" class=\"dataframe\">\n",
       "  <thead>\n",
       "    <tr style=\"text-align: right;\">\n",
       "      <th></th>\n",
       "      <th>Name</th>\n",
       "      <th>Platform</th>\n",
       "      <th>Year_of_Release</th>\n",
       "      <th>Genre</th>\n",
       "      <th>NA_sales</th>\n",
       "      <th>EU_sales</th>\n",
       "      <th>JP_sales</th>\n",
       "      <th>Other_sales</th>\n",
       "      <th>Critic_Score</th>\n",
       "      <th>User_Score</th>\n",
       "      <th>Rating</th>\n",
       "    </tr>\n",
       "  </thead>\n",
       "  <tbody>\n",
       "    <tr>\n",
       "      <th>0</th>\n",
       "      <td>wii sports</td>\n",
       "      <td>wii</td>\n",
       "      <td>2006.0</td>\n",
       "      <td>sports</td>\n",
       "      <td>41.36</td>\n",
       "      <td>28.96</td>\n",
       "      <td>3.77</td>\n",
       "      <td>8.45</td>\n",
       "      <td>76.0</td>\n",
       "      <td>8</td>\n",
       "      <td>E</td>\n",
       "    </tr>\n",
       "    <tr>\n",
       "      <th>1</th>\n",
       "      <td>super mario bros.</td>\n",
       "      <td>nes</td>\n",
       "      <td>1985.0</td>\n",
       "      <td>platform</td>\n",
       "      <td>29.08</td>\n",
       "      <td>3.58</td>\n",
       "      <td>6.81</td>\n",
       "      <td>0.77</td>\n",
       "      <td>NaN</td>\n",
       "      <td>NaN</td>\n",
       "      <td>NaN</td>\n",
       "    </tr>\n",
       "    <tr>\n",
       "      <th>2</th>\n",
       "      <td>mario kart wii</td>\n",
       "      <td>wii</td>\n",
       "      <td>2008.0</td>\n",
       "      <td>racing</td>\n",
       "      <td>15.68</td>\n",
       "      <td>12.76</td>\n",
       "      <td>3.79</td>\n",
       "      <td>3.29</td>\n",
       "      <td>82.0</td>\n",
       "      <td>8.3</td>\n",
       "      <td>E</td>\n",
       "    </tr>\n",
       "    <tr>\n",
       "      <th>3</th>\n",
       "      <td>wii sports resort</td>\n",
       "      <td>wii</td>\n",
       "      <td>2009.0</td>\n",
       "      <td>sports</td>\n",
       "      <td>15.61</td>\n",
       "      <td>10.93</td>\n",
       "      <td>3.28</td>\n",
       "      <td>2.95</td>\n",
       "      <td>80.0</td>\n",
       "      <td>8</td>\n",
       "      <td>E</td>\n",
       "    </tr>\n",
       "    <tr>\n",
       "      <th>4</th>\n",
       "      <td>pokemon red/pokemon blue</td>\n",
       "      <td>gb</td>\n",
       "      <td>1996.0</td>\n",
       "      <td>role-playing</td>\n",
       "      <td>11.27</td>\n",
       "      <td>8.89</td>\n",
       "      <td>10.22</td>\n",
       "      <td>1.00</td>\n",
       "      <td>NaN</td>\n",
       "      <td>NaN</td>\n",
       "      <td>NaN</td>\n",
       "    </tr>\n",
       "    <tr>\n",
       "      <th>...</th>\n",
       "      <td>...</td>\n",
       "      <td>...</td>\n",
       "      <td>...</td>\n",
       "      <td>...</td>\n",
       "      <td>...</td>\n",
       "      <td>...</td>\n",
       "      <td>...</td>\n",
       "      <td>...</td>\n",
       "      <td>...</td>\n",
       "      <td>...</td>\n",
       "      <td>...</td>\n",
       "    </tr>\n",
       "    <tr>\n",
       "      <th>16710</th>\n",
       "      <td>samurai warriors: sanada maru</td>\n",
       "      <td>ps3</td>\n",
       "      <td>2016.0</td>\n",
       "      <td>action</td>\n",
       "      <td>0.00</td>\n",
       "      <td>0.00</td>\n",
       "      <td>0.01</td>\n",
       "      <td>0.00</td>\n",
       "      <td>NaN</td>\n",
       "      <td>NaN</td>\n",
       "      <td>NaN</td>\n",
       "    </tr>\n",
       "    <tr>\n",
       "      <th>16711</th>\n",
       "      <td>lma manager 2007</td>\n",
       "      <td>x360</td>\n",
       "      <td>2006.0</td>\n",
       "      <td>sports</td>\n",
       "      <td>0.00</td>\n",
       "      <td>0.01</td>\n",
       "      <td>0.00</td>\n",
       "      <td>0.00</td>\n",
       "      <td>NaN</td>\n",
       "      <td>NaN</td>\n",
       "      <td>NaN</td>\n",
       "    </tr>\n",
       "    <tr>\n",
       "      <th>16712</th>\n",
       "      <td>haitaka no psychedelica</td>\n",
       "      <td>psv</td>\n",
       "      <td>2016.0</td>\n",
       "      <td>adventure</td>\n",
       "      <td>0.00</td>\n",
       "      <td>0.00</td>\n",
       "      <td>0.01</td>\n",
       "      <td>0.00</td>\n",
       "      <td>NaN</td>\n",
       "      <td>NaN</td>\n",
       "      <td>NaN</td>\n",
       "    </tr>\n",
       "    <tr>\n",
       "      <th>16713</th>\n",
       "      <td>spirits &amp; spells</td>\n",
       "      <td>gba</td>\n",
       "      <td>2003.0</td>\n",
       "      <td>platform</td>\n",
       "      <td>0.01</td>\n",
       "      <td>0.00</td>\n",
       "      <td>0.00</td>\n",
       "      <td>0.00</td>\n",
       "      <td>NaN</td>\n",
       "      <td>NaN</td>\n",
       "      <td>NaN</td>\n",
       "    </tr>\n",
       "    <tr>\n",
       "      <th>16714</th>\n",
       "      <td>winning post 8 2016</td>\n",
       "      <td>psv</td>\n",
       "      <td>2016.0</td>\n",
       "      <td>simulation</td>\n",
       "      <td>0.00</td>\n",
       "      <td>0.00</td>\n",
       "      <td>0.01</td>\n",
       "      <td>0.00</td>\n",
       "      <td>NaN</td>\n",
       "      <td>NaN</td>\n",
       "      <td>NaN</td>\n",
       "    </tr>\n",
       "  </tbody>\n",
       "</table>\n",
       "<p>16715 rows × 11 columns</p>\n",
       "</div>"
      ],
      "text/plain": [
       "                                Name Platform  Year_of_Release         Genre  \\\n",
       "0                         wii sports      wii           2006.0        sports   \n",
       "1                  super mario bros.      nes           1985.0      platform   \n",
       "2                     mario kart wii      wii           2008.0        racing   \n",
       "3                  wii sports resort      wii           2009.0        sports   \n",
       "4           pokemon red/pokemon blue       gb           1996.0  role-playing   \n",
       "...                              ...      ...              ...           ...   \n",
       "16710  samurai warriors: sanada maru      ps3           2016.0        action   \n",
       "16711               lma manager 2007     x360           2006.0        sports   \n",
       "16712        haitaka no psychedelica      psv           2016.0     adventure   \n",
       "16713               spirits & spells      gba           2003.0      platform   \n",
       "16714            winning post 8 2016      psv           2016.0    simulation   \n",
       "\n",
       "       NA_sales  EU_sales  JP_sales  Other_sales  Critic_Score User_Score  \\\n",
       "0         41.36     28.96      3.77         8.45          76.0          8   \n",
       "1         29.08      3.58      6.81         0.77           NaN        NaN   \n",
       "2         15.68     12.76      3.79         3.29          82.0        8.3   \n",
       "3         15.61     10.93      3.28         2.95          80.0          8   \n",
       "4         11.27      8.89     10.22         1.00           NaN        NaN   \n",
       "...         ...       ...       ...          ...           ...        ...   \n",
       "16710      0.00      0.00      0.01         0.00           NaN        NaN   \n",
       "16711      0.00      0.01      0.00         0.00           NaN        NaN   \n",
       "16712      0.00      0.00      0.01         0.00           NaN        NaN   \n",
       "16713      0.01      0.00      0.00         0.00           NaN        NaN   \n",
       "16714      0.00      0.00      0.01         0.00           NaN        NaN   \n",
       "\n",
       "      Rating  \n",
       "0          E  \n",
       "1        NaN  \n",
       "2          E  \n",
       "3          E  \n",
       "4        NaN  \n",
       "...      ...  \n",
       "16710    NaN  \n",
       "16711    NaN  \n",
       "16712    NaN  \n",
       "16713    NaN  \n",
       "16714    NaN  \n",
       "\n",
       "[16715 rows x 11 columns]"
      ]
     },
     "execution_count": 12,
     "metadata": {},
     "output_type": "execute_result"
    }
   ],
   "source": [
    "df"
   ]
  },
  {
   "cell_type": "markdown",
   "metadata": {},
   "source": [
    "В столбцах продаж не будем заменять значения NaN, так как они, скорее всего, не равны нулю. Также они независимы между собой, чтобы заменять их на медиану или среднее"
   ]
  },
  {
   "cell_type": "markdown",
   "metadata": {},
   "source": [
    "Пропуски в столбцах могли появится из-за некачественного заполнения или из-за того, что компания-производитль не предоставила данную информацию"
   ]
  },
  {
   "cell_type": "code",
   "execution_count": 13,
   "metadata": {},
   "outputs": [
    {
     "data": {
      "text/plain": [
       "array(['E', nan, 'M', 'T', 'E10+', 'K-A', 'AO', 'EC', 'RP'], dtype=object)"
      ]
     },
     "execution_count": 13,
     "metadata": {},
     "output_type": "execute_result"
    }
   ],
   "source": [
    "df['Rating'].unique()"
   ]
  },
  {
   "cell_type": "markdown",
   "metadata": {},
   "source": [
    "**В столбце Rating много пропусков и они не случайны, скорее всего эти игры не получили оценок, поскольку могли быть выпущены до того как появилась система ESRB или просто еще не успели их оценить. Заменим их на значение \"unknown\"**"
   ]
  },
  {
   "cell_type": "code",
   "execution_count": 14,
   "metadata": {},
   "outputs": [],
   "source": [
    "df['Rating'] = df['Rating'].fillna('unknown')"
   ]
  },
  {
   "cell_type": "code",
   "execution_count": 15,
   "metadata": {},
   "outputs": [
    {
     "data": {
      "text/plain": [
       "array(['E', 'unknown', 'M', 'T', 'E10+', 'K-A', 'AO', 'EC', 'RP'],\n",
       "      dtype=object)"
      ]
     },
     "execution_count": 15,
     "metadata": {},
     "output_type": "execute_result"
    }
   ],
   "source": [
    "df['Rating'].unique()"
   ]
  },
  {
   "cell_type": "markdown",
   "metadata": {},
   "source": [
    "Посмотрим на строки, в которых рейтинг пользователей равен tbd"
   ]
  },
  {
   "cell_type": "code",
   "execution_count": 16,
   "metadata": {},
   "outputs": [
    {
     "data": {
      "text/html": [
       "<div>\n",
       "<style scoped>\n",
       "    .dataframe tbody tr th:only-of-type {\n",
       "        vertical-align: middle;\n",
       "    }\n",
       "\n",
       "    .dataframe tbody tr th {\n",
       "        vertical-align: top;\n",
       "    }\n",
       "\n",
       "    .dataframe thead th {\n",
       "        text-align: right;\n",
       "    }\n",
       "</style>\n",
       "<table border=\"1\" class=\"dataframe\">\n",
       "  <thead>\n",
       "    <tr style=\"text-align: right;\">\n",
       "      <th></th>\n",
       "      <th>Name</th>\n",
       "      <th>Platform</th>\n",
       "      <th>Year_of_Release</th>\n",
       "      <th>Genre</th>\n",
       "      <th>NA_sales</th>\n",
       "      <th>EU_sales</th>\n",
       "      <th>JP_sales</th>\n",
       "      <th>Other_sales</th>\n",
       "      <th>Critic_Score</th>\n",
       "      <th>User_Score</th>\n",
       "      <th>Rating</th>\n",
       "    </tr>\n",
       "  </thead>\n",
       "  <tbody>\n",
       "    <tr>\n",
       "      <th>119</th>\n",
       "      <td>zumba fitness</td>\n",
       "      <td>wii</td>\n",
       "      <td>2010.0</td>\n",
       "      <td>sports</td>\n",
       "      <td>3.45</td>\n",
       "      <td>2.59</td>\n",
       "      <td>0.0</td>\n",
       "      <td>0.66</td>\n",
       "      <td>NaN</td>\n",
       "      <td>tbd</td>\n",
       "      <td>E</td>\n",
       "    </tr>\n",
       "    <tr>\n",
       "      <th>301</th>\n",
       "      <td>namco museum: 50th anniversary</td>\n",
       "      <td>ps2</td>\n",
       "      <td>2005.0</td>\n",
       "      <td>misc</td>\n",
       "      <td>2.08</td>\n",
       "      <td>1.35</td>\n",
       "      <td>0.0</td>\n",
       "      <td>0.54</td>\n",
       "      <td>61.0</td>\n",
       "      <td>tbd</td>\n",
       "      <td>E10+</td>\n",
       "    </tr>\n",
       "    <tr>\n",
       "      <th>520</th>\n",
       "      <td>zumba fitness 2</td>\n",
       "      <td>wii</td>\n",
       "      <td>2011.0</td>\n",
       "      <td>sports</td>\n",
       "      <td>1.51</td>\n",
       "      <td>1.03</td>\n",
       "      <td>0.0</td>\n",
       "      <td>0.27</td>\n",
       "      <td>NaN</td>\n",
       "      <td>tbd</td>\n",
       "      <td>T</td>\n",
       "    </tr>\n",
       "    <tr>\n",
       "      <th>645</th>\n",
       "      <td>udraw studio</td>\n",
       "      <td>wii</td>\n",
       "      <td>2010.0</td>\n",
       "      <td>misc</td>\n",
       "      <td>1.65</td>\n",
       "      <td>0.57</td>\n",
       "      <td>0.0</td>\n",
       "      <td>0.20</td>\n",
       "      <td>71.0</td>\n",
       "      <td>tbd</td>\n",
       "      <td>E</td>\n",
       "    </tr>\n",
       "    <tr>\n",
       "      <th>657</th>\n",
       "      <td>frogger's adventures: temple of the frog</td>\n",
       "      <td>gba</td>\n",
       "      <td>NaN</td>\n",
       "      <td>adventure</td>\n",
       "      <td>2.15</td>\n",
       "      <td>0.18</td>\n",
       "      <td>0.0</td>\n",
       "      <td>0.07</td>\n",
       "      <td>73.0</td>\n",
       "      <td>tbd</td>\n",
       "      <td>E</td>\n",
       "    </tr>\n",
       "    <tr>\n",
       "      <th>...</th>\n",
       "      <td>...</td>\n",
       "      <td>...</td>\n",
       "      <td>...</td>\n",
       "      <td>...</td>\n",
       "      <td>...</td>\n",
       "      <td>...</td>\n",
       "      <td>...</td>\n",
       "      <td>...</td>\n",
       "      <td>...</td>\n",
       "      <td>...</td>\n",
       "      <td>...</td>\n",
       "    </tr>\n",
       "    <tr>\n",
       "      <th>16695</th>\n",
       "      <td>planet monsters</td>\n",
       "      <td>gba</td>\n",
       "      <td>2001.0</td>\n",
       "      <td>action</td>\n",
       "      <td>0.01</td>\n",
       "      <td>0.00</td>\n",
       "      <td>0.0</td>\n",
       "      <td>0.00</td>\n",
       "      <td>67.0</td>\n",
       "      <td>tbd</td>\n",
       "      <td>E</td>\n",
       "    </tr>\n",
       "    <tr>\n",
       "      <th>16697</th>\n",
       "      <td>bust-a-move 3000</td>\n",
       "      <td>gc</td>\n",
       "      <td>2003.0</td>\n",
       "      <td>puzzle</td>\n",
       "      <td>0.01</td>\n",
       "      <td>0.00</td>\n",
       "      <td>0.0</td>\n",
       "      <td>0.00</td>\n",
       "      <td>53.0</td>\n",
       "      <td>tbd</td>\n",
       "      <td>E</td>\n",
       "    </tr>\n",
       "    <tr>\n",
       "      <th>16698</th>\n",
       "      <td>mega brain boost</td>\n",
       "      <td>ds</td>\n",
       "      <td>2008.0</td>\n",
       "      <td>puzzle</td>\n",
       "      <td>0.01</td>\n",
       "      <td>0.00</td>\n",
       "      <td>0.0</td>\n",
       "      <td>0.00</td>\n",
       "      <td>48.0</td>\n",
       "      <td>tbd</td>\n",
       "      <td>E</td>\n",
       "    </tr>\n",
       "    <tr>\n",
       "      <th>16704</th>\n",
       "      <td>plushees</td>\n",
       "      <td>ds</td>\n",
       "      <td>2008.0</td>\n",
       "      <td>simulation</td>\n",
       "      <td>0.01</td>\n",
       "      <td>0.00</td>\n",
       "      <td>0.0</td>\n",
       "      <td>0.00</td>\n",
       "      <td>NaN</td>\n",
       "      <td>tbd</td>\n",
       "      <td>E</td>\n",
       "    </tr>\n",
       "    <tr>\n",
       "      <th>16706</th>\n",
       "      <td>men in black ii: alien escape</td>\n",
       "      <td>gc</td>\n",
       "      <td>2003.0</td>\n",
       "      <td>shooter</td>\n",
       "      <td>0.01</td>\n",
       "      <td>0.00</td>\n",
       "      <td>0.0</td>\n",
       "      <td>0.00</td>\n",
       "      <td>NaN</td>\n",
       "      <td>tbd</td>\n",
       "      <td>T</td>\n",
       "    </tr>\n",
       "  </tbody>\n",
       "</table>\n",
       "<p>2424 rows × 11 columns</p>\n",
       "</div>"
      ],
      "text/plain": [
       "                                           Name Platform  Year_of_Release  \\\n",
       "119                               zumba fitness      wii           2010.0   \n",
       "301              namco museum: 50th anniversary      ps2           2005.0   \n",
       "520                             zumba fitness 2      wii           2011.0   \n",
       "645                                udraw studio      wii           2010.0   \n",
       "657    frogger's adventures: temple of the frog      gba              NaN   \n",
       "...                                         ...      ...              ...   \n",
       "16695                           planet monsters      gba           2001.0   \n",
       "16697                          bust-a-move 3000       gc           2003.0   \n",
       "16698                          mega brain boost       ds           2008.0   \n",
       "16704                                  plushees       ds           2008.0   \n",
       "16706             men in black ii: alien escape       gc           2003.0   \n",
       "\n",
       "            Genre  NA_sales  EU_sales  JP_sales  Other_sales  Critic_Score  \\\n",
       "119        sports      3.45      2.59       0.0         0.66           NaN   \n",
       "301          misc      2.08      1.35       0.0         0.54          61.0   \n",
       "520        sports      1.51      1.03       0.0         0.27           NaN   \n",
       "645          misc      1.65      0.57       0.0         0.20          71.0   \n",
       "657     adventure      2.15      0.18       0.0         0.07          73.0   \n",
       "...           ...       ...       ...       ...          ...           ...   \n",
       "16695      action      0.01      0.00       0.0         0.00          67.0   \n",
       "16697      puzzle      0.01      0.00       0.0         0.00          53.0   \n",
       "16698      puzzle      0.01      0.00       0.0         0.00          48.0   \n",
       "16704  simulation      0.01      0.00       0.0         0.00           NaN   \n",
       "16706     shooter      0.01      0.00       0.0         0.00           NaN   \n",
       "\n",
       "      User_Score Rating  \n",
       "119          tbd      E  \n",
       "301          tbd   E10+  \n",
       "520          tbd      T  \n",
       "645          tbd      E  \n",
       "657          tbd      E  \n",
       "...          ...    ...  \n",
       "16695        tbd      E  \n",
       "16697        tbd      E  \n",
       "16698        tbd      E  \n",
       "16704        tbd      E  \n",
       "16706        tbd      T  \n",
       "\n",
       "[2424 rows x 11 columns]"
      ]
     },
     "execution_count": 16,
     "metadata": {},
     "output_type": "execute_result"
    }
   ],
   "source": [
    "df.query('User_Score==\"tbd\"')"
   ]
  },
  {
   "cell_type": "markdown",
   "metadata": {},
   "source": [
    "tbd означае, что рейтинг пользователей готовится к выходу. Но он еще не вышел, поэтому заменим значения такого вида на NaN"
   ]
  },
  {
   "cell_type": "code",
   "execution_count": 17,
   "metadata": {},
   "outputs": [],
   "source": [
    "df.loc[df['User_Score'] == 'tbd','User_Score'] = np.nan # проставим np.nan"
   ]
  },
  {
   "cell_type": "code",
   "execution_count": 18,
   "metadata": {
    "scrolled": true
   },
   "outputs": [
    {
     "data": {
      "text/plain": [
       "array([2006., 1985., 2008., 2009., 1996., 1989., 1984., 2005., 1999.,\n",
       "       2007., 2010., 2013., 2004., 1990., 1988., 2002., 2001., 2011.,\n",
       "       1998., 2015., 2012., 2014., 1992., 1997., 1993., 1994., 1982.,\n",
       "       2016., 2003., 1986., 2000.,   nan, 1995., 1991., 1981., 1987.,\n",
       "       1980., 1983.])"
      ]
     },
     "execution_count": 18,
     "metadata": {},
     "output_type": "execute_result"
    }
   ],
   "source": [
    "df['Year_of_Release'].unique()"
   ]
  },
  {
   "cell_type": "markdown",
   "metadata": {},
   "source": [
    "Проверим типы столбцов"
   ]
  },
  {
   "cell_type": "code",
   "execution_count": 19,
   "metadata": {},
   "outputs": [
    {
     "name": "stdout",
     "output_type": "stream",
     "text": [
      "<class 'pandas.core.frame.DataFrame'>\n",
      "RangeIndex: 16715 entries, 0 to 16714\n",
      "Data columns (total 11 columns):\n",
      " #   Column           Non-Null Count  Dtype  \n",
      "---  ------           --------------  -----  \n",
      " 0   Name             16713 non-null  object \n",
      " 1   Platform         16715 non-null  object \n",
      " 2   Year_of_Release  16446 non-null  float64\n",
      " 3   Genre            16713 non-null  object \n",
      " 4   NA_sales         16715 non-null  float64\n",
      " 5   EU_sales         16715 non-null  float64\n",
      " 6   JP_sales         16715 non-null  float64\n",
      " 7   Other_sales      16715 non-null  float64\n",
      " 8   Critic_Score     8137 non-null   float64\n",
      " 9   User_Score       7590 non-null   object \n",
      " 10  Rating           16715 non-null  object \n",
      "dtypes: float64(6), object(5)\n",
      "memory usage: 1.4+ MB\n"
     ]
    }
   ],
   "source": [
    "df.info()"
   ]
  },
  {
   "cell_type": "code",
   "execution_count": 20,
   "metadata": {},
   "outputs": [],
   "source": [
    "df['User_Score'] = df['User_Score'].astype('float64') # преобразуем оценку пользователей к натуральным числам"
   ]
  },
  {
   "cell_type": "code",
   "execution_count": 21,
   "metadata": {},
   "outputs": [
    {
     "name": "stdout",
     "output_type": "stream",
     "text": [
      "<class 'pandas.core.frame.DataFrame'>\n",
      "RangeIndex: 16715 entries, 0 to 16714\n",
      "Data columns (total 11 columns):\n",
      " #   Column           Non-Null Count  Dtype  \n",
      "---  ------           --------------  -----  \n",
      " 0   Name             16713 non-null  object \n",
      " 1   Platform         16715 non-null  object \n",
      " 2   Year_of_Release  16446 non-null  float64\n",
      " 3   Genre            16713 non-null  object \n",
      " 4   NA_sales         16715 non-null  float64\n",
      " 5   EU_sales         16715 non-null  float64\n",
      " 6   JP_sales         16715 non-null  float64\n",
      " 7   Other_sales      16715 non-null  float64\n",
      " 8   Critic_Score     8137 non-null   float64\n",
      " 9   User_Score       7590 non-null   float64\n",
      " 10  Rating           16715 non-null  object \n",
      "dtypes: float64(7), object(4)\n",
      "memory usage: 1.4+ MB\n"
     ]
    }
   ],
   "source": [
    "df.info()"
   ]
  },
  {
   "cell_type": "markdown",
   "metadata": {},
   "source": [
    "**Посчитаем суммарные продажи во всех регионах и запишем их в отдельный столбец:**"
   ]
  },
  {
   "cell_type": "code",
   "execution_count": 22,
   "metadata": {
    "scrolled": true
   },
   "outputs": [
    {
     "data": {
      "text/html": [
       "<div>\n",
       "<style scoped>\n",
       "    .dataframe tbody tr th:only-of-type {\n",
       "        vertical-align: middle;\n",
       "    }\n",
       "\n",
       "    .dataframe tbody tr th {\n",
       "        vertical-align: top;\n",
       "    }\n",
       "\n",
       "    .dataframe thead th {\n",
       "        text-align: right;\n",
       "    }\n",
       "</style>\n",
       "<table border=\"1\" class=\"dataframe\">\n",
       "  <thead>\n",
       "    <tr style=\"text-align: right;\">\n",
       "      <th></th>\n",
       "      <th>Name</th>\n",
       "      <th>Platform</th>\n",
       "      <th>Year_of_Release</th>\n",
       "      <th>Genre</th>\n",
       "      <th>NA_sales</th>\n",
       "      <th>EU_sales</th>\n",
       "      <th>JP_sales</th>\n",
       "      <th>Other_sales</th>\n",
       "      <th>Critic_Score</th>\n",
       "      <th>User_Score</th>\n",
       "      <th>Rating</th>\n",
       "      <th>total_sales</th>\n",
       "    </tr>\n",
       "  </thead>\n",
       "  <tbody>\n",
       "    <tr>\n",
       "      <th>0</th>\n",
       "      <td>wii sports</td>\n",
       "      <td>wii</td>\n",
       "      <td>2006.0</td>\n",
       "      <td>sports</td>\n",
       "      <td>41.36</td>\n",
       "      <td>28.96</td>\n",
       "      <td>3.77</td>\n",
       "      <td>8.45</td>\n",
       "      <td>76.0</td>\n",
       "      <td>8.0</td>\n",
       "      <td>E</td>\n",
       "      <td>74.09</td>\n",
       "    </tr>\n",
       "    <tr>\n",
       "      <th>1</th>\n",
       "      <td>super mario bros.</td>\n",
       "      <td>nes</td>\n",
       "      <td>1985.0</td>\n",
       "      <td>platform</td>\n",
       "      <td>29.08</td>\n",
       "      <td>3.58</td>\n",
       "      <td>6.81</td>\n",
       "      <td>0.77</td>\n",
       "      <td>NaN</td>\n",
       "      <td>NaN</td>\n",
       "      <td>unknown</td>\n",
       "      <td>39.47</td>\n",
       "    </tr>\n",
       "    <tr>\n",
       "      <th>2</th>\n",
       "      <td>mario kart wii</td>\n",
       "      <td>wii</td>\n",
       "      <td>2008.0</td>\n",
       "      <td>racing</td>\n",
       "      <td>15.68</td>\n",
       "      <td>12.76</td>\n",
       "      <td>3.79</td>\n",
       "      <td>3.29</td>\n",
       "      <td>82.0</td>\n",
       "      <td>8.3</td>\n",
       "      <td>E</td>\n",
       "      <td>32.23</td>\n",
       "    </tr>\n",
       "    <tr>\n",
       "      <th>3</th>\n",
       "      <td>wii sports resort</td>\n",
       "      <td>wii</td>\n",
       "      <td>2009.0</td>\n",
       "      <td>sports</td>\n",
       "      <td>15.61</td>\n",
       "      <td>10.93</td>\n",
       "      <td>3.28</td>\n",
       "      <td>2.95</td>\n",
       "      <td>80.0</td>\n",
       "      <td>8.0</td>\n",
       "      <td>E</td>\n",
       "      <td>29.82</td>\n",
       "    </tr>\n",
       "    <tr>\n",
       "      <th>4</th>\n",
       "      <td>pokemon red/pokemon blue</td>\n",
       "      <td>gb</td>\n",
       "      <td>1996.0</td>\n",
       "      <td>role-playing</td>\n",
       "      <td>11.27</td>\n",
       "      <td>8.89</td>\n",
       "      <td>10.22</td>\n",
       "      <td>1.00</td>\n",
       "      <td>NaN</td>\n",
       "      <td>NaN</td>\n",
       "      <td>unknown</td>\n",
       "      <td>30.38</td>\n",
       "    </tr>\n",
       "    <tr>\n",
       "      <th>5</th>\n",
       "      <td>tetris</td>\n",
       "      <td>gb</td>\n",
       "      <td>1989.0</td>\n",
       "      <td>puzzle</td>\n",
       "      <td>23.20</td>\n",
       "      <td>2.26</td>\n",
       "      <td>4.22</td>\n",
       "      <td>0.58</td>\n",
       "      <td>NaN</td>\n",
       "      <td>NaN</td>\n",
       "      <td>unknown</td>\n",
       "      <td>29.68</td>\n",
       "    </tr>\n",
       "    <tr>\n",
       "      <th>6</th>\n",
       "      <td>new super mario bros.</td>\n",
       "      <td>ds</td>\n",
       "      <td>2006.0</td>\n",
       "      <td>platform</td>\n",
       "      <td>11.28</td>\n",
       "      <td>9.14</td>\n",
       "      <td>6.50</td>\n",
       "      <td>2.88</td>\n",
       "      <td>89.0</td>\n",
       "      <td>8.5</td>\n",
       "      <td>E</td>\n",
       "      <td>26.92</td>\n",
       "    </tr>\n",
       "    <tr>\n",
       "      <th>7</th>\n",
       "      <td>wii play</td>\n",
       "      <td>wii</td>\n",
       "      <td>2006.0</td>\n",
       "      <td>misc</td>\n",
       "      <td>13.96</td>\n",
       "      <td>9.18</td>\n",
       "      <td>2.93</td>\n",
       "      <td>2.84</td>\n",
       "      <td>58.0</td>\n",
       "      <td>6.6</td>\n",
       "      <td>E</td>\n",
       "      <td>26.07</td>\n",
       "    </tr>\n",
       "    <tr>\n",
       "      <th>8</th>\n",
       "      <td>new super mario bros. wii</td>\n",
       "      <td>wii</td>\n",
       "      <td>2009.0</td>\n",
       "      <td>platform</td>\n",
       "      <td>14.44</td>\n",
       "      <td>6.94</td>\n",
       "      <td>4.70</td>\n",
       "      <td>2.24</td>\n",
       "      <td>87.0</td>\n",
       "      <td>8.4</td>\n",
       "      <td>E</td>\n",
       "      <td>26.08</td>\n",
       "    </tr>\n",
       "    <tr>\n",
       "      <th>9</th>\n",
       "      <td>duck hunt</td>\n",
       "      <td>nes</td>\n",
       "      <td>1984.0</td>\n",
       "      <td>shooter</td>\n",
       "      <td>26.93</td>\n",
       "      <td>0.63</td>\n",
       "      <td>0.28</td>\n",
       "      <td>0.47</td>\n",
       "      <td>NaN</td>\n",
       "      <td>NaN</td>\n",
       "      <td>unknown</td>\n",
       "      <td>27.84</td>\n",
       "    </tr>\n",
       "  </tbody>\n",
       "</table>\n",
       "</div>"
      ],
      "text/plain": [
       "                        Name Platform  Year_of_Release         Genre  \\\n",
       "0                 wii sports      wii           2006.0        sports   \n",
       "1          super mario bros.      nes           1985.0      platform   \n",
       "2             mario kart wii      wii           2008.0        racing   \n",
       "3          wii sports resort      wii           2009.0        sports   \n",
       "4   pokemon red/pokemon blue       gb           1996.0  role-playing   \n",
       "5                     tetris       gb           1989.0        puzzle   \n",
       "6      new super mario bros.       ds           2006.0      platform   \n",
       "7                   wii play      wii           2006.0          misc   \n",
       "8  new super mario bros. wii      wii           2009.0      platform   \n",
       "9                  duck hunt      nes           1984.0       shooter   \n",
       "\n",
       "   NA_sales  EU_sales  JP_sales  Other_sales  Critic_Score  User_Score  \\\n",
       "0     41.36     28.96      3.77         8.45          76.0         8.0   \n",
       "1     29.08      3.58      6.81         0.77           NaN         NaN   \n",
       "2     15.68     12.76      3.79         3.29          82.0         8.3   \n",
       "3     15.61     10.93      3.28         2.95          80.0         8.0   \n",
       "4     11.27      8.89     10.22         1.00           NaN         NaN   \n",
       "5     23.20      2.26      4.22         0.58           NaN         NaN   \n",
       "6     11.28      9.14      6.50         2.88          89.0         8.5   \n",
       "7     13.96      9.18      2.93         2.84          58.0         6.6   \n",
       "8     14.44      6.94      4.70         2.24          87.0         8.4   \n",
       "9     26.93      0.63      0.28         0.47           NaN         NaN   \n",
       "\n",
       "    Rating  total_sales  \n",
       "0        E        74.09  \n",
       "1  unknown        39.47  \n",
       "2        E        32.23  \n",
       "3        E        29.82  \n",
       "4  unknown        30.38  \n",
       "5  unknown        29.68  \n",
       "6        E        26.92  \n",
       "7        E        26.07  \n",
       "8        E        26.08  \n",
       "9  unknown        27.84  "
      ]
     },
     "execution_count": 22,
     "metadata": {},
     "output_type": "execute_result"
    }
   ],
   "source": [
    "df['total_sales'] = df[['NA_sales','EU_sales','JP_sales']].sum(axis = 1)\n",
    "df.head(10)"
   ]
  },
  {
   "cell_type": "markdown",
   "metadata": {},
   "source": [
    "**Проведем исследовательский анализ данных**"
   ]
  },
  {
   "cell_type": "markdown",
   "metadata": {},
   "source": [
    "*1. Посмотрим, сколько игр выпускалось в разные годы.*"
   ]
  },
  {
   "cell_type": "code",
   "execution_count": 23,
   "metadata": {},
   "outputs": [
    {
     "data": {
      "text/plain": [
       "Year_of_Release\n",
       "1980.0       9\n",
       "1981.0      46\n",
       "1982.0      36\n",
       "1983.0      17\n",
       "1984.0      14\n",
       "1985.0      14\n",
       "1986.0      21\n",
       "1987.0      16\n",
       "1988.0      15\n",
       "1989.0      17\n",
       "1990.0      16\n",
       "1991.0      41\n",
       "1992.0      43\n",
       "1993.0      60\n",
       "1994.0     121\n",
       "1995.0     219\n",
       "1996.0     263\n",
       "1997.0     289\n",
       "1998.0     379\n",
       "1999.0     338\n",
       "2000.0     350\n",
       "2001.0     482\n",
       "2002.0     829\n",
       "2003.0     775\n",
       "2004.0     762\n",
       "2005.0     939\n",
       "2006.0    1006\n",
       "2007.0    1197\n",
       "2008.0    1427\n",
       "2009.0    1426\n",
       "2010.0    1255\n",
       "2011.0    1136\n",
       "2012.0     653\n",
       "2013.0     544\n",
       "2014.0     581\n",
       "2015.0     606\n",
       "2016.0     502\n",
       "Name: Name, dtype: int64"
      ]
     },
     "execution_count": 23,
     "metadata": {},
     "output_type": "execute_result"
    }
   ],
   "source": [
    "df.groupby('Year_of_Release')['Name'].count()"
   ]
  },
  {
   "cell_type": "code",
   "execution_count": 24,
   "metadata": {},
   "outputs": [
    {
     "data": {
      "text/plain": [
       "Text(0, 0.5, 'Количество игр')"
      ]
     },
     "execution_count": 24,
     "metadata": {},
     "output_type": "execute_result"
    },
    {
     "data": {
      "image/png": "[encoded data removed]",
      "text/plain": [
       "<Figure size 432x288 with 1 Axes>"
      ]
     },
     "metadata": {
      "needs_background": "light"
     },
     "output_type": "display_data"
    }
   ],
   "source": [
    "df.hist('Year_of_Release', bins = 15)\n",
    "plt.title('Количество игр по годам выпуска')\n",
    "plt.xlabel('Год выпуска')\n",
    "plt.ylabel('Количество игр')"
   ]
  },
  {
   "cell_type": "markdown",
   "metadata": {},
   "source": [
    "Видно, что был резкий скачёк в выпуске игр в ~2010 годах. До 1992 года выпускалось сравнительно очень небольшое количество игр, поэтому основная работа по анализу будет производиться с играми, выпущенными после 1992 года"
   ]
  },
  {
   "cell_type": "markdown",
   "metadata": {},
   "source": [
    "*2. Посмотрим, как менялись продажи по платформам. Построим сводную таблицу*"
   ]
  },
  {
   "cell_type": "code",
   "execution_count": 25,
   "metadata": {},
   "outputs": [
    {
     "name": "stdout",
     "output_type": "stream",
     "text": [
      "          total_sales\n",
      "Platform             \n",
      "ps2           1062.33\n",
      "x360           885.66\n",
      "wii            828.44\n",
      "ps3            803.97\n",
      "ds             746.86\n",
      "ps             689.95\n",
      "gba            310.12\n",
      "ps4            265.79\n",
      "psp            252.63\n",
      "xb             249.02\n",
      "gb             247.26\n",
      "nes            245.74\n",
      "3ds            245.64\n",
      "pc             237.14\n",
      "n64            214.30\n",
      "snes           196.82\n",
      "gc             193.75\n",
      "xone           145.05\n",
      "2600            96.07\n",
      "wiiu            76.24\n",
      "psv             47.61\n",
      "sat             33.52\n",
      "gen             29.80\n",
      "dc              15.68\n",
      "scd              1.81\n",
      "ng               1.44\n",
      "ws               1.42\n",
      "tg16             0.16\n",
      "3do              0.10\n",
      "gg               0.04\n",
      "pcfx             0.03\n"
     ]
    }
   ],
   "source": [
    "a = df.pivot_table(index = 'Platform', values = 'total_sales', aggfunc = 'sum').sort_values(by = 'total_sales', ascending = False)\n",
    "print(a)"
   ]
  },
  {
   "cell_type": "markdown",
   "metadata": {},
   "source": [
    "Выберем платформы с наибольшими суммарными продажами и построим распределение по годам"
   ]
  },
  {
   "cell_type": "code",
   "execution_count": 26,
   "metadata": {},
   "outputs": [
    {
     "name": "stdout",
     "output_type": "stream",
     "text": [
      "          total_sales\n",
      "Platform             \n",
      "ps2           1062.33\n",
      "x360           885.66\n",
      "wii            828.44\n",
      "ps3            803.97\n",
      "ds             746.86\n",
      "ps             689.95\n"
     ]
    }
   ],
   "source": [
    "print(a.head(6))"
   ]
  },
  {
   "cell_type": "code",
   "execution_count": 27,
   "metadata": {},
   "outputs": [
    {
     "data": {
      "text/plain": [
       "Text(0, 0.5, 'Год выпуска')"
      ]
     },
     "execution_count": 27,
     "metadata": {},
     "output_type": "execute_result"
    },
    {
     "data": {
      "image/png": "[encoded data removed]",
      "text/plain": [
       "<Figure size 432x288 with 1 Axes>"
      ]
     },
     "metadata": {
      "needs_background": "light"
     },
     "output_type": "display_data"
    }
   ],
   "source": [
    "df.groupby(by='Year_of_Release').agg({'total_sales':'sum'}).sort_values(by='total_sales', ascending=False).head(6).plot(kind='bar')\n",
    "plt.title('ТОП платформ по продажам по годам')\n",
    "plt.xlabel('Всего продаж')\n",
    "plt.ylabel('Год выпуска')"
   ]
  },
  {
   "cell_type": "markdown",
   "metadata": {},
   "source": [
    "В 2006 - 2011 годах пользователи покупали больше всего игр. "
   ]
  },
  {
   "cell_type": "markdown",
   "metadata": {},
   "source": [
    "*3. Будем считать, что пик продаж происходил в 2009 году, а далее продажи пошли на спад. Однако по графику выше видно, что с 2013 года опять начался рост продаж. Поэтому актуальнй период - это 2013 - 2016 год*"
   ]
  },
  {
   "cell_type": "markdown",
   "metadata": {},
   "source": [
    "В дальнейшем анализе не будем учитывать данные за предыдущие годы"
   ]
  },
  {
   "cell_type": "markdown",
   "metadata": {},
   "source": [
    "*4. Выберем лидирующие по продажам платформы, посмотрим, растут ли в актуальный период продажи или падают*"
   ]
  },
  {
   "cell_type": "markdown",
   "metadata": {},
   "source": [
    "Выведем лидирующие по продажам платформы за актуальный период"
   ]
  },
  {
   "cell_type": "code",
   "execution_count": 28,
   "metadata": {},
   "outputs": [
    {
     "data": {
      "text/html": [
       "<div>\n",
       "<style scoped>\n",
       "    .dataframe tbody tr th:only-of-type {\n",
       "        vertical-align: middle;\n",
       "    }\n",
       "\n",
       "    .dataframe tbody tr th {\n",
       "        vertical-align: top;\n",
       "    }\n",
       "\n",
       "    .dataframe thead th {\n",
       "        text-align: right;\n",
       "    }\n",
       "</style>\n",
       "<table border=\"1\" class=\"dataframe\">\n",
       "  <thead>\n",
       "    <tr style=\"text-align: right;\">\n",
       "      <th></th>\n",
       "      <th>Name</th>\n",
       "      <th>Platform</th>\n",
       "      <th>Year_of_Release</th>\n",
       "      <th>Genre</th>\n",
       "      <th>NA_sales</th>\n",
       "      <th>EU_sales</th>\n",
       "      <th>JP_sales</th>\n",
       "      <th>Other_sales</th>\n",
       "      <th>Critic_Score</th>\n",
       "      <th>User_Score</th>\n",
       "      <th>Rating</th>\n",
       "      <th>total_sales</th>\n",
       "    </tr>\n",
       "  </thead>\n",
       "  <tbody>\n",
       "    <tr>\n",
       "      <th>16</th>\n",
       "      <td>grand theft auto v</td>\n",
       "      <td>ps3</td>\n",
       "      <td>2013.0</td>\n",
       "      <td>action</td>\n",
       "      <td>7.02</td>\n",
       "      <td>9.09</td>\n",
       "      <td>0.98</td>\n",
       "      <td>3.96</td>\n",
       "      <td>97.0</td>\n",
       "      <td>8.2</td>\n",
       "      <td>M</td>\n",
       "      <td>17.09</td>\n",
       "    </tr>\n",
       "    <tr>\n",
       "      <th>23</th>\n",
       "      <td>grand theft auto v</td>\n",
       "      <td>x360</td>\n",
       "      <td>2013.0</td>\n",
       "      <td>action</td>\n",
       "      <td>9.66</td>\n",
       "      <td>5.14</td>\n",
       "      <td>0.06</td>\n",
       "      <td>1.41</td>\n",
       "      <td>97.0</td>\n",
       "      <td>8.1</td>\n",
       "      <td>M</td>\n",
       "      <td>14.86</td>\n",
       "    </tr>\n",
       "    <tr>\n",
       "      <th>31</th>\n",
       "      <td>call of duty: black ops 3</td>\n",
       "      <td>ps4</td>\n",
       "      <td>2015.0</td>\n",
       "      <td>shooter</td>\n",
       "      <td>6.03</td>\n",
       "      <td>5.86</td>\n",
       "      <td>0.36</td>\n",
       "      <td>2.38</td>\n",
       "      <td>NaN</td>\n",
       "      <td>NaN</td>\n",
       "      <td>unknown</td>\n",
       "      <td>12.25</td>\n",
       "    </tr>\n",
       "    <tr>\n",
       "      <th>33</th>\n",
       "      <td>pokemon x/pokemon y</td>\n",
       "      <td>3ds</td>\n",
       "      <td>2013.0</td>\n",
       "      <td>role-playing</td>\n",
       "      <td>5.28</td>\n",
       "      <td>4.19</td>\n",
       "      <td>4.35</td>\n",
       "      <td>0.78</td>\n",
       "      <td>NaN</td>\n",
       "      <td>NaN</td>\n",
       "      <td>unknown</td>\n",
       "      <td>13.82</td>\n",
       "    </tr>\n",
       "    <tr>\n",
       "      <th>42</th>\n",
       "      <td>grand theft auto v</td>\n",
       "      <td>ps4</td>\n",
       "      <td>2014.0</td>\n",
       "      <td>action</td>\n",
       "      <td>3.96</td>\n",
       "      <td>6.31</td>\n",
       "      <td>0.38</td>\n",
       "      <td>1.97</td>\n",
       "      <td>97.0</td>\n",
       "      <td>8.3</td>\n",
       "      <td>M</td>\n",
       "      <td>10.65</td>\n",
       "    </tr>\n",
       "    <tr>\n",
       "      <th>...</th>\n",
       "      <td>...</td>\n",
       "      <td>...</td>\n",
       "      <td>...</td>\n",
       "      <td>...</td>\n",
       "      <td>...</td>\n",
       "      <td>...</td>\n",
       "      <td>...</td>\n",
       "      <td>...</td>\n",
       "      <td>...</td>\n",
       "      <td>...</td>\n",
       "      <td>...</td>\n",
       "      <td>...</td>\n",
       "    </tr>\n",
       "    <tr>\n",
       "      <th>16703</th>\n",
       "      <td>strawberry nauts</td>\n",
       "      <td>psv</td>\n",
       "      <td>2016.0</td>\n",
       "      <td>adventure</td>\n",
       "      <td>0.00</td>\n",
       "      <td>0.00</td>\n",
       "      <td>0.01</td>\n",
       "      <td>0.00</td>\n",
       "      <td>NaN</td>\n",
       "      <td>NaN</td>\n",
       "      <td>unknown</td>\n",
       "      <td>0.01</td>\n",
       "    </tr>\n",
       "    <tr>\n",
       "      <th>16707</th>\n",
       "      <td>aiyoku no eustia</td>\n",
       "      <td>psv</td>\n",
       "      <td>2014.0</td>\n",
       "      <td>misc</td>\n",
       "      <td>0.00</td>\n",
       "      <td>0.00</td>\n",
       "      <td>0.01</td>\n",
       "      <td>0.00</td>\n",
       "      <td>NaN</td>\n",
       "      <td>NaN</td>\n",
       "      <td>unknown</td>\n",
       "      <td>0.01</td>\n",
       "    </tr>\n",
       "    <tr>\n",
       "      <th>16710</th>\n",
       "      <td>samurai warriors: sanada maru</td>\n",
       "      <td>ps3</td>\n",
       "      <td>2016.0</td>\n",
       "      <td>action</td>\n",
       "      <td>0.00</td>\n",
       "      <td>0.00</td>\n",
       "      <td>0.01</td>\n",
       "      <td>0.00</td>\n",
       "      <td>NaN</td>\n",
       "      <td>NaN</td>\n",
       "      <td>unknown</td>\n",
       "      <td>0.01</td>\n",
       "    </tr>\n",
       "    <tr>\n",
       "      <th>16712</th>\n",
       "      <td>haitaka no psychedelica</td>\n",
       "      <td>psv</td>\n",
       "      <td>2016.0</td>\n",
       "      <td>adventure</td>\n",
       "      <td>0.00</td>\n",
       "      <td>0.00</td>\n",
       "      <td>0.01</td>\n",
       "      <td>0.00</td>\n",
       "      <td>NaN</td>\n",
       "      <td>NaN</td>\n",
       "      <td>unknown</td>\n",
       "      <td>0.01</td>\n",
       "    </tr>\n",
       "    <tr>\n",
       "      <th>16714</th>\n",
       "      <td>winning post 8 2016</td>\n",
       "      <td>psv</td>\n",
       "      <td>2016.0</td>\n",
       "      <td>simulation</td>\n",
       "      <td>0.00</td>\n",
       "      <td>0.00</td>\n",
       "      <td>0.01</td>\n",
       "      <td>0.00</td>\n",
       "      <td>NaN</td>\n",
       "      <td>NaN</td>\n",
       "      <td>unknown</td>\n",
       "      <td>0.01</td>\n",
       "    </tr>\n",
       "  </tbody>\n",
       "</table>\n",
       "<p>2233 rows × 12 columns</p>\n",
       "</div>"
      ],
      "text/plain": [
       "                                Name Platform  Year_of_Release         Genre  \\\n",
       "16                grand theft auto v      ps3           2013.0        action   \n",
       "23                grand theft auto v     x360           2013.0        action   \n",
       "31         call of duty: black ops 3      ps4           2015.0       shooter   \n",
       "33               pokemon x/pokemon y      3ds           2013.0  role-playing   \n",
       "42                grand theft auto v      ps4           2014.0        action   \n",
       "...                              ...      ...              ...           ...   \n",
       "16703               strawberry nauts      psv           2016.0     adventure   \n",
       "16707               aiyoku no eustia      psv           2014.0          misc   \n",
       "16710  samurai warriors: sanada maru      ps3           2016.0        action   \n",
       "16712        haitaka no psychedelica      psv           2016.0     adventure   \n",
       "16714            winning post 8 2016      psv           2016.0    simulation   \n",
       "\n",
       "       NA_sales  EU_sales  JP_sales  Other_sales  Critic_Score  User_Score  \\\n",
       "16         7.02      9.09      0.98         3.96          97.0         8.2   \n",
       "23         9.66      5.14      0.06         1.41          97.0         8.1   \n",
       "31         6.03      5.86      0.36         2.38           NaN         NaN   \n",
       "33         5.28      4.19      4.35         0.78           NaN         NaN   \n",
       "42         3.96      6.31      0.38         1.97          97.0         8.3   \n",
       "...         ...       ...       ...          ...           ...         ...   \n",
       "16703      0.00      0.00      0.01         0.00           NaN         NaN   \n",
       "16707      0.00      0.00      0.01         0.00           NaN         NaN   \n",
       "16710      0.00      0.00      0.01         0.00           NaN         NaN   \n",
       "16712      0.00      0.00      0.01         0.00           NaN         NaN   \n",
       "16714      0.00      0.00      0.01         0.00           NaN         NaN   \n",
       "\n",
       "        Rating  total_sales  \n",
       "16           M        17.09  \n",
       "23           M        14.86  \n",
       "31     unknown        12.25  \n",
       "33     unknown        13.82  \n",
       "42           M        10.65  \n",
       "...        ...          ...  \n",
       "16703  unknown         0.01  \n",
       "16707  unknown         0.01  \n",
       "16710  unknown         0.01  \n",
       "16712  unknown         0.01  \n",
       "16714  unknown         0.01  \n",
       "\n",
       "[2233 rows x 12 columns]"
      ]
     },
     "execution_count": 28,
     "metadata": {},
     "output_type": "execute_result"
    }
   ],
   "source": [
    "df.query('Year_of_Release in [2013, 2014, 2015, 2016]') #срез данных за актуальный период"
   ]
  },
  {
   "cell_type": "code",
   "execution_count": 29,
   "metadata": {},
   "outputs": [],
   "source": [
    "a = df.query('Year_of_Release in [2013, 2014, 2015, 2016]').pivot_table(index = 'Platform', values = 'total_sales', aggfunc = 'sum').sort_values(by = 'total_sales', ascending = False)"
   ]
  },
  {
   "cell_type": "code",
   "execution_count": 30,
   "metadata": {},
   "outputs": [
    {
     "data": {
      "text/plain": [
       "Text(0, 0.5, 'Продажи')"
      ]
     },
     "execution_count": 30,
     "metadata": {},
     "output_type": "execute_result"
    },
    {
     "data": {
      "image/png": "[encoded data removed]",
      "text/plain": [
       "<Figure size 936x288 with 1 Axes>"
      ]
     },
     "metadata": {
      "needs_background": "light"
     },
     "output_type": "display_data"
    }
   ],
   "source": [
    "plt.figure(figsize = (13,4))\n",
    "sns.barplot(x = a.index, y = a['total_sales'])\n",
    "plt.title('ТОП платформ по продажам')\n",
    "plt.xlabel('Платформы')\n",
    "plt.ylabel('Продажи')"
   ]
  },
  {
   "cell_type": "markdown",
   "metadata": {},
   "source": [
    "Топ продаж по платформам за период 2013-2016"
   ]
  },
  {
   "cell_type": "code",
   "execution_count": 31,
   "metadata": {},
   "outputs": [
    {
     "data": {
      "text/html": [
       "<div>\n",
       "<style scoped>\n",
       "    .dataframe tbody tr th:only-of-type {\n",
       "        vertical-align: middle;\n",
       "    }\n",
       "\n",
       "    .dataframe tbody tr th {\n",
       "        vertical-align: top;\n",
       "    }\n",
       "\n",
       "    .dataframe thead th {\n",
       "        text-align: right;\n",
       "    }\n",
       "</style>\n",
       "<table border=\"1\" class=\"dataframe\">\n",
       "  <thead>\n",
       "    <tr style=\"text-align: right;\">\n",
       "      <th></th>\n",
       "      <th>total_sales</th>\n",
       "    </tr>\n",
       "    <tr>\n",
       "      <th>Platform</th>\n",
       "      <th></th>\n",
       "    </tr>\n",
       "  </thead>\n",
       "  <tbody>\n",
       "    <tr>\n",
       "      <th>ps4</th>\n",
       "      <td>265.79</td>\n",
       "    </tr>\n",
       "    <tr>\n",
       "      <th>ps3</th>\n",
       "      <td>154.66</td>\n",
       "    </tr>\n",
       "    <tr>\n",
       "      <th>xone</th>\n",
       "      <td>145.05</td>\n",
       "    </tr>\n",
       "    <tr>\n",
       "      <th>3ds</th>\n",
       "      <td>136.97</td>\n",
       "    </tr>\n",
       "    <tr>\n",
       "      <th>x360</th>\n",
       "      <td>124.69</td>\n",
       "    </tr>\n",
       "  </tbody>\n",
       "</table>\n",
       "</div>"
      ],
      "text/plain": [
       "          total_sales\n",
       "Platform             \n",
       "ps4            265.79\n",
       "ps3            154.66\n",
       "xone           145.05\n",
       "3ds            136.97\n",
       "x360           124.69"
      ]
     },
     "execution_count": 31,
     "metadata": {},
     "output_type": "execute_result"
    }
   ],
   "source": [
    "df.query('Year_of_Release in [2013, 2014, 2015, 2016]').pivot_table(index = 'Platform', values = 'total_sales', aggfunc = 'sum').sort_values(by = 'total_sales', ascending = False).head()"
   ]
  },
  {
   "cell_type": "markdown",
   "metadata": {},
   "source": [
    "Проверим, растут они или падают"
   ]
  },
  {
   "cell_type": "code",
   "execution_count": 32,
   "metadata": {},
   "outputs": [
    {
     "data": {
      "text/html": [
       "<div>\n",
       "<style scoped>\n",
       "    .dataframe tbody tr th:only-of-type {\n",
       "        vertical-align: middle;\n",
       "    }\n",
       "\n",
       "    .dataframe tbody tr th {\n",
       "        vertical-align: top;\n",
       "    }\n",
       "\n",
       "    .dataframe thead th {\n",
       "        text-align: right;\n",
       "    }\n",
       "</style>\n",
       "<table border=\"1\" class=\"dataframe\">\n",
       "  <thead>\n",
       "    <tr style=\"text-align: right;\">\n",
       "      <th></th>\n",
       "      <th>total_sales</th>\n",
       "    </tr>\n",
       "    <tr>\n",
       "      <th>Year_of_Release</th>\n",
       "      <th></th>\n",
       "    </tr>\n",
       "  </thead>\n",
       "  <tbody>\n",
       "    <tr>\n",
       "      <th>2016.0</th>\n",
       "      <td>59.01</td>\n",
       "    </tr>\n",
       "    <tr>\n",
       "      <th>2015.0</th>\n",
       "      <td>100.44</td>\n",
       "    </tr>\n",
       "    <tr>\n",
       "      <th>2014.0</th>\n",
       "      <td>84.22</td>\n",
       "    </tr>\n",
       "    <tr>\n",
       "      <th>2013.0</th>\n",
       "      <td>22.12</td>\n",
       "    </tr>\n",
       "  </tbody>\n",
       "</table>\n",
       "</div>"
      ],
      "text/plain": [
       "                 total_sales\n",
       "Year_of_Release             \n",
       "2016.0                 59.01\n",
       "2015.0                100.44\n",
       "2014.0                 84.22\n",
       "2013.0                 22.12"
      ]
     },
     "execution_count": 32,
     "metadata": {},
     "output_type": "execute_result"
    }
   ],
   "source": [
    "df.query('Year_of_Release in [2013, 2014, 2015, 2016] & Platform == \"ps4\"').pivot_table(index = 'Year_of_Release', \n",
    "                                                                                        values = 'total_sales', aggfunc = 'sum').sort_values(by = 'Year_of_Release', ascending = False)"
   ]
  },
  {
   "cell_type": "code",
   "execution_count": 33,
   "metadata": {},
   "outputs": [
    {
     "data": {
      "text/html": [
       "<div>\n",
       "<style scoped>\n",
       "    .dataframe tbody tr th:only-of-type {\n",
       "        vertical-align: middle;\n",
       "    }\n",
       "\n",
       "    .dataframe tbody tr th {\n",
       "        vertical-align: top;\n",
       "    }\n",
       "\n",
       "    .dataframe thead th {\n",
       "        text-align: right;\n",
       "    }\n",
       "</style>\n",
       "<table border=\"1\" class=\"dataframe\">\n",
       "  <thead>\n",
       "    <tr style=\"text-align: right;\">\n",
       "      <th></th>\n",
       "      <th>total_sales</th>\n",
       "    </tr>\n",
       "    <tr>\n",
       "      <th>Year_of_Release</th>\n",
       "      <th></th>\n",
       "    </tr>\n",
       "  </thead>\n",
       "  <tbody>\n",
       "    <tr>\n",
       "      <th>2016.0</th>\n",
       "      <td>3.23</td>\n",
       "    </tr>\n",
       "    <tr>\n",
       "      <th>2015.0</th>\n",
       "      <td>14.70</td>\n",
       "    </tr>\n",
       "    <tr>\n",
       "      <th>2014.0</th>\n",
       "      <td>40.88</td>\n",
       "    </tr>\n",
       "    <tr>\n",
       "      <th>2013.0</th>\n",
       "      <td>95.85</td>\n",
       "    </tr>\n",
       "  </tbody>\n",
       "</table>\n",
       "</div>"
      ],
      "text/plain": [
       "                 total_sales\n",
       "Year_of_Release             \n",
       "2016.0                  3.23\n",
       "2015.0                 14.70\n",
       "2014.0                 40.88\n",
       "2013.0                 95.85"
      ]
     },
     "execution_count": 33,
     "metadata": {},
     "output_type": "execute_result"
    }
   ],
   "source": [
    "df.query('Year_of_Release in [2013, 2014, 2015, 2016] & Platform == \"ps3\"').pivot_table(index = 'Year_of_Release', values = 'total_sales', aggfunc = 'sum').sort_values(by = 'Year_of_Release', ascending = False)"
   ]
  },
  {
   "cell_type": "code",
   "execution_count": 34,
   "metadata": {},
   "outputs": [
    {
     "data": {
      "text/html": [
       "<div>\n",
       "<style scoped>\n",
       "    .dataframe tbody tr th:only-of-type {\n",
       "        vertical-align: middle;\n",
       "    }\n",
       "\n",
       "    .dataframe tbody tr th {\n",
       "        vertical-align: top;\n",
       "    }\n",
       "\n",
       "    .dataframe thead th {\n",
       "        text-align: right;\n",
       "    }\n",
       "</style>\n",
       "<table border=\"1\" class=\"dataframe\">\n",
       "  <thead>\n",
       "    <tr style=\"text-align: right;\">\n",
       "      <th></th>\n",
       "      <th>total_sales</th>\n",
       "    </tr>\n",
       "    <tr>\n",
       "      <th>Year_of_Release</th>\n",
       "      <th></th>\n",
       "    </tr>\n",
       "  </thead>\n",
       "  <tbody>\n",
       "    <tr>\n",
       "      <th>2016.0</th>\n",
       "      <td>23.91</td>\n",
       "    </tr>\n",
       "    <tr>\n",
       "      <th>2015.0</th>\n",
       "      <td>54.67</td>\n",
       "    </tr>\n",
       "    <tr>\n",
       "      <th>2014.0</th>\n",
       "      <td>49.26</td>\n",
       "    </tr>\n",
       "    <tr>\n",
       "      <th>2013.0</th>\n",
       "      <td>17.21</td>\n",
       "    </tr>\n",
       "  </tbody>\n",
       "</table>\n",
       "</div>"
      ],
      "text/plain": [
       "                 total_sales\n",
       "Year_of_Release             \n",
       "2016.0                 23.91\n",
       "2015.0                 54.67\n",
       "2014.0                 49.26\n",
       "2013.0                 17.21"
      ]
     },
     "execution_count": 34,
     "metadata": {},
     "output_type": "execute_result"
    }
   ],
   "source": [
    "df.query('Year_of_Release in [2013, 2014, 2015, 2016] & Platform == \"xone\"').pivot_table(index = 'Year_of_Release', values = 'total_sales', aggfunc = 'sum').sort_values(by = 'Year_of_Release', ascending = False)"
   ]
  },
  {
   "cell_type": "code",
   "execution_count": 35,
   "metadata": {},
   "outputs": [
    {
     "data": {
      "text/html": [
       "<div>\n",
       "<style scoped>\n",
       "    .dataframe tbody tr th:only-of-type {\n",
       "        vertical-align: middle;\n",
       "    }\n",
       "\n",
       "    .dataframe tbody tr th {\n",
       "        vertical-align: top;\n",
       "    }\n",
       "\n",
       "    .dataframe thead th {\n",
       "        text-align: right;\n",
       "    }\n",
       "</style>\n",
       "<table border=\"1\" class=\"dataframe\">\n",
       "  <thead>\n",
       "    <tr style=\"text-align: right;\">\n",
       "      <th></th>\n",
       "      <th>total_sales</th>\n",
       "    </tr>\n",
       "    <tr>\n",
       "      <th>Year_of_Release</th>\n",
       "      <th></th>\n",
       "    </tr>\n",
       "  </thead>\n",
       "  <tbody>\n",
       "    <tr>\n",
       "      <th>2016.0</th>\n",
       "      <td>14.50</td>\n",
       "    </tr>\n",
       "    <tr>\n",
       "      <th>2015.0</th>\n",
       "      <td>26.75</td>\n",
       "    </tr>\n",
       "    <tr>\n",
       "      <th>2014.0</th>\n",
       "      <td>41.75</td>\n",
       "    </tr>\n",
       "    <tr>\n",
       "      <th>2013.0</th>\n",
       "      <td>53.97</td>\n",
       "    </tr>\n",
       "  </tbody>\n",
       "</table>\n",
       "</div>"
      ],
      "text/plain": [
       "                 total_sales\n",
       "Year_of_Release             \n",
       "2016.0                 14.50\n",
       "2015.0                 26.75\n",
       "2014.0                 41.75\n",
       "2013.0                 53.97"
      ]
     },
     "execution_count": 35,
     "metadata": {},
     "output_type": "execute_result"
    }
   ],
   "source": [
    "df.query('Year_of_Release in [2013, 2014, 2015, 2016] & Platform == \"3ds\"').pivot_table(index = 'Year_of_Release', values = 'total_sales', aggfunc = 'sum').sort_values(by = 'Year_of_Release', ascending = False)"
   ]
  },
  {
   "cell_type": "code",
   "execution_count": 36,
   "metadata": {},
   "outputs": [
    {
     "data": {
      "text/html": [
       "<div>\n",
       "<style scoped>\n",
       "    .dataframe tbody tr th:only-of-type {\n",
       "        vertical-align: middle;\n",
       "    }\n",
       "\n",
       "    .dataframe tbody tr th {\n",
       "        vertical-align: top;\n",
       "    }\n",
       "\n",
       "    .dataframe thead th {\n",
       "        text-align: right;\n",
       "    }\n",
       "</style>\n",
       "<table border=\"1\" class=\"dataframe\">\n",
       "  <thead>\n",
       "    <tr style=\"text-align: right;\">\n",
       "      <th></th>\n",
       "      <th>total_sales</th>\n",
       "    </tr>\n",
       "    <tr>\n",
       "      <th>Year_of_Release</th>\n",
       "      <th></th>\n",
       "    </tr>\n",
       "  </thead>\n",
       "  <tbody>\n",
       "    <tr>\n",
       "      <th>2016.0</th>\n",
       "      <td>1.40</td>\n",
       "    </tr>\n",
       "    <tr>\n",
       "      <th>2015.0</th>\n",
       "      <td>10.86</td>\n",
       "    </tr>\n",
       "    <tr>\n",
       "      <th>2014.0</th>\n",
       "      <td>31.61</td>\n",
       "    </tr>\n",
       "    <tr>\n",
       "      <th>2013.0</th>\n",
       "      <td>80.82</td>\n",
       "    </tr>\n",
       "  </tbody>\n",
       "</table>\n",
       "</div>"
      ],
      "text/plain": [
       "                 total_sales\n",
       "Year_of_Release             \n",
       "2016.0                  1.40\n",
       "2015.0                 10.86\n",
       "2014.0                 31.61\n",
       "2013.0                 80.82"
      ]
     },
     "execution_count": 36,
     "metadata": {},
     "output_type": "execute_result"
    }
   ],
   "source": [
    "df.query('Year_of_Release in [2013, 2014, 2015, 2016] & Platform == \"x360\"').pivot_table(index = 'Year_of_Release', values = 'total_sales', aggfunc = 'sum').sort_values(by = 'Year_of_Release', ascending = False)"
   ]
  },
  {
   "cell_type": "markdown",
   "metadata": {},
   "source": [
    "Графическое обозначение"
   ]
  },
  {
   "cell_type": "code",
   "execution_count": 37,
   "metadata": {},
   "outputs": [],
   "source": [
    "platform_list = ['ps4', 'ps3', 'xone', '3ds', 'x360']"
   ]
  },
  {
   "cell_type": "code",
   "execution_count": 38,
   "metadata": {},
   "outputs": [
    {
     "data": {
      "image/png": "[encoded data removed]",
      "text/plain": [
       "<Figure size 936x288 with 1 Axes>"
      ]
     },
     "metadata": {
      "needs_background": "light"
     },
     "output_type": "display_data"
    },
    {
     "data": {
      "image/png": "[encoded data removed]",
      "text/plain": [
       "<Figure size 936x288 with 1 Axes>"
      ]
     },
     "metadata": {
      "needs_background": "light"
     },
     "output_type": "display_data"
    },
    {
     "data": {
      "image/png": "[encoded data removed]",
      "text/plain": [
       "<Figure size 936x288 with 1 Axes>"
      ]
     },
     "metadata": {
      "needs_background": "light"
     },
     "output_type": "display_data"
    },
    {
     "data": {
      "image/png": "[encoded data removed]",
      "text/plain": [
       "<Figure size 936x288 with 1 Axes>"
      ]
     },
     "metadata": {
      "needs_background": "light"
     },
     "output_type": "display_data"
    },
    {
     "data": {
      "image/png": "[encoded data removed]",
      "text/plain": [
       "<Figure size 936x288 with 1 Axes>"
      ]
     },
     "metadata": {
      "needs_background": "light"
     },
     "output_type": "display_data"
    }
   ],
   "source": [
    "for p in platform_list:\n",
    "    df[df['Platform'] == p].pivot_table(index = 'Year_of_Release', values = 'total_sales', aggfunc = 'sum').plot(kind = 'bar', figsize = (13,4))\n",
    "    plt.title(p)\n",
    "    plt.xlabel('Год релиза')\n",
    "    plt.ylabel('Продажи')"
   ]
  },
  {
   "cell_type": "markdown",
   "metadata": {},
   "source": [
    "Исходя из графиков, можно сделать вывод, что средняя продолжительность жизни  платформы составляет ~8 лет."
   ]
  },
  {
   "cell_type": "markdown",
   "metadata": {},
   "source": [
    "Наиболее потенциально прибыльными платформами можно считать ps3 и xone"
   ]
  },
  {
   "cell_type": "markdown",
   "metadata": {},
   "source": [
    "Основываясь на предыдущих анализах, можно выделить период:\n",
    "   1. Резкий рост 200-х до 2004 и 2006-2008 (в 2005 был упадок)\n",
    "   2. Пук в 2009 году\n",
    "   3. После 2009 пошел спад"
   ]
  },
  {
   "cell_type": "markdown",
   "metadata": {},
   "source": [
    "*5. Построим график «ящик с усами» по глобальным продажам игр в разбивке по наиболее потенциально прибыльным платформам*"
   ]
  },
  {
   "cell_type": "code",
   "execution_count": 39,
   "metadata": {},
   "outputs": [
    {
     "data": {
      "image/png": "[encoded data removed]",
      "text/plain": [
       "<Figure size 576x576 with 1 Axes>"
      ]
     },
     "metadata": {
      "needs_background": "light"
     },
     "output_type": "display_data"
    }
   ],
   "source": [
    "plot = df.loc[df['Platform'] == 'ps4'].boxplot('total_sales', figsize=(8, 8)).set_ylim(0, 2.5)"
   ]
  },
  {
   "cell_type": "code",
   "execution_count": 40,
   "metadata": {},
   "outputs": [
    {
     "data": {
      "text/plain": [
       "count    392.000000\n",
       "mean       0.678036\n",
       "std        1.355221\n",
       "min        0.010000\n",
       "25%        0.050000\n",
       "50%        0.170000\n",
       "75%        0.612500\n",
       "max       12.250000\n",
       "Name: total_sales, dtype: float64"
      ]
     },
     "execution_count": 40,
     "metadata": {},
     "output_type": "execute_result"
    }
   ],
   "source": [
    "df.loc[df['Platform'] == 'ps4']['total_sales'].describe()"
   ]
  },
  {
   "cell_type": "code",
   "execution_count": 41,
   "metadata": {},
   "outputs": [
    {
     "data": {
      "image/png": "[encoded data removed]",
      "text/plain": [
       "<Figure size 576x576 with 1 Axes>"
      ]
     },
     "metadata": {
      "needs_background": "light"
     },
     "output_type": "display_data"
    }
   ],
   "source": [
    "plot = df.loc[df['Platform'] == 'ps3'].boxplot('total_sales', figsize=(8, 8)).set_ylim(0, 2.5)"
   ]
  },
  {
   "cell_type": "code",
   "execution_count": 42,
   "metadata": {},
   "outputs": [
    {
     "data": {
      "text/plain": [
       "count    1331.000000\n",
       "mean        0.604035\n",
       "std         1.167133\n",
       "min         0.000000\n",
       "25%         0.090000\n",
       "50%         0.250000\n",
       "75%         0.650000\n",
       "max        17.090000\n",
       "Name: total_sales, dtype: float64"
      ]
     },
     "execution_count": 42,
     "metadata": {},
     "output_type": "execute_result"
    }
   ],
   "source": [
    "df.loc[df['Platform'] == 'ps3']['total_sales'].describe()"
   ]
  },
  {
   "cell_type": "markdown",
   "metadata": {},
   "source": [
    "**Нижняя граница у платформы ps3 совпадает с нижнем квартилем (25%)**"
   ]
  },
  {
   "cell_type": "code",
   "execution_count": 43,
   "metadata": {},
   "outputs": [
    {
     "data": {
      "image/png": "[encoded data removed]",
      "text/plain": [
       "<Figure size 576x576 with 1 Axes>"
      ]
     },
     "metadata": {
      "needs_background": "light"
     },
     "output_type": "display_data"
    }
   ],
   "source": [
    "plot = df.loc[df['Platform'] == 'xone'].boxplot('total_sales', figsize=(8, 8)).set_ylim(0, 2.5)"
   ]
  },
  {
   "cell_type": "code",
   "execution_count": 44,
   "metadata": {},
   "outputs": [
    {
     "data": {
      "text/plain": [
       "count    247.000000\n",
       "mean       0.587247\n",
       "std        0.942412\n",
       "min        0.010000\n",
       "25%        0.050000\n",
       "50%        0.200000\n",
       "75%        0.625000\n",
       "max        6.710000\n",
       "Name: total_sales, dtype: float64"
      ]
     },
     "execution_count": 44,
     "metadata": {},
     "output_type": "execute_result"
    }
   ],
   "source": [
    "df.loc[df['Platform'] == 'xone']['total_sales'].describe()"
   ]
  },
  {
   "cell_type": "code",
   "execution_count": 45,
   "metadata": {},
   "outputs": [
    {
     "data": {
      "image/png": "[encoded data removed]",
      "text/plain": [
       "<Figure size 576x576 with 1 Axes>"
      ]
     },
     "metadata": {
      "needs_background": "light"
     },
     "output_type": "display_data"
    }
   ],
   "source": [
    "plot = df.loc[df['Platform'] == '3ds'].boxplot('total_sales', figsize=(8, 8)).set_ylim(0, 2.5)"
   ]
  },
  {
   "cell_type": "code",
   "execution_count": 46,
   "metadata": {},
   "outputs": [
    {
     "data": {
      "text/plain": [
       "count    520.000000\n",
       "mean       0.472385\n",
       "std        1.346870\n",
       "min        0.010000\n",
       "25%        0.050000\n",
       "50%        0.120000\n",
       "75%        0.312500\n",
       "max       13.820000\n",
       "Name: total_sales, dtype: float64"
      ]
     },
     "execution_count": 46,
     "metadata": {},
     "output_type": "execute_result"
    }
   ],
   "source": [
    "df.loc[df['Platform'] == '3ds']['total_sales'].describe()"
   ]
  },
  {
   "cell_type": "code",
   "execution_count": 47,
   "metadata": {},
   "outputs": [
    {
     "data": {
      "image/png": "[encoded data removed]",
      "text/plain": [
       "<Figure size 576x576 with 1 Axes>"
      ]
     },
     "metadata": {
      "needs_background": "light"
     },
     "output_type": "display_data"
    }
   ],
   "source": [
    "plot = df.loc[df['Platform'] == 'x360'].boxplot('total_sales', figsize=(8, 8)).set_ylim(0, 2.5)"
   ]
  },
  {
   "cell_type": "code",
   "execution_count": 48,
   "metadata": {},
   "outputs": [
    {
     "data": {
      "text/plain": [
       "count    1262.000000\n",
       "mean        0.701791\n",
       "std         1.474027\n",
       "min         0.010000\n",
       "25%         0.100000\n",
       "50%         0.250000\n",
       "75%         0.680000\n",
       "max        20.130000\n",
       "Name: total_sales, dtype: float64"
      ]
     },
     "execution_count": 48,
     "metadata": {},
     "output_type": "execute_result"
    }
   ],
   "source": [
    "df.loc[df['Platform'] == 'x360']['total_sales'].describe()"
   ]
  },
  {
   "cell_type": "markdown",
   "metadata": {},
   "source": [
    "**Можно заметить, что есть много резких выбросов. У платформы ps3 гораздо больше выбросов, чем у платформы xone.**"
   ]
  },
  {
   "cell_type": "markdown",
   "metadata": {},
   "source": [
    "**Выбросов у платформ ps4 и xone гораздо меньше, чем у других. Также у этих наиболее перспективных платформ одинакоые минимальные значения и 25% и очень похожие значения 50% и 75%.**"
   ]
  },
  {
   "cell_type": "markdown",
   "metadata": {},
   "source": [
    "**Данные на всех диаграммах не симметричные**"
   ]
  },
  {
   "cell_type": "markdown",
   "metadata": {},
   "source": [
    "**Ящик значений для платформы 3ds короче, чем у других платформ. Это значит, что продажи по этой платформе отличаются между союой меньше, чем на других платформах. Также 'усы' у него короче**"
   ]
  },
  {
   "cell_type": "markdown",
   "metadata": {},
   "source": [
    "**Зеленые линии на графиках - медианы. Как и среднее значение, медиана является мерой положения центра распределения.**"
   ]
  },
  {
   "cell_type": "markdown",
   "metadata": {},
   "source": [
    "**У платформы xone гораздо меньше выбросов по сравнению с другими платформами**"
   ]
  },
  {
   "cell_type": "markdown",
   "metadata": {},
   "source": [
    "**Стандартное отклонение и максимальное значение у платформы ps3 больше, чем у плотформы xone**"
   ]
  },
  {
   "cell_type": "markdown",
   "metadata": {},
   "source": [
    "*6. Посмотрим, как влияют на продажи внутри одной популярной платформы отзывы пользователей и критиков, построим диаграмму рассеяния и посчитаем корреляцию между отзывами и продажами*"
   ]
  },
  {
   "cell_type": "markdown",
   "metadata": {},
   "source": [
    "**Для ps3:**"
   ]
  },
  {
   "cell_type": "code",
   "execution_count": 49,
   "metadata": {},
   "outputs": [
    {
     "data": {
      "text/plain": [
       "array([[<AxesSubplot:xlabel='total_sales', ylabel='total_sales'>,\n",
       "        <AxesSubplot:xlabel='Critic_Score', ylabel='total_sales'>,\n",
       "        <AxesSubplot:xlabel='User_Score', ylabel='total_sales'>],\n",
       "       [<AxesSubplot:xlabel='total_sales', ylabel='Critic_Score'>,\n",
       "        <AxesSubplot:xlabel='Critic_Score', ylabel='Critic_Score'>,\n",
       "        <AxesSubplot:xlabel='User_Score', ylabel='Critic_Score'>],\n",
       "       [<AxesSubplot:xlabel='total_sales', ylabel='User_Score'>,\n",
       "        <AxesSubplot:xlabel='Critic_Score', ylabel='User_Score'>,\n",
       "        <AxesSubplot:xlabel='User_Score', ylabel='User_Score'>]],\n",
       "      dtype=object)"
      ]
     },
     "execution_count": 49,
     "metadata": {},
     "output_type": "execute_result"
    },
    {
     "data": {
      "image/png": "[encoded data removed]",
      "text/plain": [
       "<Figure size 1080x1080 with 9 Axes>"
      ]
     },
     "metadata": {
      "needs_background": "light"
     },
     "output_type": "display_data"
    }
   ],
   "source": [
    "pd.plotting.scatter_matrix(df.query('Year_of_Release in [2013, 2014, 2015, 2016] & Platform == \"ps3\"')[['total_sales','Critic_Score','User_Score']], figsize = (15,15))                                                                                                 "
   ]
  },
  {
   "cell_type": "markdown",
   "metadata": {},
   "source": [
    "*Посчитаем коррелляцию:*"
   ]
  },
  {
   "cell_type": "code",
   "execution_count": 50,
   "metadata": {},
   "outputs": [
    {
     "data": {
      "text/plain": [
       "0.3375139894933373"
      ]
     },
     "execution_count": 50,
     "metadata": {},
     "output_type": "execute_result"
    }
   ],
   "source": [
    "df.query('Year_of_Release in [2013, 2014, 2015, 2016] & Platform == \"ps3\"')['total_sales'].corr(df.query('Year_of_Release in [2013, 2014, 2015, 2016] & Platform == \"ps3\"')['Critic_Score'])"
   ]
  },
  {
   "cell_type": "markdown",
   "metadata": {},
   "source": [
    "Связь положительная слабая"
   ]
  },
  {
   "cell_type": "code",
   "execution_count": 51,
   "metadata": {},
   "outputs": [
    {
     "data": {
      "text/plain": [
       "0.0018991561369883425"
      ]
     },
     "execution_count": 51,
     "metadata": {},
     "output_type": "execute_result"
    }
   ],
   "source": [
    "df.query('Year_of_Release in [2013, 2014, 2015, 2016] & Platform == \"ps3\"')['total_sales'].corr(df.query('Year_of_Release in [2013, 2014, 2015, 2016] & Platform == \"ps3\"')['User_Score'])"
   ]
  },
  {
   "cell_type": "markdown",
   "metadata": {},
   "source": [
    "Связи нет"
   ]
  },
  {
   "cell_type": "markdown",
   "metadata": {},
   "source": [
    "**Для xone:**"
   ]
  },
  {
   "cell_type": "code",
   "execution_count": 52,
   "metadata": {},
   "outputs": [
    {
     "data": {
      "text/plain": [
       "array([[<AxesSubplot:xlabel='total_sales', ylabel='total_sales'>,\n",
       "        <AxesSubplot:xlabel='Critic_Score', ylabel='total_sales'>,\n",
       "        <AxesSubplot:xlabel='User_Score', ylabel='total_sales'>],\n",
       "       [<AxesSubplot:xlabel='total_sales', ylabel='Critic_Score'>,\n",
       "        <AxesSubplot:xlabel='Critic_Score', ylabel='Critic_Score'>,\n",
       "        <AxesSubplot:xlabel='User_Score', ylabel='Critic_Score'>],\n",
       "       [<AxesSubplot:xlabel='total_sales', ylabel='User_Score'>,\n",
       "        <AxesSubplot:xlabel='Critic_Score', ylabel='User_Score'>,\n",
       "        <AxesSubplot:xlabel='User_Score', ylabel='User_Score'>]],\n",
       "      dtype=object)"
      ]
     },
     "execution_count": 52,
     "metadata": {},
     "output_type": "execute_result"
    },
    {
     "data": {
      "image/png": "[encoded data removed]",
      "text/plain": [
       "<Figure size 1080x1080 with 9 Axes>"
      ]
     },
     "metadata": {
      "needs_background": "light"
     },
     "output_type": "display_data"
    }
   ],
   "source": [
    "pd.plotting.scatter_matrix(df.query('Year_of_Release in [2013, 2014, 2015, 2016] & Platform == \"xone\"')[['total_sales','Critic_Score','User_Score']], figsize = (15,15))\n",
    "                                                                                                       "
   ]
  },
  {
   "cell_type": "markdown",
   "metadata": {},
   "source": [
    "*Посчитаем коррелляцию:*"
   ]
  },
  {
   "cell_type": "code",
   "execution_count": 53,
   "metadata": {},
   "outputs": [
    {
     "data": {
      "text/plain": [
       "0.41720638309101765"
      ]
     },
     "execution_count": 53,
     "metadata": {},
     "output_type": "execute_result"
    }
   ],
   "source": [
    "df.query('Year_of_Release in [2013, 2014, 2015, 2016] & Platform == \"xone\"')['total_sales'].corr(df.query('Year_of_Release in [2013, 2014, 2015, 2016] & Platform == \"xone\"')['Critic_Score'])"
   ]
  },
  {
   "cell_type": "markdown",
   "metadata": {},
   "source": [
    "Есть положительный коэффицент коррелляции и связь между продажами и оценкой критиков. Возможно, это связано с тем, что пользователи охотнее купят игру, если знающие в этой свере критики высоко ее оценили"
   ]
  },
  {
   "cell_type": "code",
   "execution_count": 54,
   "metadata": {},
   "outputs": [
    {
     "data": {
      "text/plain": [
       "0.0018991561369883425"
      ]
     },
     "execution_count": 54,
     "metadata": {},
     "output_type": "execute_result"
    }
   ],
   "source": [
    "df.query('Year_of_Release in [2013, 2014, 2015, 2016] & Platform == \"ps3\"')['total_sales'].corr(df.query('Year_of_Release in [2013, 2014, 2015, 2016] & Platform == \"ps3\"')['User_Score'])"
   ]
  },
  {
   "cell_type": "markdown",
   "metadata": {},
   "source": [
    "Связи нет"
   ]
  },
  {
   "cell_type": "markdown",
   "metadata": {},
   "source": [
    "Чем выше рейтинг, тем лучше продажи. Но по пользовательской оценки такой вывод сделать нельзя, так как есть игры, которые имеют хороший рейтиг, но мало продаж (и наоборот)"
   ]
  },
  {
   "cell_type": "markdown",
   "metadata": {},
   "source": [
    "**Основываясь на значениях коррелляции можно сделать вывод, что при покупке игры покупатель не опирается на мнение других пользователей. На отзывы критиков он смотрит больше, но не намного, так как коррелляция все-таки довольно слабая**"
   ]
  },
  {
   "cell_type": "markdown",
   "metadata": {},
   "source": [
    "*7. Посмотрим на общее распределение игр по жанрам. Выделяются ли жанры с высокими и низкими продажами?*"
   ]
  },
  {
   "cell_type": "code",
   "execution_count": 55,
   "metadata": {},
   "outputs": [],
   "source": [
    "b = df.query('Year_of_Release in [2013, 2014, 2015, 2016]').groupby('Genre')['Genre'].count()\n",
    "genres = b.index"
   ]
  },
  {
   "cell_type": "code",
   "execution_count": 56,
   "metadata": {},
   "outputs": [
    {
     "data": {
      "text/plain": [
       "Text(0.5, 1.0, 'Распределение игр по жанрам')"
      ]
     },
     "execution_count": 56,
     "metadata": {},
     "output_type": "execute_result"
    },
    {
     "data": {
      "image/png": "[encoded data removed]",
      "text/plain": [
       "<Figure size 1440x576 with 1 Axes>"
      ]
     },
     "metadata": {},
     "output_type": "display_data"
    }
   ],
   "source": [
    "plt.figure(figsize = (20,8))\n",
    "plt.pie(x = b, labels = genres, autopct = \"%.2f\")\n",
    "plt.title('Распределение игр по жанрам')"
   ]
  },
  {
   "cell_type": "markdown",
   "metadata": {},
   "source": [
    "Из круговой диаграммы видно, что самый популярный жанр - action (он занимает аж 34.3%)"
   ]
  },
  {
   "cell_type": "markdown",
   "metadata": {},
   "source": [
    "Самые прибыльные жанры:"
   ]
  },
  {
   "cell_type": "code",
   "execution_count": 57,
   "metadata": {},
   "outputs": [
    {
     "data": {
      "text/html": [
       "<div>\n",
       "<style scoped>\n",
       "    .dataframe tbody tr th:only-of-type {\n",
       "        vertical-align: middle;\n",
       "    }\n",
       "\n",
       "    .dataframe tbody tr th {\n",
       "        vertical-align: top;\n",
       "    }\n",
       "\n",
       "    .dataframe thead th {\n",
       "        text-align: right;\n",
       "    }\n",
       "</style>\n",
       "<table border=\"1\" class=\"dataframe\">\n",
       "  <thead>\n",
       "    <tr style=\"text-align: right;\">\n",
       "      <th></th>\n",
       "      <th>total_sales</th>\n",
       "    </tr>\n",
       "    <tr>\n",
       "      <th>Genre</th>\n",
       "      <th></th>\n",
       "    </tr>\n",
       "  </thead>\n",
       "  <tbody>\n",
       "    <tr>\n",
       "      <th>action</th>\n",
       "      <td>284.67</td>\n",
       "    </tr>\n",
       "    <tr>\n",
       "      <th>shooter</th>\n",
       "      <td>204.21</td>\n",
       "    </tr>\n",
       "    <tr>\n",
       "      <th>role-playing</th>\n",
       "      <td>134.41</td>\n",
       "    </tr>\n",
       "    <tr>\n",
       "      <th>sports</th>\n",
       "      <td>131.20</td>\n",
       "    </tr>\n",
       "    <tr>\n",
       "      <th>misc</th>\n",
       "      <td>56.73</td>\n",
       "    </tr>\n",
       "    <tr>\n",
       "      <th>platform</th>\n",
       "      <td>38.51</td>\n",
       "    </tr>\n",
       "    <tr>\n",
       "      <th>racing</th>\n",
       "      <td>35.45</td>\n",
       "    </tr>\n",
       "    <tr>\n",
       "      <th>fighting</th>\n",
       "      <td>31.75</td>\n",
       "    </tr>\n",
       "    <tr>\n",
       "      <th>adventure</th>\n",
       "      <td>21.21</td>\n",
       "    </tr>\n",
       "    <tr>\n",
       "      <th>simulation</th>\n",
       "      <td>20.30</td>\n",
       "    </tr>\n",
       "    <tr>\n",
       "      <th>strategy</th>\n",
       "      <td>9.27</td>\n",
       "    </tr>\n",
       "    <tr>\n",
       "      <th>puzzle</th>\n",
       "      <td>3.01</td>\n",
       "    </tr>\n",
       "  </tbody>\n",
       "</table>\n",
       "</div>"
      ],
      "text/plain": [
       "              total_sales\n",
       "Genre                    \n",
       "action             284.67\n",
       "shooter            204.21\n",
       "role-playing       134.41\n",
       "sports             131.20\n",
       "misc                56.73\n",
       "platform            38.51\n",
       "racing              35.45\n",
       "fighting            31.75\n",
       "adventure           21.21\n",
       "simulation          20.30\n",
       "strategy             9.27\n",
       "puzzle               3.01"
      ]
     },
     "execution_count": 57,
     "metadata": {},
     "output_type": "execute_result"
    }
   ],
   "source": [
    "df.query('Year_of_Release in [2013, 2014, 2015, 2016]').pivot_table(index = 'Genre', values = 'total_sales', aggfunc = 'sum').sort_values(by = 'total_sales', ascending = False)"
   ]
  },
  {
   "cell_type": "markdown",
   "metadata": {},
   "source": [
    "ТОП-3 самых прибыльных жанра:"
   ]
  },
  {
   "cell_type": "code",
   "execution_count": 58,
   "metadata": {
    "scrolled": true
   },
   "outputs": [
    {
     "data": {
      "text/html": [
       "<div>\n",
       "<style scoped>\n",
       "    .dataframe tbody tr th:only-of-type {\n",
       "        vertical-align: middle;\n",
       "    }\n",
       "\n",
       "    .dataframe tbody tr th {\n",
       "        vertical-align: top;\n",
       "    }\n",
       "\n",
       "    .dataframe thead th {\n",
       "        text-align: right;\n",
       "    }\n",
       "</style>\n",
       "<table border=\"1\" class=\"dataframe\">\n",
       "  <thead>\n",
       "    <tr style=\"text-align: right;\">\n",
       "      <th></th>\n",
       "      <th>total_sales</th>\n",
       "    </tr>\n",
       "    <tr>\n",
       "      <th>Genre</th>\n",
       "      <th></th>\n",
       "    </tr>\n",
       "  </thead>\n",
       "  <tbody>\n",
       "    <tr>\n",
       "      <th>action</th>\n",
       "      <td>284.67</td>\n",
       "    </tr>\n",
       "    <tr>\n",
       "      <th>shooter</th>\n",
       "      <td>204.21</td>\n",
       "    </tr>\n",
       "    <tr>\n",
       "      <th>role-playing</th>\n",
       "      <td>134.41</td>\n",
       "    </tr>\n",
       "  </tbody>\n",
       "</table>\n",
       "</div>"
      ],
      "text/plain": [
       "              total_sales\n",
       "Genre                    \n",
       "action             284.67\n",
       "shooter            204.21\n",
       "role-playing       134.41"
      ]
     },
     "execution_count": 58,
     "metadata": {},
     "output_type": "execute_result"
    }
   ],
   "source": [
    "df.query('Year_of_Release in [2013, 2014, 2015, 2016]').pivot_table(index = 'Genre', values = 'total_sales', aggfunc = 'sum').sort_values(by = 'total_sales', ascending = False).head(3)"
   ]
  },
  {
   "cell_type": "markdown",
   "metadata": {},
   "source": [
    "**Составим портрет пользователя каждого региона**"
   ]
  },
  {
   "cell_type": "markdown",
   "metadata": {},
   "source": [
    "*Самые популярные платформы (топ-5):*"
   ]
  },
  {
   "cell_type": "markdown",
   "metadata": {},
   "source": [
    "Продажи в Северной Америке:"
   ]
  },
  {
   "cell_type": "code",
   "execution_count": 59,
   "metadata": {},
   "outputs": [
    {
     "name": "stdout",
     "output_type": "stream",
     "text": [
      "          NA_sales\n",
      "Platform          \n",
      "ps4         108.74\n",
      "xone         93.12\n",
      "x360         81.66\n",
      "ps3          63.50\n",
      "3ds          38.20\n"
     ]
    }
   ],
   "source": [
    "a = df.query('Year_of_Release in [2013, 2014, 2015, 2016]').pivot_table(index = 'Platform', values = 'NA_sales', aggfunc = 'sum').sort_values(by = 'NA_sales', ascending = False).head()\n",
    "print(a)"
   ]
  },
  {
   "cell_type": "code",
   "execution_count": 60,
   "metadata": {},
   "outputs": [
    {
     "data": {
      "text/plain": [
       "Text(0, 0.5, 'Продажи')"
      ]
     },
     "execution_count": 60,
     "metadata": {},
     "output_type": "execute_result"
    },
    {
     "data": {
      "image/png": "[encoded data removed]",
      "text/plain": [
       "<Figure size 432x288 with 1 Axes>"
      ]
     },
     "metadata": {
      "needs_background": "light"
     },
     "output_type": "display_data"
    }
   ],
   "source": [
    "df.query('Year_of_Release in [2013, 2014, 2015, 2016]').pivot_table(index = 'Platform', values = 'NA_sales', aggfunc = 'sum').sort_values(by = 'NA_sales', ascending = False).head().plot(kind = 'bar')\n",
    "plt.title('Распределение продаж в штатах')\n",
    "plt.xlabel('Платформы')\n",
    "plt.ylabel('Продажи')"
   ]
  },
  {
   "cell_type": "markdown",
   "metadata": {},
   "source": [
    "Продажи в Европе:"
   ]
  },
  {
   "cell_type": "code",
   "execution_count": 61,
   "metadata": {},
   "outputs": [
    {
     "name": "stdout",
     "output_type": "stream",
     "text": [
      "          EU_sales\n",
      "Platform          \n",
      "ps4         141.09\n",
      "ps3          67.81\n",
      "xone         51.59\n",
      "x360         42.52\n",
      "3ds          30.96\n"
     ]
    }
   ],
   "source": [
    "b = df.query('Year_of_Release in [2013, 2014, 2015, 2016]').pivot_table(index = 'Platform', values = 'EU_sales', aggfunc = 'sum').sort_values(by = 'EU_sales', ascending = False).head()\n",
    "print(b)"
   ]
  },
  {
   "cell_type": "code",
   "execution_count": 62,
   "metadata": {},
   "outputs": [
    {
     "data": {
      "text/plain": [
       "Text(0, 0.5, 'Продажи')"
      ]
     },
     "execution_count": 62,
     "metadata": {},
     "output_type": "execute_result"
    },
    {
     "data": {
      "image/png": "[encoded data removed]",
      "text/plain": [
       "<Figure size 432x288 with 1 Axes>"
      ]
     },
     "metadata": {
      "needs_background": "light"
     },
     "output_type": "display_data"
    }
   ],
   "source": [
    "df.query('Year_of_Release in [2013, 2014, 2015, 2016]').pivot_table(index = 'Platform', values = 'EU_sales', aggfunc = 'sum').sort_values(by = 'EU_sales', ascending = False).head().plot(kind = 'bar')\n",
    "plt.title('Распределение продаж в Европе')\n",
    "plt.xlabel('Платформы')\n",
    "plt.ylabel('Продажи')"
   ]
  },
  {
   "cell_type": "markdown",
   "metadata": {},
   "source": [
    "Продажи в Японии:"
   ]
  },
  {
   "cell_type": "code",
   "execution_count": 63,
   "metadata": {},
   "outputs": [
    {
     "name": "stdout",
     "output_type": "stream",
     "text": [
      "          JP_sales\n",
      "Platform          \n",
      "3ds          67.81\n",
      "ps3          23.35\n",
      "psv          18.59\n",
      "ps4          15.96\n",
      "wiiu         10.88\n"
     ]
    }
   ],
   "source": [
    "c = df.query('Year_of_Release in [2013, 2014, 2015, 2016]').pivot_table(index = 'Platform', values = 'JP_sales', aggfunc = 'sum').sort_values(by = 'JP_sales', ascending = False).head()\n",
    "print(c)"
   ]
  },
  {
   "cell_type": "code",
   "execution_count": 64,
   "metadata": {},
   "outputs": [
    {
     "data": {
      "text/plain": [
       "Text(0, 0.5, 'Продажи')"
      ]
     },
     "execution_count": 64,
     "metadata": {},
     "output_type": "execute_result"
    },
    {
     "data": {
      "image/png": "[encoded data removed]",
      "text/plain": [
       "<Figure size 432x288 with 1 Axes>"
      ]
     },
     "metadata": {
      "needs_background": "light"
     },
     "output_type": "display_data"
    }
   ],
   "source": [
    "df.query('Year_of_Release in [2013, 2014, 2015, 2016]').pivot_table(index = 'Platform', values = 'JP_sales', aggfunc = 'sum').sort_values(by = 'JP_sales', ascending = False).head().plot(kind = 'bar')\n",
    "plt.title('Распределение продаж в Японии')\n",
    "plt.xlabel('Платформы')\n",
    "plt.ylabel('Продажи')"
   ]
  },
  {
   "cell_type": "markdown",
   "metadata": {},
   "source": [
    "Наибольшие продажи были в Северной Америке, наименьшии в Японии. Скорее всего, это связана с количеством людей, проживающих в этих регионах"
   ]
  },
  {
   "cell_type": "markdown",
   "metadata": {},
   "source": [
    "Посчитаем соотношение продаж в разных регионах:"
   ]
  },
  {
   "cell_type": "code",
   "execution_count": 65,
   "metadata": {},
   "outputs": [
    {
     "name": "stdout",
     "output_type": "stream",
     "text": [
      "Platform\n",
      "3ds     1.233850\n",
      "ps3     0.936440\n",
      "ps4     0.770714\n",
      "x360    1.920508\n",
      "xone    1.805001\n",
      "dtype: float64\n"
     ]
    }
   ],
   "source": [
    "dolya = a['NA_sales']/b['EU_sales'] # Северной Америки к Европе\n",
    "print(dolya)"
   ]
  },
  {
   "cell_type": "markdown",
   "metadata": {},
   "source": [
    "**У пересекающихся платформ в Северной Америке продаж больше ~ в 1,5 - 2 раза по сравнению с Европой**"
   ]
  },
  {
   "cell_type": "code",
   "execution_count": 66,
   "metadata": {},
   "outputs": [
    {
     "name": "stdout",
     "output_type": "stream",
     "text": [
      "Platform\n",
      "3ds     0.563339\n",
      "ps3     2.719486\n",
      "ps4     6.813283\n",
      "psv          NaN\n",
      "wiiu         NaN\n",
      "x360         NaN\n",
      "xone         NaN\n",
      "dtype: float64\n"
     ]
    }
   ],
   "source": [
    "dolya = a['NA_sales']/c['JP_sales'] # Северной Америки к Японии\n",
    "print(dolya)"
   ]
  },
  {
   "cell_type": "markdown",
   "metadata": {},
   "source": [
    "**У Северной Америки по сравнению с Японией продаж гораздо больше**"
   ]
  },
  {
   "cell_type": "code",
   "execution_count": 67,
   "metadata": {},
   "outputs": [
    {
     "name": "stdout",
     "output_type": "stream",
     "text": [
      "Platform\n",
      "3ds     0.456570\n",
      "ps3     2.904069\n",
      "ps4     8.840226\n",
      "psv          NaN\n",
      "wiiu         NaN\n",
      "x360         NaN\n",
      "xone         NaN\n",
      "dtype: float64\n"
     ]
    }
   ],
   "source": [
    "dolya = b['EU_sales']/c['JP_sales'] # Европы к Японии\n",
    "print(dolya)"
   ]
  },
  {
   "cell_type": "markdown",
   "metadata": {},
   "source": [
    "**У Европы значительно больше продаж по платформам по сравнению с Японией**"
   ]
  },
  {
   "cell_type": "markdown",
   "metadata": {},
   "source": [
    "*Самые популярные жанры:*"
   ]
  },
  {
   "cell_type": "code",
   "execution_count": 68,
   "metadata": {},
   "outputs": [
    {
     "data": {
      "text/html": [
       "<div>\n",
       "<style scoped>\n",
       "    .dataframe tbody tr th:only-of-type {\n",
       "        vertical-align: middle;\n",
       "    }\n",
       "\n",
       "    .dataframe tbody tr th {\n",
       "        vertical-align: top;\n",
       "    }\n",
       "\n",
       "    .dataframe thead th {\n",
       "        text-align: right;\n",
       "    }\n",
       "</style>\n",
       "<table border=\"1\" class=\"dataframe\">\n",
       "  <thead>\n",
       "    <tr style=\"text-align: right;\">\n",
       "      <th></th>\n",
       "      <th>NA_sales</th>\n",
       "    </tr>\n",
       "    <tr>\n",
       "      <th>Genre</th>\n",
       "      <th></th>\n",
       "    </tr>\n",
       "  </thead>\n",
       "  <tbody>\n",
       "    <tr>\n",
       "      <th>action</th>\n",
       "      <td>126.05</td>\n",
       "    </tr>\n",
       "    <tr>\n",
       "      <th>shooter</th>\n",
       "      <td>109.74</td>\n",
       "    </tr>\n",
       "    <tr>\n",
       "      <th>sports</th>\n",
       "      <td>65.27</td>\n",
       "    </tr>\n",
       "    <tr>\n",
       "      <th>role-playing</th>\n",
       "      <td>46.40</td>\n",
       "    </tr>\n",
       "    <tr>\n",
       "      <th>misc</th>\n",
       "      <td>27.49</td>\n",
       "    </tr>\n",
       "  </tbody>\n",
       "</table>\n",
       "</div>"
      ],
      "text/plain": [
       "              NA_sales\n",
       "Genre                 \n",
       "action          126.05\n",
       "shooter         109.74\n",
       "sports           65.27\n",
       "role-playing     46.40\n",
       "misc             27.49"
      ]
     },
     "execution_count": 68,
     "metadata": {},
     "output_type": "execute_result"
    }
   ],
   "source": [
    "df.query('Year_of_Release in [2013, 2014, 2015, 2016]').pivot_table(index = 'Genre', values = 'NA_sales', aggfunc = 'sum').sort_values(by = 'NA_sales', ascending = False).head()"
   ]
  },
  {
   "cell_type": "code",
   "execution_count": 69,
   "metadata": {},
   "outputs": [
    {
     "data": {
      "text/plain": [
       "Text(0, 0.5, 'Продажи')"
      ]
     },
     "execution_count": 69,
     "metadata": {},
     "output_type": "execute_result"
    },
    {
     "data": {
      "image/png": "[encoded data removed]",
      "text/plain": [
       "<Figure size 432x288 with 1 Axes>"
      ]
     },
     "metadata": {
      "needs_background": "light"
     },
     "output_type": "display_data"
    }
   ],
   "source": [
    "df.query('Year_of_Release in [2013, 2014, 2015, 2016]').pivot_table(index = 'Genre', values = 'NA_sales', aggfunc = 'sum').sort_values(by = 'NA_sales', ascending = False).head().plot(kind = 'bar')\n",
    "plt.title('Распределение жанров в штатах')\n",
    "plt.xlabel('Жанр')\n",
    "plt.ylabel('Продажи')"
   ]
  },
  {
   "cell_type": "code",
   "execution_count": 70,
   "metadata": {},
   "outputs": [
    {
     "data": {
      "text/html": [
       "<div>\n",
       "<style scoped>\n",
       "    .dataframe tbody tr th:only-of-type {\n",
       "        vertical-align: middle;\n",
       "    }\n",
       "\n",
       "    .dataframe tbody tr th {\n",
       "        vertical-align: top;\n",
       "    }\n",
       "\n",
       "    .dataframe thead th {\n",
       "        text-align: right;\n",
       "    }\n",
       "</style>\n",
       "<table border=\"1\" class=\"dataframe\">\n",
       "  <thead>\n",
       "    <tr style=\"text-align: right;\">\n",
       "      <th></th>\n",
       "      <th>EU_sales</th>\n",
       "    </tr>\n",
       "    <tr>\n",
       "      <th>Genre</th>\n",
       "      <th></th>\n",
       "    </tr>\n",
       "  </thead>\n",
       "  <tbody>\n",
       "    <tr>\n",
       "      <th>action</th>\n",
       "      <td>118.13</td>\n",
       "    </tr>\n",
       "    <tr>\n",
       "      <th>shooter</th>\n",
       "      <td>87.86</td>\n",
       "    </tr>\n",
       "    <tr>\n",
       "      <th>sports</th>\n",
       "      <td>60.52</td>\n",
       "    </tr>\n",
       "    <tr>\n",
       "      <th>role-playing</th>\n",
       "      <td>36.97</td>\n",
       "    </tr>\n",
       "    <tr>\n",
       "      <th>racing</th>\n",
       "      <td>20.19</td>\n",
       "    </tr>\n",
       "  </tbody>\n",
       "</table>\n",
       "</div>"
      ],
      "text/plain": [
       "              EU_sales\n",
       "Genre                 \n",
       "action          118.13\n",
       "shooter          87.86\n",
       "sports           60.52\n",
       "role-playing     36.97\n",
       "racing           20.19"
      ]
     },
     "execution_count": 70,
     "metadata": {},
     "output_type": "execute_result"
    }
   ],
   "source": [
    "df.query('Year_of_Release in [2013, 2014, 2015, 2016]').pivot_table(index = 'Genre', values = 'EU_sales', aggfunc = 'sum').sort_values(by = 'EU_sales', ascending = False).head()"
   ]
  },
  {
   "cell_type": "code",
   "execution_count": 71,
   "metadata": {},
   "outputs": [
    {
     "data": {
      "text/plain": [
       "Text(0, 0.5, 'Продажи')"
      ]
     },
     "execution_count": 71,
     "metadata": {},
     "output_type": "execute_result"
    },
    {
     "data": {
      "image/png": "[encoded data removed]",
      "text/plain": [
       "<Figure size 432x288 with 1 Axes>"
      ]
     },
     "metadata": {
      "needs_background": "light"
     },
     "output_type": "display_data"
    }
   ],
   "source": [
    "df.query('Year_of_Release in [2013, 2014, 2015, 2016]').pivot_table(index = 'Genre', values = 'EU_sales', aggfunc = 'sum').sort_values(by = 'EU_sales', ascending = False).head().plot(kind = 'bar')\n",
    "plt.title('Распределение жанров в Европе')\n",
    "plt.xlabel('Жанр')\n",
    "plt.ylabel('Продажи')"
   ]
  },
  {
   "cell_type": "code",
   "execution_count": 72,
   "metadata": {},
   "outputs": [
    {
     "data": {
      "text/html": [
       "<div>\n",
       "<style scoped>\n",
       "    .dataframe tbody tr th:only-of-type {\n",
       "        vertical-align: middle;\n",
       "    }\n",
       "\n",
       "    .dataframe tbody tr th {\n",
       "        vertical-align: top;\n",
       "    }\n",
       "\n",
       "    .dataframe thead th {\n",
       "        text-align: right;\n",
       "    }\n",
       "</style>\n",
       "<table border=\"1\" class=\"dataframe\">\n",
       "  <thead>\n",
       "    <tr style=\"text-align: right;\">\n",
       "      <th></th>\n",
       "      <th>JP_sales</th>\n",
       "    </tr>\n",
       "    <tr>\n",
       "      <th>Genre</th>\n",
       "      <th></th>\n",
       "    </tr>\n",
       "  </thead>\n",
       "  <tbody>\n",
       "    <tr>\n",
       "      <th>role-playing</th>\n",
       "      <td>51.04</td>\n",
       "    </tr>\n",
       "    <tr>\n",
       "      <th>action</th>\n",
       "      <td>40.49</td>\n",
       "    </tr>\n",
       "    <tr>\n",
       "      <th>misc</th>\n",
       "      <td>9.20</td>\n",
       "    </tr>\n",
       "    <tr>\n",
       "      <th>fighting</th>\n",
       "      <td>7.65</td>\n",
       "    </tr>\n",
       "    <tr>\n",
       "      <th>shooter</th>\n",
       "      <td>6.61</td>\n",
       "    </tr>\n",
       "  </tbody>\n",
       "</table>\n",
       "</div>"
      ],
      "text/plain": [
       "              JP_sales\n",
       "Genre                 \n",
       "role-playing     51.04\n",
       "action           40.49\n",
       "misc              9.20\n",
       "fighting          7.65\n",
       "shooter           6.61"
      ]
     },
     "execution_count": 72,
     "metadata": {},
     "output_type": "execute_result"
    }
   ],
   "source": [
    "df.query('Year_of_Release in [2013, 2014, 2015, 2016]').pivot_table(index = 'Genre', values = 'JP_sales', aggfunc = 'sum').sort_values(by = 'JP_sales', ascending = False).head()"
   ]
  },
  {
   "cell_type": "code",
   "execution_count": 73,
   "metadata": {},
   "outputs": [
    {
     "data": {
      "text/plain": [
       "Text(0, 0.5, 'Продажи')"
      ]
     },
     "execution_count": 73,
     "metadata": {},
     "output_type": "execute_result"
    },
    {
     "data": {
      "image/png": "[encoded data removed]",
      "text/plain": [
       "<Figure size 432x288 with 1 Axes>"
      ]
     },
     "metadata": {
      "needs_background": "light"
     },
     "output_type": "display_data"
    }
   ],
   "source": [
    "df.query('Year_of_Release in [2013, 2014, 2015, 2016]').pivot_table(index = 'Genre', values = 'JP_sales', aggfunc = 'sum').sort_values(by = 'JP_sales', ascending = False).head().plot(kind = 'bar')\n",
    "plt.title('Распределение жанров в Японии')\n",
    "plt.xlabel('Жанр')\n",
    "plt.ylabel('Продажи')"
   ]
  },
  {
   "cell_type": "markdown",
   "metadata": {},
   "source": [
    "**В Северной Америке и Европе ТОП-4 жанров по популярности одинаковы. В Японии на 1-м месте в рейтинге популярности продаж находится жанр, который в Северной Америке и Европе имеет меньшую популярность. Это может быть связано с различием менталитетов и особенными вкусовыми предпочтениями нации. Также можно заметить, что в Японии преобладают с большим отрывом жанры role-playing и action**"
   ]
  },
  {
   "cell_type": "markdown",
   "metadata": {},
   "source": [
    "*Посмотрим, влияет ли рейтинг ESRB на продажи в отдельном регионе*"
   ]
  },
  {
   "cell_type": "code",
   "execution_count": 74,
   "metadata": {},
   "outputs": [
    {
     "data": {
      "text/plain": [
       "Text(0, 0.5, 'Продажи')"
      ]
     },
     "execution_count": 74,
     "metadata": {},
     "output_type": "execute_result"
    },
    {
     "data": {
      "image/png": "[encoded data removed]",
      "text/plain": [
       "<Figure size 432x288 with 1 Axes>"
      ]
     },
     "metadata": {
      "needs_background": "light"
     },
     "output_type": "display_data"
    }
   ],
   "source": [
    "df.query('Year_of_Release in [2013, 2014, 2015, 2016]').pivot_table(index = 'Rating', values = 'NA_sales', aggfunc = 'sum').sort_values(by = 'NA_sales', ascending = False).head().plot(kind = 'bar')\n",
    "plt.title('Влияние рейтинга ESRB на продажи в штатах')\n",
    "plt.xlabel('Рейтинг')\n",
    "plt.ylabel('Продажи')"
   ]
  },
  {
   "cell_type": "code",
   "execution_count": 75,
   "metadata": {},
   "outputs": [
    {
     "data": {
      "text/plain": [
       "Text(0, 0.5, 'Продажи')"
      ]
     },
     "execution_count": 75,
     "metadata": {},
     "output_type": "execute_result"
    },
    {
     "data": {
      "image/png": "[encoded data removed]",
      "text/plain": [
       "<Figure size 432x288 with 1 Axes>"
      ]
     },
     "metadata": {
      "needs_background": "light"
     },
     "output_type": "display_data"
    }
   ],
   "source": [
    "df.query('Year_of_Release in [2013, 2014, 2015, 2016]').pivot_table(index = 'Rating', values = 'EU_sales', aggfunc = 'sum').sort_values(by = 'EU_sales', ascending = False).head().plot(kind = 'bar')\n",
    "plt.title('Влияние рейтинга ESRB на продажи в Европе')\n",
    "plt.xlabel('Рейтинг')\n",
    "plt.ylabel('Продажи')"
   ]
  },
  {
   "cell_type": "code",
   "execution_count": 76,
   "metadata": {},
   "outputs": [
    {
     "data": {
      "text/plain": [
       "Text(0, 0.5, 'Продажи')"
      ]
     },
     "execution_count": 76,
     "metadata": {},
     "output_type": "execute_result"
    },
    {
     "data": {
      "image/png": "[encoded data removed]",
      "text/plain": [
       "<Figure size 432x288 with 1 Axes>"
      ]
     },
     "metadata": {
      "needs_background": "light"
     },
     "output_type": "display_data"
    }
   ],
   "source": [
    "df.query('Year_of_Release in [2013, 2014, 2015, 2016]').pivot_table(index = 'Rating', values = 'JP_sales', aggfunc = 'sum').sort_values(by = 'JP_sales', ascending = False).head().plot(kind = 'bar')\n",
    "plt.title('Влияние рейтинга ESRB на продажи в Японии')\n",
    "plt.xlabel('Рейтинг')\n",
    "plt.ylabel('Продажи')"
   ]
  },
  {
   "cell_type": "markdown",
   "metadata": {},
   "source": [
    "Да, влияние есть, это показано на графиках"
   ]
  },
  {
   "cell_type": "markdown",
   "metadata": {},
   "source": [
    "**Исходя из графиков можно сделать вывод, что пользователи в Северной Америке и Европе в основном покупают игры, у которых указан рейтинг. А вот жители Японии на рейтинг не особо смотрят и охотно покупают игры без него. Причем доля игр, купленных без рейтинга, гораздо больше доль игр с рейтингами.**"
   ]
  },
  {
   "cell_type": "markdown",
   "metadata": {},
   "source": [
    "**Вывод:**\n",
    "   1. Пользователи штатов и Европы предпочитают боевики, а жители Японии ролевые игры\n",
    "   2. В основном, игровые жанры для определенного региона соответствуют менталитету и культуре стран\n",
    "   3. Некоторые платформы содержат несколько жанров, что позволяет покрыть потребности разных регионов\n",
    "   4. Рейтинг ESRB влияет на игроков в штатах и Европе\n",
    "   5. В Европе больше всего по сравнению с другими указанными регионами смотрят на рейтинг\n",
    "   6. В Японии рейтинг не имеет значения и больше всего продано игр без указания рейтинга"
   ]
  },
  {
   "cell_type": "markdown",
   "metadata": {},
   "source": [
    "**Проверим гипотезы:**"
   ]
  },
  {
   "cell_type": "markdown",
   "metadata": {},
   "source": [
    "*1. Средние пользовательские рейтинги платформ Xbox One и PC одинаковые*"
   ]
  },
  {
   "cell_type": "markdown",
   "metadata": {},
   "source": [
    "alpha = 5%"
   ]
  },
  {
   "cell_type": "code",
   "execution_count": 77,
   "metadata": {},
   "outputs": [
    {
     "data": {
      "text/plain": [
       "array(['sports', 'platform', 'racing', 'role-playing', 'puzzle', 'misc',\n",
       "       'shooter', 'simulation', 'action', 'fighting', 'adventure',\n",
       "       'strategy', nan], dtype=object)"
      ]
     },
     "execution_count": 77,
     "metadata": {},
     "output_type": "execute_result"
    }
   ],
   "source": [
    "df['Genre'].unique()"
   ]
  },
  {
   "cell_type": "code",
   "execution_count": 78,
   "metadata": {},
   "outputs": [
    {
     "data": {
      "text/plain": [
       "array(['wii', 'nes', 'gb', 'ds', 'x360', 'ps3', 'ps2', 'snes', 'gba',\n",
       "       'ps4', '3ds', 'n64', 'ps', 'xb', 'pc', '2600', 'psp', 'xone',\n",
       "       'wiiu', 'gc', 'gen', 'dc', 'psv', 'sat', 'scd', 'ws', 'ng', 'tg16',\n",
       "       '3do', 'gg', 'pcfx'], dtype=object)"
      ]
     },
     "execution_count": 78,
     "metadata": {},
     "output_type": "execute_result"
    }
   ],
   "source": [
    "df['Platform'].unique()"
   ]
  },
  {
   "cell_type": "markdown",
   "metadata": {},
   "source": [
    "Нулевая гипотеза - то, что требуется проверить по условию. Альтернативная - обратная нулевому условию. Это утверждение, которое принимается верным, если отбрасывается H₀. "
   ]
  },
  {
   "cell_type": "markdown",
   "metadata": {},
   "source": [
    "**Нулевая гипотеза:** Средние пользовательские рейтинги платформ Xbox One и PC одинаковые H0\\\n",
    "**Альтернативная гипотеза:** Средние пользовательские рейтинги платформ Xbox One и PC отличаются H1"
   ]
  },
  {
   "cell_type": "markdown",
   "metadata": {},
   "source": [
    "Проверим, равны ли между собой дисперсии"
   ]
  },
  {
   "cell_type": "code",
   "execution_count": 79,
   "metadata": {},
   "outputs": [
    {
     "name": "stdout",
     "output_type": "stream",
     "text": [
      "False\n"
     ]
    }
   ],
   "source": [
    "xone = st.variation(df.query('Year_of_Release in [2013, 2014, 2015, 2016] & Platform == \"xone\"')['User_Score'])\n",
    "pc = st.variation(df.query('Year_of_Release in [2013, 2014, 2015, 2016] & Platform == \"pc\"')['User_Score'])\n",
    "print(xone*0.05<abs((xone-pc)))"
   ]
  },
  {
   "cell_type": "markdown",
   "metadata": {},
   "source": [
    "Не равны"
   ]
  },
  {
   "cell_type": "code",
   "execution_count": 80,
   "metadata": {},
   "outputs": [
    {
     "name": "stdout",
     "output_type": "stream",
     "text": [
      "p-значения 0.14012658403611647\n",
      "Не получилось отвергнуть нулевую гипотеза\n"
     ]
    }
   ],
   "source": [
    "result = st.ttest_ind(df.query('Year_of_Release in [2013, 2014, 2015, 2016] & Platform == \"xone\"')['User_Score'].dropna(),\n",
    "                      df.query('Year_of_Release in [2013, 2014, 2015, 2016] & Platform == \"pc\"')['User_Score'].dropna())\n",
    "prob_first1 = result.pvalue\n",
    "print('p-значения', prob_first1)\n",
    "alpha = .05\n",
    "if prob_first1 < alpha:\n",
    "    print('Отвергаем нулевую гипотеза')\n",
    "else:\n",
    "    print('Не получилось отвергнуть нулевую гипотеза')"
   ]
  },
  {
   "cell_type": "markdown",
   "metadata": {},
   "source": [
    "**Вывод:** Средние пользовательские рейтинги платформ Xbox One и PC одинаковы"
   ]
  },
  {
   "cell_type": "markdown",
   "metadata": {},
   "source": [
    "*2. Средние пользовательские рейтинги жанров Action и Sports разные.*"
   ]
  },
  {
   "cell_type": "markdown",
   "metadata": {},
   "source": [
    "alpha = 5%"
   ]
  },
  {
   "cell_type": "markdown",
   "metadata": {},
   "source": [
    "**Нулевая гипотеза:** Средние пользовательские рейтинги жанров Action и Sports одинаковые H0\\\n",
    "**Альтернативная гипотеза:** Средние пользовательские рейтинги жанров Action и Sports разные H1"
   ]
  },
  {
   "cell_type": "markdown",
   "metadata": {},
   "source": [
    "Проверим, равны ли между собой дисперсии"
   ]
  },
  {
   "cell_type": "code",
   "execution_count": 81,
   "metadata": {},
   "outputs": [
    {
     "data": {
      "text/html": [
       "<div>\n",
       "<style scoped>\n",
       "    .dataframe tbody tr th:only-of-type {\n",
       "        vertical-align: middle;\n",
       "    }\n",
       "\n",
       "    .dataframe tbody tr th {\n",
       "        vertical-align: top;\n",
       "    }\n",
       "\n",
       "    .dataframe thead th {\n",
       "        text-align: right;\n",
       "    }\n",
       "</style>\n",
       "<table border=\"1\" class=\"dataframe\">\n",
       "  <thead>\n",
       "    <tr style=\"text-align: right;\">\n",
       "      <th></th>\n",
       "      <th>Name</th>\n",
       "      <th>Platform</th>\n",
       "      <th>Year_of_Release</th>\n",
       "      <th>Genre</th>\n",
       "      <th>NA_sales</th>\n",
       "      <th>EU_sales</th>\n",
       "      <th>JP_sales</th>\n",
       "      <th>Other_sales</th>\n",
       "      <th>Critic_Score</th>\n",
       "      <th>User_Score</th>\n",
       "      <th>Rating</th>\n",
       "      <th>total_sales</th>\n",
       "    </tr>\n",
       "  </thead>\n",
       "  <tbody>\n",
       "    <tr>\n",
       "      <th>0</th>\n",
       "      <td>wii sports</td>\n",
       "      <td>wii</td>\n",
       "      <td>2006.0</td>\n",
       "      <td>sports</td>\n",
       "      <td>41.36</td>\n",
       "      <td>28.96</td>\n",
       "      <td>3.77</td>\n",
       "      <td>8.45</td>\n",
       "      <td>76.0</td>\n",
       "      <td>8.0</td>\n",
       "      <td>E</td>\n",
       "      <td>74.09</td>\n",
       "    </tr>\n",
       "    <tr>\n",
       "      <th>1</th>\n",
       "      <td>super mario bros.</td>\n",
       "      <td>nes</td>\n",
       "      <td>1985.0</td>\n",
       "      <td>platform</td>\n",
       "      <td>29.08</td>\n",
       "      <td>3.58</td>\n",
       "      <td>6.81</td>\n",
       "      <td>0.77</td>\n",
       "      <td>NaN</td>\n",
       "      <td>NaN</td>\n",
       "      <td>unknown</td>\n",
       "      <td>39.47</td>\n",
       "    </tr>\n",
       "    <tr>\n",
       "      <th>2</th>\n",
       "      <td>mario kart wii</td>\n",
       "      <td>wii</td>\n",
       "      <td>2008.0</td>\n",
       "      <td>racing</td>\n",
       "      <td>15.68</td>\n",
       "      <td>12.76</td>\n",
       "      <td>3.79</td>\n",
       "      <td>3.29</td>\n",
       "      <td>82.0</td>\n",
       "      <td>8.3</td>\n",
       "      <td>E</td>\n",
       "      <td>32.23</td>\n",
       "    </tr>\n",
       "    <tr>\n",
       "      <th>3</th>\n",
       "      <td>wii sports resort</td>\n",
       "      <td>wii</td>\n",
       "      <td>2009.0</td>\n",
       "      <td>sports</td>\n",
       "      <td>15.61</td>\n",
       "      <td>10.93</td>\n",
       "      <td>3.28</td>\n",
       "      <td>2.95</td>\n",
       "      <td>80.0</td>\n",
       "      <td>8.0</td>\n",
       "      <td>E</td>\n",
       "      <td>29.82</td>\n",
       "    </tr>\n",
       "    <tr>\n",
       "      <th>4</th>\n",
       "      <td>pokemon red/pokemon blue</td>\n",
       "      <td>gb</td>\n",
       "      <td>1996.0</td>\n",
       "      <td>role-playing</td>\n",
       "      <td>11.27</td>\n",
       "      <td>8.89</td>\n",
       "      <td>10.22</td>\n",
       "      <td>1.00</td>\n",
       "      <td>NaN</td>\n",
       "      <td>NaN</td>\n",
       "      <td>unknown</td>\n",
       "      <td>30.38</td>\n",
       "    </tr>\n",
       "    <tr>\n",
       "      <th>...</th>\n",
       "      <td>...</td>\n",
       "      <td>...</td>\n",
       "      <td>...</td>\n",
       "      <td>...</td>\n",
       "      <td>...</td>\n",
       "      <td>...</td>\n",
       "      <td>...</td>\n",
       "      <td>...</td>\n",
       "      <td>...</td>\n",
       "      <td>...</td>\n",
       "      <td>...</td>\n",
       "      <td>...</td>\n",
       "    </tr>\n",
       "    <tr>\n",
       "      <th>16710</th>\n",
       "      <td>samurai warriors: sanada maru</td>\n",
       "      <td>ps3</td>\n",
       "      <td>2016.0</td>\n",
       "      <td>action</td>\n",
       "      <td>0.00</td>\n",
       "      <td>0.00</td>\n",
       "      <td>0.01</td>\n",
       "      <td>0.00</td>\n",
       "      <td>NaN</td>\n",
       "      <td>NaN</td>\n",
       "      <td>unknown</td>\n",
       "      <td>0.01</td>\n",
       "    </tr>\n",
       "    <tr>\n",
       "      <th>16711</th>\n",
       "      <td>lma manager 2007</td>\n",
       "      <td>x360</td>\n",
       "      <td>2006.0</td>\n",
       "      <td>sports</td>\n",
       "      <td>0.00</td>\n",
       "      <td>0.01</td>\n",
       "      <td>0.00</td>\n",
       "      <td>0.00</td>\n",
       "      <td>NaN</td>\n",
       "      <td>NaN</td>\n",
       "      <td>unknown</td>\n",
       "      <td>0.01</td>\n",
       "    </tr>\n",
       "    <tr>\n",
       "      <th>16712</th>\n",
       "      <td>haitaka no psychedelica</td>\n",
       "      <td>psv</td>\n",
       "      <td>2016.0</td>\n",
       "      <td>adventure</td>\n",
       "      <td>0.00</td>\n",
       "      <td>0.00</td>\n",
       "      <td>0.01</td>\n",
       "      <td>0.00</td>\n",
       "      <td>NaN</td>\n",
       "      <td>NaN</td>\n",
       "      <td>unknown</td>\n",
       "      <td>0.01</td>\n",
       "    </tr>\n",
       "    <tr>\n",
       "      <th>16713</th>\n",
       "      <td>spirits &amp; spells</td>\n",
       "      <td>gba</td>\n",
       "      <td>2003.0</td>\n",
       "      <td>platform</td>\n",
       "      <td>0.01</td>\n",
       "      <td>0.00</td>\n",
       "      <td>0.00</td>\n",
       "      <td>0.00</td>\n",
       "      <td>NaN</td>\n",
       "      <td>NaN</td>\n",
       "      <td>unknown</td>\n",
       "      <td>0.01</td>\n",
       "    </tr>\n",
       "    <tr>\n",
       "      <th>16714</th>\n",
       "      <td>winning post 8 2016</td>\n",
       "      <td>psv</td>\n",
       "      <td>2016.0</td>\n",
       "      <td>simulation</td>\n",
       "      <td>0.00</td>\n",
       "      <td>0.00</td>\n",
       "      <td>0.01</td>\n",
       "      <td>0.00</td>\n",
       "      <td>NaN</td>\n",
       "      <td>NaN</td>\n",
       "      <td>unknown</td>\n",
       "      <td>0.01</td>\n",
       "    </tr>\n",
       "  </tbody>\n",
       "</table>\n",
       "<p>16715 rows × 12 columns</p>\n",
       "</div>"
      ],
      "text/plain": [
       "                                Name Platform  Year_of_Release         Genre  \\\n",
       "0                         wii sports      wii           2006.0        sports   \n",
       "1                  super mario bros.      nes           1985.0      platform   \n",
       "2                     mario kart wii      wii           2008.0        racing   \n",
       "3                  wii sports resort      wii           2009.0        sports   \n",
       "4           pokemon red/pokemon blue       gb           1996.0  role-playing   \n",
       "...                              ...      ...              ...           ...   \n",
       "16710  samurai warriors: sanada maru      ps3           2016.0        action   \n",
       "16711               lma manager 2007     x360           2006.0        sports   \n",
       "16712        haitaka no psychedelica      psv           2016.0     adventure   \n",
       "16713               spirits & spells      gba           2003.0      platform   \n",
       "16714            winning post 8 2016      psv           2016.0    simulation   \n",
       "\n",
       "       NA_sales  EU_sales  JP_sales  Other_sales  Critic_Score  User_Score  \\\n",
       "0         41.36     28.96      3.77         8.45          76.0         8.0   \n",
       "1         29.08      3.58      6.81         0.77           NaN         NaN   \n",
       "2         15.68     12.76      3.79         3.29          82.0         8.3   \n",
       "3         15.61     10.93      3.28         2.95          80.0         8.0   \n",
       "4         11.27      8.89     10.22         1.00           NaN         NaN   \n",
       "...         ...       ...       ...          ...           ...         ...   \n",
       "16710      0.00      0.00      0.01         0.00           NaN         NaN   \n",
       "16711      0.00      0.01      0.00         0.00           NaN         NaN   \n",
       "16712      0.00      0.00      0.01         0.00           NaN         NaN   \n",
       "16713      0.01      0.00      0.00         0.00           NaN         NaN   \n",
       "16714      0.00      0.00      0.01         0.00           NaN         NaN   \n",
       "\n",
       "        Rating  total_sales  \n",
       "0            E        74.09  \n",
       "1      unknown        39.47  \n",
       "2            E        32.23  \n",
       "3            E        29.82  \n",
       "4      unknown        30.38  \n",
       "...        ...          ...  \n",
       "16710  unknown         0.01  \n",
       "16711  unknown         0.01  \n",
       "16712  unknown         0.01  \n",
       "16713  unknown         0.01  \n",
       "16714  unknown         0.01  \n",
       "\n",
       "[16715 rows x 12 columns]"
      ]
     },
     "execution_count": 81,
     "metadata": {},
     "output_type": "execute_result"
    }
   ],
   "source": [
    "df"
   ]
  },
  {
   "cell_type": "code",
   "execution_count": 82,
   "metadata": {},
   "outputs": [
    {
     "name": "stdout",
     "output_type": "stream",
     "text": [
      "False\n"
     ]
    }
   ],
   "source": [
    "xone = st.variation(df.query('Year_of_Release in [2013, 2014, 2015, 2016] & Genre == \"action\"')['User_Score'])\n",
    "pc = st.variation(df.query('Year_of_Release in [2013, 2014, 2015, 2016] & Genre == \"sports\"')['User_Score'])\n",
    "print(xone*0.05<abs((xone-pc)))"
   ]
  },
  {
   "cell_type": "markdown",
   "metadata": {},
   "source": [
    "Не равны"
   ]
  },
  {
   "cell_type": "code",
   "execution_count": 83,
   "metadata": {},
   "outputs": [
    {
     "name": "stdout",
     "output_type": "stream",
     "text": [
      "p-значения 1.0517832389140023e-27\n",
      "Отвергаем нулевую гипотеза\n"
     ]
    }
   ],
   "source": [
    "result = st.ttest_ind(df.query('Year_of_Release in [2013, 2014, 2015, 2016] & Genre == \"action\"')['User_Score'].dropna(),\n",
    "                      df.query('Year_of_Release in [2013, 2014, 2015, 2016] & Genre == \"sports\"')['User_Score'].dropna())\n",
    "prob_first2 = result.pvalue\n",
    "print('p-значения', prob_first2)\n",
    "alpha = .05\n",
    "if prob_first2 < alpha:\n",
    "    print('Отвергаем нулевую гипотеза')\n",
    "else:\n",
    "    print('Не получилось отвергнуть нулевую гипотеза')"
   ]
  },
  {
   "cell_type": "markdown",
   "metadata": {},
   "source": [
    "**Вывод:** Средние пользовательские рейтинги жанров Action и Sports разные"
   ]
  },
  {
   "cell_type": "markdown",
   "metadata": {},
   "source": [
    "**Общий вывод:**"
   ]
  },
  {
   "cell_type": "markdown",
   "metadata": {},
   "source": [
    "Перед анализом данных мы подготовили данные\n",
    "   1. Привели столбцы к правильным типам\n",
    "   2. Привели названия к нижнему регистру\n",
    "   3. Привели к правильным данным столбцы\\\n",
    "   \n",
    "Далее определили, что TBD - to be determined, то есть данные были специально не заполнены. Заменили tbd на NaN.\n",
    "\n",
    "В столбце Rating много пропусков и они не случайны, скорее всего эти игры не получили оценок, поскольку могли быть выпущены до того как появилась система ESRB или просто еще не успели их оценить. Заменили их на значение \"unknown\"\n",
    "\n",
    "Проводя анализ поняли, что пик количества игр приходился на 2009 год.\n",
    "\n",
    "Поняли, что средняя продолжительность \"жизни\" платформ составляет 8 лет.\n",
    "\n",
    "Выявили наиболее популярные платформы: ps3 и xone.\n",
    "\n",
    "У платформ-лидеров наблюдается взаимосвязь с количеством продаж и рейтингом критиков.\n",
    "\n",
    "Проанализировали продажи и предпочтения по жанрам в разнах регионах мира. Поняли, что пользователи штатов и Европы предпочитают боевики, а жители Японии ролевые игры.\n",
    "\n",
    "В ходе анализа проверили, что игровые жанры для определенного региона соответствуют менталитету и культуре стран.\n",
    "\n",
    "Некоторые платформы содержат несколько жанров, что позволяет покрыть потребности разных регионов.\n",
    "\n",
    "Рейтинг ESRB влияет на игроков. В Европе больше всего по сравнению с другими указанными регионами смотрят на рейтинг. В Японии рейтинг не имеет значения и больше всего продано игр без указания рейтинга\n"
   ]
  }
 ],
 "metadata": {
  "ExecuteTimeLog": [
   {
    "duration": 372,
    "start_time": "2022-10-27T14:39:11.302Z"
   },
   {
    "duration": 197,
    "start_time": "2022-10-27T14:39:12.442Z"
   },
   {
    "duration": 61,
    "start_time": "2022-10-27T14:42:34.958Z"
   },
   {
    "duration": 874,
    "start_time": "2022-10-27T14:50:47.644Z"
   },
   {
    "duration": 60,
    "start_time": "2022-10-27T14:50:49.488Z"
   },
   {
    "duration": 14,
    "start_time": "2022-10-27T15:10:50.413Z"
   },
   {
    "duration": 25,
    "start_time": "2022-10-27T15:14:16.576Z"
   },
   {
    "duration": 28,
    "start_time": "2022-10-27T15:14:35.751Z"
   },
   {
    "duration": 31,
    "start_time": "2022-10-27T15:15:12.972Z"
   },
   {
    "duration": 13,
    "start_time": "2022-10-27T15:19:25.960Z"
   },
   {
    "duration": 89,
    "start_time": "2022-10-27T15:32:42.147Z"
   },
   {
    "duration": 15,
    "start_time": "2022-10-27T15:32:48.737Z"
   },
   {
    "duration": 32,
    "start_time": "2022-10-27T15:34:15.491Z"
   },
   {
    "duration": 29,
    "start_time": "2022-10-27T15:35:13.507Z"
   },
   {
    "duration": 5,
    "start_time": "2022-10-27T16:00:19.720Z"
   },
   {
    "duration": 7,
    "start_time": "2022-10-27T16:01:38.330Z"
   },
   {
    "duration": 11,
    "start_time": "2022-10-27T16:03:09.984Z"
   },
   {
    "duration": 10,
    "start_time": "2022-10-27T16:03:21.873Z"
   },
   {
    "duration": 6,
    "start_time": "2022-10-27T16:05:07.471Z"
   },
   {
    "duration": 5,
    "start_time": "2022-10-27T16:08:29.258Z"
   },
   {
    "duration": 7,
    "start_time": "2022-10-27T16:09:17.590Z"
   },
   {
    "duration": 61,
    "start_time": "2022-10-27T16:09:54.047Z"
   },
   {
    "duration": 29,
    "start_time": "2022-10-27T16:10:01.056Z"
   },
   {
    "duration": 13,
    "start_time": "2022-10-27T16:10:09.621Z"
   },
   {
    "duration": 15,
    "start_time": "2022-10-27T16:10:21.975Z"
   },
   {
    "duration": 14,
    "start_time": "2022-10-27T16:11:06.527Z"
   },
   {
    "duration": 18,
    "start_time": "2022-10-27T16:11:46.497Z"
   },
   {
    "duration": 21,
    "start_time": "2022-10-27T16:11:58.822Z"
   },
   {
    "duration": 4,
    "start_time": "2022-10-27T16:39:42.156Z"
   },
   {
    "duration": 5,
    "start_time": "2022-10-27T16:40:03.488Z"
   },
   {
    "duration": 5,
    "start_time": "2022-10-27T16:40:30.414Z"
   },
   {
    "duration": 5,
    "start_time": "2022-10-27T16:40:45.312Z"
   },
   {
    "duration": 5,
    "start_time": "2022-10-27T16:40:54.858Z"
   },
   {
    "duration": 5,
    "start_time": "2022-10-27T16:40:58.134Z"
   },
   {
    "duration": 6,
    "start_time": "2022-10-27T16:45:06.546Z"
   },
   {
    "duration": 6,
    "start_time": "2022-10-27T16:45:13.108Z"
   },
   {
    "duration": 19,
    "start_time": "2022-10-27T16:45:18.416Z"
   },
   {
    "duration": 3,
    "start_time": "2022-10-27T16:45:35.345Z"
   },
   {
    "duration": 4,
    "start_time": "2022-10-27T16:45:43.145Z"
   },
   {
    "duration": 21,
    "start_time": "2022-10-27T16:45:44.351Z"
   },
   {
    "duration": 5,
    "start_time": "2022-10-27T17:13:50.773Z"
   },
   {
    "duration": 4,
    "start_time": "2022-10-27T17:14:31.114Z"
   },
   {
    "duration": 1034,
    "start_time": "2022-10-27T17:15:25.967Z"
   },
   {
    "duration": 62,
    "start_time": "2022-10-27T17:15:27.003Z"
   },
   {
    "duration": 29,
    "start_time": "2022-10-27T17:15:31.016Z"
   },
   {
    "duration": 13,
    "start_time": "2022-10-27T17:15:32.091Z"
   },
   {
    "duration": 5,
    "start_time": "2022-10-27T17:15:34.126Z"
   },
   {
    "duration": 22,
    "start_time": "2022-10-27T17:15:35.389Z"
   },
   {
    "duration": 5,
    "start_time": "2022-10-27T17:15:36.314Z"
   },
   {
    "duration": 3,
    "start_time": "2022-10-27T17:15:38.331Z"
   },
   {
    "duration": 5,
    "start_time": "2022-10-27T17:15:39.439Z"
   },
   {
    "duration": 5,
    "start_time": "2022-10-27T17:15:53.968Z"
   },
   {
    "duration": 25,
    "start_time": "2022-10-27T17:15:55.876Z"
   },
   {
    "duration": 6,
    "start_time": "2022-10-27T17:16:00.446Z"
   },
   {
    "duration": 103,
    "start_time": "2022-10-27T17:26:21.161Z"
   },
   {
    "duration": 26,
    "start_time": "2022-10-27T17:26:27.272Z"
   },
   {
    "duration": 23,
    "start_time": "2022-10-27T17:26:45.911Z"
   },
   {
    "duration": 17,
    "start_time": "2022-10-27T17:33:23.913Z"
   },
   {
    "duration": 15,
    "start_time": "2022-10-27T17:33:34.520Z"
   },
   {
    "duration": 14,
    "start_time": "2022-10-27T17:33:54.555Z"
   },
   {
    "duration": 16,
    "start_time": "2022-10-27T17:34:00.813Z"
   },
   {
    "duration": 8,
    "start_time": "2022-10-27T17:34:43.339Z"
   },
   {
    "duration": 421,
    "start_time": "2022-10-27T18:00:27.497Z"
   },
   {
    "duration": 337,
    "start_time": "2022-10-27T18:00:39.605Z"
   },
   {
    "duration": 138,
    "start_time": "2022-10-27T18:00:58.539Z"
   },
   {
    "duration": 128,
    "start_time": "2022-10-27T18:01:03.992Z"
   },
   {
    "duration": 142,
    "start_time": "2022-10-27T18:01:08.756Z"
   },
   {
    "duration": 116,
    "start_time": "2022-10-27T18:01:13.253Z"
   },
   {
    "duration": 5,
    "start_time": "2022-10-27T18:07:53.834Z"
   },
   {
    "duration": 12,
    "start_time": "2022-10-27T18:09:08.773Z"
   },
   {
    "duration": 11,
    "start_time": "2022-10-27T18:09:19.445Z"
   },
   {
    "duration": 9,
    "start_time": "2022-10-27T18:09:34.988Z"
   },
   {
    "duration": 10,
    "start_time": "2022-10-27T18:10:14.235Z"
   },
   {
    "duration": 10,
    "start_time": "2022-10-27T18:10:41.852Z"
   },
   {
    "duration": 10,
    "start_time": "2022-10-27T18:11:11.634Z"
   },
   {
    "duration": 23,
    "start_time": "2022-10-27T18:14:09.021Z"
   },
   {
    "duration": 4,
    "start_time": "2022-10-27T18:14:42.562Z"
   },
   {
    "duration": 1107,
    "start_time": "2022-10-27T18:14:56.848Z"
   },
   {
    "duration": 67,
    "start_time": "2022-10-27T18:14:57.956Z"
   },
   {
    "duration": 31,
    "start_time": "2022-10-27T18:15:00.969Z"
   },
   {
    "duration": 15,
    "start_time": "2022-10-27T18:15:01.887Z"
   },
   {
    "duration": 18,
    "start_time": "2022-10-27T18:15:02.858Z"
   },
   {
    "duration": 6,
    "start_time": "2022-10-27T18:15:04.381Z"
   },
   {
    "duration": 25,
    "start_time": "2022-10-27T18:15:05.930Z"
   },
   {
    "duration": 6,
    "start_time": "2022-10-27T18:15:06.839Z"
   },
   {
    "duration": 4,
    "start_time": "2022-10-27T18:15:08.244Z"
   },
   {
    "duration": 5,
    "start_time": "2022-10-27T18:15:09.243Z"
   },
   {
    "duration": 4,
    "start_time": "2022-10-27T18:15:10.847Z"
   },
   {
    "duration": 20,
    "start_time": "2022-10-27T18:15:11.753Z"
   },
   {
    "duration": 5,
    "start_time": "2022-10-27T18:15:13.608Z"
   },
   {
    "duration": 27,
    "start_time": "2022-10-27T18:15:16.394Z"
   },
   {
    "duration": 23,
    "start_time": "2022-10-27T18:15:19.479Z"
   },
   {
    "duration": 5,
    "start_time": "2022-10-27T18:15:22.345Z"
   },
   {
    "duration": 81,
    "start_time": "2022-10-27T18:15:46.681Z"
   },
   {
    "duration": 25,
    "start_time": "2022-10-27T18:15:55.681Z"
   },
   {
    "duration": 5,
    "start_time": "2022-10-27T18:16:59.749Z"
   },
   {
    "duration": 6,
    "start_time": "2022-10-27T18:19:57.805Z"
   },
   {
    "duration": 5,
    "start_time": "2022-10-27T18:20:01.387Z"
   },
   {
    "duration": 991,
    "start_time": "2022-10-27T18:25:04.523Z"
   },
   {
    "duration": 71,
    "start_time": "2022-10-27T18:25:05.516Z"
   },
   {
    "duration": 29,
    "start_time": "2022-10-27T18:25:07.919Z"
   },
   {
    "duration": 14,
    "start_time": "2022-10-27T18:25:16.884Z"
   },
   {
    "duration": 16,
    "start_time": "2022-10-27T18:25:17.553Z"
   },
   {
    "duration": 5,
    "start_time": "2022-10-27T18:25:18.891Z"
   },
   {
    "duration": 24,
    "start_time": "2022-10-27T18:25:20.232Z"
   },
   {
    "duration": 5,
    "start_time": "2022-10-27T18:25:22.960Z"
   },
   {
    "duration": 5,
    "start_time": "2022-10-27T18:25:26.044Z"
   },
   {
    "duration": 24,
    "start_time": "2022-10-27T18:25:27.736Z"
   },
   {
    "duration": 4,
    "start_time": "2022-10-27T18:25:30.022Z"
   },
   {
    "duration": 23,
    "start_time": "2022-10-27T18:25:31.778Z"
   },
   {
    "duration": 5,
    "start_time": "2022-10-27T18:25:35.090Z"
   },
   {
    "duration": 13,
    "start_time": "2022-10-27T18:26:27.986Z"
   },
   {
    "duration": 91,
    "start_time": "2022-10-27T18:26:55.344Z"
   },
   {
    "duration": 4,
    "start_time": "2022-10-27T18:27:59.496Z"
   },
   {
    "duration": 3,
    "start_time": "2022-10-27T18:28:34.958Z"
   },
   {
    "duration": 4,
    "start_time": "2022-10-27T18:29:31.603Z"
   },
   {
    "duration": 12,
    "start_time": "2022-10-27T18:30:17.350Z"
   },
   {
    "duration": 6,
    "start_time": "2022-10-27T18:40:29.423Z"
   },
   {
    "duration": 1088,
    "start_time": "2022-10-27T18:41:57.603Z"
   },
   {
    "duration": 7,
    "start_time": "2022-10-27T18:42:29.459Z"
   },
   {
    "duration": 5,
    "start_time": "2022-10-27T18:43:00.598Z"
   },
   {
    "duration": 5,
    "start_time": "2022-10-27T18:43:29.862Z"
   },
   {
    "duration": 5,
    "start_time": "2022-10-27T18:44:02.324Z"
   },
   {
    "duration": 17,
    "start_time": "2022-10-27T18:45:50.313Z"
   },
   {
    "duration": 7,
    "start_time": "2022-10-27T18:49:30.012Z"
   },
   {
    "duration": 5,
    "start_time": "2022-10-27T18:49:37.504Z"
   },
   {
    "duration": 5,
    "start_time": "2022-10-27T18:49:43.201Z"
   },
   {
    "duration": 23,
    "start_time": "2022-10-27T18:51:04.539Z"
   },
   {
    "duration": 8,
    "start_time": "2022-10-27T18:51:30.348Z"
   },
   {
    "duration": 4,
    "start_time": "2022-10-27T18:54:25.008Z"
   },
   {
    "duration": 7,
    "start_time": "2022-10-27T18:54:31.392Z"
   },
   {
    "duration": 160,
    "start_time": "2022-10-27T18:55:35.501Z"
   },
   {
    "duration": 183,
    "start_time": "2022-10-27T18:57:57.778Z"
   },
   {
    "duration": 159,
    "start_time": "2022-10-27T18:58:20.754Z"
   },
   {
    "duration": 141,
    "start_time": "2022-10-27T18:58:52.382Z"
   },
   {
    "duration": 163,
    "start_time": "2022-10-27T18:59:18.549Z"
   },
   {
    "duration": 167,
    "start_time": "2022-10-27T18:59:32.693Z"
   },
   {
    "duration": 8,
    "start_time": "2022-10-27T19:03:43.415Z"
   },
   {
    "duration": 6,
    "start_time": "2022-10-27T19:05:03.614Z"
   },
   {
    "duration": 7,
    "start_time": "2022-10-27T19:05:48.011Z"
   },
   {
    "duration": 7,
    "start_time": "2022-10-27T19:06:33.808Z"
   },
   {
    "duration": 9,
    "start_time": "2022-10-27T19:07:27.479Z"
   },
   {
    "duration": 10,
    "start_time": "2022-10-27T19:10:37.359Z"
   },
   {
    "duration": 12,
    "start_time": "2022-10-27T19:10:44.658Z"
   },
   {
    "duration": 17,
    "start_time": "2022-10-27T19:11:01.954Z"
   },
   {
    "duration": 12,
    "start_time": "2022-10-27T19:11:15.626Z"
   },
   {
    "duration": 23,
    "start_time": "2022-10-27T19:12:47.990Z"
   },
   {
    "duration": 206,
    "start_time": "2022-10-27T19:12:58.941Z"
   },
   {
    "duration": 5,
    "start_time": "2022-10-27T19:14:47.383Z"
   },
   {
    "duration": 5,
    "start_time": "2022-10-27T19:15:12.192Z"
   },
   {
    "duration": 5,
    "start_time": "2022-10-27T19:15:27.688Z"
   },
   {
    "duration": 5,
    "start_time": "2022-10-27T19:15:47.486Z"
   },
   {
    "duration": 126,
    "start_time": "2022-10-27T19:18:25.151Z"
   },
   {
    "duration": 116,
    "start_time": "2022-10-27T19:19:23.963Z"
   },
   {
    "duration": 205,
    "start_time": "2022-10-27T19:19:41.747Z"
   },
   {
    "duration": 141,
    "start_time": "2022-10-27T19:20:40.561Z"
   },
   {
    "duration": 122,
    "start_time": "2022-10-27T19:27:26.498Z"
   },
   {
    "duration": 127,
    "start_time": "2022-10-27T19:28:12.066Z"
   },
   {
    "duration": 24,
    "start_time": "2022-10-27T19:59:03.813Z"
   },
   {
    "duration": 15,
    "start_time": "2022-10-27T19:59:37.446Z"
   },
   {
    "duration": 24,
    "start_time": "2022-10-27T20:02:44.269Z"
   },
   {
    "duration": 145,
    "start_time": "2022-10-27T20:07:51.254Z"
   },
   {
    "duration": 15,
    "start_time": "2022-10-27T20:10:37.055Z"
   },
   {
    "duration": 14,
    "start_time": "2022-10-27T20:10:46.779Z"
   },
   {
    "duration": 14,
    "start_time": "2022-10-27T20:10:59.757Z"
   },
   {
    "duration": 7,
    "start_time": "2022-10-27T20:11:16.441Z"
   },
   {
    "duration": 6298,
    "start_time": "2022-10-27T20:11:28.116Z"
   },
   {
    "duration": 8,
    "start_time": "2022-10-27T20:11:59.835Z"
   },
   {
    "duration": 13,
    "start_time": "2022-10-27T20:13:24.167Z"
   },
   {
    "duration": 1186,
    "start_time": "2022-10-27T20:13:38.032Z"
   },
   {
    "duration": 1057,
    "start_time": "2022-10-27T20:15:31.460Z"
   },
   {
    "duration": 1082,
    "start_time": "2022-10-27T20:15:46.954Z"
   },
   {
    "duration": 1130,
    "start_time": "2022-10-27T20:16:24.257Z"
   },
   {
    "duration": 4,
    "start_time": "2022-10-27T20:16:37.554Z"
   },
   {
    "duration": 18,
    "start_time": "2022-10-27T20:17:27.781Z"
   },
   {
    "duration": 136,
    "start_time": "2022-10-27T20:18:16.530Z"
   },
   {
    "duration": 180,
    "start_time": "2022-10-27T20:18:27.880Z"
   },
   {
    "duration": 143,
    "start_time": "2022-10-27T20:18:38.946Z"
   },
   {
    "duration": 12485,
    "start_time": "2022-10-27T20:18:55.299Z"
   },
   {
    "duration": 29,
    "start_time": "2022-10-27T20:21:14.430Z"
   },
   {
    "duration": 2029,
    "start_time": "2022-10-27T20:21:30.256Z"
   },
   {
    "duration": 25,
    "start_time": "2022-10-27T20:22:01.616Z"
   },
   {
    "duration": 13,
    "start_time": "2022-10-27T20:23:14.828Z"
   },
   {
    "duration": 8,
    "start_time": "2022-10-27T20:23:21.455Z"
   },
   {
    "duration": 7,
    "start_time": "2022-10-27T20:23:32.044Z"
   },
   {
    "duration": 8,
    "start_time": "2022-10-27T20:23:37.536Z"
   },
   {
    "duration": 23,
    "start_time": "2022-10-27T20:24:04.777Z"
   },
   {
    "duration": 16,
    "start_time": "2022-10-27T20:25:13.955Z"
   },
   {
    "duration": 38,
    "start_time": "2022-10-27T20:25:44.440Z"
   },
   {
    "duration": 15,
    "start_time": "2022-10-27T20:25:57.056Z"
   },
   {
    "duration": 19,
    "start_time": "2022-10-27T20:26:03.401Z"
   },
   {
    "duration": 241,
    "start_time": "2022-10-27T20:26:46.163Z"
   },
   {
    "duration": 15,
    "start_time": "2022-10-27T20:30:02.470Z"
   },
   {
    "duration": 16,
    "start_time": "2022-10-27T20:30:16.039Z"
   },
   {
    "duration": 16,
    "start_time": "2022-10-27T20:30:36.050Z"
   },
   {
    "duration": 17,
    "start_time": "2022-10-27T20:30:52.040Z"
   },
   {
    "duration": 15,
    "start_time": "2022-10-27T20:31:27.889Z"
   },
   {
    "duration": 17,
    "start_time": "2022-10-27T20:31:59.193Z"
   },
   {
    "duration": 18,
    "start_time": "2022-10-27T20:32:09.796Z"
   },
   {
    "duration": 17,
    "start_time": "2022-10-27T20:32:15.484Z"
   },
   {
    "duration": 15,
    "start_time": "2022-10-27T20:32:36.202Z"
   },
   {
    "duration": 16,
    "start_time": "2022-10-27T20:32:45.951Z"
   },
   {
    "duration": 15,
    "start_time": "2022-10-27T20:33:06.569Z"
   },
   {
    "duration": 18,
    "start_time": "2022-10-27T20:33:15.963Z"
   },
   {
    "duration": 15,
    "start_time": "2022-10-27T20:33:19.207Z"
   },
   {
    "duration": 16,
    "start_time": "2022-10-27T20:36:49.475Z"
   },
   {
    "duration": 143,
    "start_time": "2022-10-27T20:37:10.794Z"
   },
   {
    "duration": 18,
    "start_time": "2022-10-27T20:37:21.604Z"
   },
   {
    "duration": 16,
    "start_time": "2022-10-27T20:37:31.867Z"
   },
   {
    "duration": 22,
    "start_time": "2022-10-27T20:38:42.045Z"
   },
   {
    "duration": 18,
    "start_time": "2022-10-27T20:42:51.515Z"
   },
   {
    "duration": 15,
    "start_time": "2022-10-27T20:43:07.951Z"
   },
   {
    "duration": 15,
    "start_time": "2022-10-27T20:43:41.050Z"
   },
   {
    "duration": 17,
    "start_time": "2022-10-27T20:44:35.341Z"
   },
   {
    "duration": 17,
    "start_time": "2022-10-27T20:45:00.485Z"
   },
   {
    "duration": 16,
    "start_time": "2022-10-27T20:45:25.206Z"
   },
   {
    "duration": 15,
    "start_time": "2022-10-27T20:45:43.558Z"
   },
   {
    "duration": 15,
    "start_time": "2022-10-27T20:46:58.729Z"
   },
   {
    "duration": 17,
    "start_time": "2022-10-27T20:47:08.271Z"
   },
   {
    "duration": 17,
    "start_time": "2022-10-27T20:47:42.812Z"
   },
   {
    "duration": 16,
    "start_time": "2022-10-27T20:47:53.841Z"
   },
   {
    "duration": 15,
    "start_time": "2022-10-27T20:48:04.847Z"
   },
   {
    "duration": 15,
    "start_time": "2022-10-27T20:48:12.548Z"
   },
   {
    "duration": 1209,
    "start_time": "2022-10-28T10:13:34.794Z"
   },
   {
    "duration": 119,
    "start_time": "2022-10-28T10:13:36.005Z"
   },
   {
    "duration": 33,
    "start_time": "2022-10-28T10:13:38.967Z"
   },
   {
    "duration": 14,
    "start_time": "2022-10-28T10:13:39.744Z"
   },
   {
    "duration": 6,
    "start_time": "2022-10-28T10:13:40.372Z"
   },
   {
    "duration": 5,
    "start_time": "2022-10-28T10:13:41.328Z"
   },
   {
    "duration": 5,
    "start_time": "2022-10-28T10:13:46.179Z"
   },
   {
    "duration": 5,
    "start_time": "2022-10-28T10:13:55.557Z"
   },
   {
    "duration": 5,
    "start_time": "2022-10-28T10:14:00.728Z"
   },
   {
    "duration": 20,
    "start_time": "2022-10-28T10:14:04.065Z"
   },
   {
    "duration": 12,
    "start_time": "2022-10-28T10:14:21.409Z"
   },
   {
    "duration": 109,
    "start_time": "2022-10-28T10:14:22.508Z"
   },
   {
    "duration": 56,
    "start_time": "2022-10-28T10:15:38.669Z"
   },
   {
    "duration": 27,
    "start_time": "2022-10-28T10:15:47.223Z"
   },
   {
    "duration": 294,
    "start_time": "2022-10-28T10:17:14.271Z"
   },
   {
    "duration": 6,
    "start_time": "2022-10-28T10:17:49.784Z"
   },
   {
    "duration": 276,
    "start_time": "2022-10-28T10:17:55.864Z"
   },
   {
    "duration": 301,
    "start_time": "2022-10-28T10:20:27.341Z"
   },
   {
    "duration": 1254,
    "start_time": "2022-10-28T18:14:50.477Z"
   },
   {
    "duration": 226,
    "start_time": "2022-10-28T18:14:52.506Z"
   },
   {
    "duration": 27,
    "start_time": "2022-10-28T18:14:55.811Z"
   },
   {
    "duration": 14,
    "start_time": "2022-10-28T18:14:57.014Z"
   },
   {
    "duration": 6,
    "start_time": "2022-10-28T18:14:57.865Z"
   },
   {
    "duration": 5,
    "start_time": "2022-10-28T18:14:58.884Z"
   },
   {
    "duration": 16,
    "start_time": "2022-10-28T18:14:59.726Z"
   },
   {
    "duration": 5,
    "start_time": "2022-10-28T18:15:01.458Z"
   },
   {
    "duration": 31,
    "start_time": "2022-10-28T18:15:03.222Z"
   },
   {
    "duration": 5,
    "start_time": "2022-10-28T18:15:04.033Z"
   },
   {
    "duration": 5,
    "start_time": "2022-10-28T18:15:06.661Z"
   },
   {
    "duration": 22,
    "start_time": "2022-10-28T18:15:07.332Z"
   },
   {
    "duration": 4,
    "start_time": "2022-10-28T18:15:09.325Z"
   },
   {
    "duration": 21,
    "start_time": "2022-10-28T18:15:12.056Z"
   },
   {
    "duration": 5,
    "start_time": "2022-10-28T18:15:13.536Z"
   },
   {
    "duration": 5,
    "start_time": "2022-10-28T18:15:14.326Z"
   },
   {
    "duration": 12,
    "start_time": "2022-10-28T18:15:16.453Z"
   },
   {
    "duration": 5,
    "start_time": "2022-10-28T18:15:18.022Z"
   },
   {
    "duration": 13,
    "start_time": "2022-10-28T18:15:19.318Z"
   },
   {
    "duration": 21,
    "start_time": "2022-10-28T18:15:20.638Z"
   },
   {
    "duration": 9,
    "start_time": "2022-10-28T18:15:22.502Z"
   },
   {
    "duration": 155,
    "start_time": "2022-10-28T18:15:23.178Z"
   },
   {
    "duration": 13,
    "start_time": "2022-10-28T18:15:25.202Z"
   },
   {
    "duration": 4,
    "start_time": "2022-10-28T18:15:26.497Z"
   },
   {
    "duration": 126,
    "start_time": "2022-10-28T18:15:27.130Z"
   },
   {
    "duration": 27,
    "start_time": "2022-10-28T18:15:32.202Z"
   },
   {
    "duration": 12,
    "start_time": "2022-10-28T18:15:33.829Z"
   },
   {
    "duration": 276,
    "start_time": "2022-10-28T18:15:35.016Z"
   },
   {
    "duration": 72,
    "start_time": "2022-10-28T18:27:19.650Z"
   },
   {
    "duration": 16,
    "start_time": "2022-10-28T18:27:26.583Z"
   },
   {
    "duration": 183,
    "start_time": "2022-10-28T18:27:28.581Z"
   },
   {
    "duration": 15,
    "start_time": "2022-10-28T18:31:25.012Z"
   },
   {
    "duration": 235,
    "start_time": "2022-10-28T18:31:49.458Z"
   },
   {
    "duration": 161,
    "start_time": "2022-10-28T18:32:01.608Z"
   },
   {
    "duration": 3,
    "start_time": "2022-10-28T18:34:03.014Z"
   },
   {
    "duration": 1062,
    "start_time": "2022-10-28T18:36:22.600Z"
   },
   {
    "duration": 606,
    "start_time": "2022-10-28T18:36:36.619Z"
   },
   {
    "duration": 615,
    "start_time": "2022-10-28T18:45:51.273Z"
   },
   {
    "duration": 3,
    "start_time": "2022-10-28T18:50:11.772Z"
   },
   {
    "duration": 691,
    "start_time": "2022-10-28T18:50:12.762Z"
   },
   {
    "duration": 9,
    "start_time": "2022-10-28T19:01:39.092Z"
   },
   {
    "duration": 11,
    "start_time": "2022-10-28T19:01:54.001Z"
   },
   {
    "duration": 9,
    "start_time": "2022-10-28T19:02:00.079Z"
   },
   {
    "duration": 4131,
    "start_time": "2022-10-28T19:02:09.043Z"
   },
   {
    "duration": 5420,
    "start_time": "2022-10-28T19:04:06.270Z"
   },
   {
    "duration": 95,
    "start_time": "2022-10-28T19:04:19.092Z"
   },
   {
    "duration": 276,
    "start_time": "2022-10-28T19:05:35.333Z"
   },
   {
    "duration": 93,
    "start_time": "2022-10-28T19:05:42.391Z"
   },
   {
    "duration": 130,
    "start_time": "2022-10-28T19:05:52.315Z"
   },
   {
    "duration": 112,
    "start_time": "2022-10-28T19:07:39.301Z"
   },
   {
    "duration": 117,
    "start_time": "2022-10-28T19:10:30.464Z"
   },
   {
    "duration": 133,
    "start_time": "2022-10-28T19:11:17.802Z"
   },
   {
    "duration": 14,
    "start_time": "2022-10-28T19:25:35.502Z"
   },
   {
    "duration": 1057,
    "start_time": "2022-10-28T19:28:13.891Z"
   },
   {
    "duration": 13,
    "start_time": "2022-10-28T19:28:26.595Z"
   },
   {
    "duration": 71,
    "start_time": "2022-10-28T19:31:41.193Z"
   },
   {
    "duration": 9,
    "start_time": "2022-10-28T19:33:32.069Z"
   },
   {
    "duration": 9,
    "start_time": "2022-10-28T19:33:33.107Z"
   },
   {
    "duration": 10,
    "start_time": "2022-10-28T19:34:16.093Z"
   },
   {
    "duration": 5,
    "start_time": "2022-10-28T19:34:28.742Z"
   },
   {
    "duration": 10,
    "start_time": "2022-10-28T19:34:29.837Z"
   },
   {
    "duration": 87,
    "start_time": "2022-10-28T19:38:16.551Z"
   },
   {
    "duration": 2669,
    "start_time": "2022-10-28T19:41:15.747Z"
   },
   {
    "duration": 1107,
    "start_time": "2022-10-28T19:42:05.461Z"
   },
   {
    "duration": 13,
    "start_time": "2022-10-28T19:42:24.623Z"
   },
   {
    "duration": 186,
    "start_time": "2022-10-28T19:42:35.296Z"
   },
   {
    "duration": 2462,
    "start_time": "2022-10-28T19:46:25.290Z"
   },
   {
    "duration": 18,
    "start_time": "2022-10-28T19:49:31.413Z"
   },
   {
    "duration": 71,
    "start_time": "2022-10-28T19:50:00.826Z"
   },
   {
    "duration": 17,
    "start_time": "2022-10-28T19:50:07.670Z"
   },
   {
    "duration": 18,
    "start_time": "2022-10-28T19:52:56.731Z"
   },
   {
    "duration": 15,
    "start_time": "2022-10-28T19:53:13.671Z"
   },
   {
    "duration": 1114,
    "start_time": "2022-10-28T19:53:29.110Z"
   },
   {
    "duration": 2915,
    "start_time": "2022-10-28T19:54:31.797Z"
   },
   {
    "duration": 91,
    "start_time": "2022-10-28T19:55:17.597Z"
   },
   {
    "duration": 14,
    "start_time": "2022-10-28T19:56:49.211Z"
   },
   {
    "duration": 17,
    "start_time": "2022-10-28T19:56:59.185Z"
   },
   {
    "duration": 58,
    "start_time": "2022-10-28T19:58:08.512Z"
   },
   {
    "duration": 17,
    "start_time": "2022-10-28T19:58:15.626Z"
   },
   {
    "duration": 14,
    "start_time": "2022-10-28T19:58:38.527Z"
   },
   {
    "duration": 612,
    "start_time": "2022-10-28T19:59:09.864Z"
   },
   {
    "duration": 1066,
    "start_time": "2022-10-28T20:04:27.765Z"
   },
   {
    "duration": 5,
    "start_time": "2022-10-28T20:04:37.643Z"
   },
   {
    "duration": 4,
    "start_time": "2022-10-28T20:04:46.462Z"
   },
   {
    "duration": 918,
    "start_time": "2022-10-28T20:05:49.493Z"
   },
   {
    "duration": 601,
    "start_time": "2022-10-28T20:06:23.569Z"
   },
   {
    "duration": 13,
    "start_time": "2022-10-28T20:08:11.934Z"
   },
   {
    "duration": 11,
    "start_time": "2022-10-28T20:08:19.606Z"
   },
   {
    "duration": 12,
    "start_time": "2022-10-28T20:11:09.470Z"
   },
   {
    "duration": 11,
    "start_time": "2022-10-28T20:11:58.317Z"
   },
   {
    "duration": 7,
    "start_time": "2022-10-28T20:22:59.980Z"
   },
   {
    "duration": 11,
    "start_time": "2022-10-28T20:24:05.737Z"
   },
   {
    "duration": 8,
    "start_time": "2022-10-28T20:24:11.089Z"
   },
   {
    "duration": 155,
    "start_time": "2022-10-28T20:24:12.096Z"
   },
   {
    "duration": 108,
    "start_time": "2022-10-28T20:24:22.272Z"
   },
   {
    "duration": 10,
    "start_time": "2022-10-28T20:25:03.605Z"
   },
   {
    "duration": 6,
    "start_time": "2022-10-28T20:25:09.498Z"
   },
   {
    "duration": 11,
    "start_time": "2022-10-28T20:25:10.136Z"
   },
   {
    "duration": 120,
    "start_time": "2022-10-28T20:25:22.385Z"
   },
   {
    "duration": 148,
    "start_time": "2022-10-28T20:25:46.760Z"
   },
   {
    "duration": 15,
    "start_time": "2022-10-28T20:28:48.736Z"
   },
   {
    "duration": 13,
    "start_time": "2022-10-28T20:57:35.493Z"
   },
   {
    "duration": 1086,
    "start_time": "2022-10-28T20:58:28.648Z"
   },
   {
    "duration": 1140,
    "start_time": "2022-10-28T20:58:35.576Z"
   },
   {
    "duration": 49,
    "start_time": "2022-10-28T21:07:23.410Z"
   },
   {
    "duration": 14,
    "start_time": "2022-10-28T21:07:54.792Z"
   },
   {
    "duration": 15,
    "start_time": "2022-10-28T21:08:50.693Z"
   },
   {
    "duration": 22,
    "start_time": "2022-10-28T21:09:52.161Z"
   },
   {
    "duration": 17,
    "start_time": "2022-10-28T21:10:04.398Z"
   },
   {
    "duration": 17,
    "start_time": "2022-10-28T21:10:30.044Z"
   },
   {
    "duration": 70,
    "start_time": "2022-10-28T21:11:43.816Z"
   },
   {
    "duration": 9,
    "start_time": "2022-10-28T21:16:31.208Z"
   },
   {
    "duration": 8,
    "start_time": "2022-10-28T21:16:44.719Z"
   },
   {
    "duration": 8,
    "start_time": "2022-10-28T21:17:00.916Z"
   },
   {
    "duration": 177011,
    "start_time": "2022-10-28T21:17:45.816Z"
   },
   {
    "duration": 122,
    "start_time": "2022-10-28T21:20:42.829Z"
   },
   {
    "duration": 49,
    "start_time": "2022-10-28T21:21:00.203Z"
   },
   {
    "duration": 239,
    "start_time": "2022-10-28T21:21:17.493Z"
   },
   {
    "duration": 235,
    "start_time": "2022-10-28T21:21:27.493Z"
   },
   {
    "duration": 276,
    "start_time": "2022-10-28T21:21:33.216Z"
   },
   {
    "duration": 123,
    "start_time": "2022-10-28T21:22:12.483Z"
   },
   {
    "duration": 137,
    "start_time": "2022-10-28T21:22:33.455Z"
   },
   {
    "duration": 128,
    "start_time": "2022-10-28T21:22:53.393Z"
   },
   {
    "duration": 130,
    "start_time": "2022-10-28T21:23:06.359Z"
   },
   {
    "duration": 12,
    "start_time": "2022-10-28T21:25:57.876Z"
   },
   {
    "duration": 11,
    "start_time": "2022-10-28T21:26:22.193Z"
   },
   {
    "duration": 12,
    "start_time": "2022-10-28T21:26:37.827Z"
   },
   {
    "duration": 12,
    "start_time": "2022-10-28T21:26:51.295Z"
   },
   {
    "duration": 1225,
    "start_time": "2022-10-28T21:28:11.511Z"
   },
   {
    "duration": 5,
    "start_time": "2022-10-28T21:28:20.151Z"
   },
   {
    "duration": 1713,
    "start_time": "2022-10-28T21:30:00.935Z"
   },
   {
    "duration": 6,
    "start_time": "2022-10-28T21:30:36.670Z"
   },
   {
    "duration": 7,
    "start_time": "2022-10-28T21:30:58.949Z"
   },
   {
    "duration": 5,
    "start_time": "2022-10-28T21:32:05.041Z"
   },
   {
    "duration": 14,
    "start_time": "2022-10-28T21:36:57.175Z"
   },
   {
    "duration": 16,
    "start_time": "2022-10-28T21:37:16.292Z"
   },
   {
    "duration": 16,
    "start_time": "2022-10-28T21:37:22.437Z"
   },
   {
    "duration": 13,
    "start_time": "2022-10-28T21:37:27.040Z"
   },
   {
    "duration": 20,
    "start_time": "2022-10-28T21:37:35.672Z"
   },
   {
    "duration": 19,
    "start_time": "2022-10-28T21:37:55.415Z"
   },
   {
    "duration": 116,
    "start_time": "2022-10-28T21:38:38.036Z"
   },
   {
    "duration": 117,
    "start_time": "2022-10-28T21:39:27.439Z"
   },
   {
    "duration": 146,
    "start_time": "2022-10-28T21:39:31.895Z"
   },
   {
    "duration": 16,
    "start_time": "2022-10-28T21:48:13.205Z"
   },
   {
    "duration": 14,
    "start_time": "2022-10-28T21:48:31.280Z"
   },
   {
    "duration": 14,
    "start_time": "2022-10-28T21:49:08.601Z"
   },
   {
    "duration": 16,
    "start_time": "2022-10-28T21:49:19.566Z"
   },
   {
    "duration": 117,
    "start_time": "2022-10-28T21:54:47.004Z"
   },
   {
    "duration": 148,
    "start_time": "2022-10-28T21:54:51.004Z"
   },
   {
    "duration": 119,
    "start_time": "2022-10-28T21:54:54.789Z"
   },
   {
    "duration": 5,
    "start_time": "2022-10-28T22:08:59.109Z"
   },
   {
    "duration": 5,
    "start_time": "2022-10-28T22:09:08.286Z"
   },
   {
    "duration": 11,
    "start_time": "2022-10-28T22:15:35.899Z"
   },
   {
    "duration": 11,
    "start_time": "2022-10-28T22:15:51.393Z"
   },
   {
    "duration": 8,
    "start_time": "2022-10-28T22:16:47.942Z"
   },
   {
    "duration": 9,
    "start_time": "2022-10-28T22:19:10.459Z"
   },
   {
    "duration": 10,
    "start_time": "2022-10-28T22:19:20.902Z"
   },
   {
    "duration": 4,
    "start_time": "2022-10-28T22:19:38.646Z"
   },
   {
    "duration": 19,
    "start_time": "2022-10-28T22:23:13.008Z"
   },
   {
    "duration": 10,
    "start_time": "2022-10-28T22:23:51.689Z"
   },
   {
    "duration": 9,
    "start_time": "2022-10-28T22:33:36.858Z"
   },
   {
    "duration": 11,
    "start_time": "2022-10-28T22:36:37.988Z"
   },
   {
    "duration": 11,
    "start_time": "2022-10-28T22:37:51.399Z"
   },
   {
    "duration": 11,
    "start_time": "2022-10-28T22:38:03.071Z"
   },
   {
    "duration": 10,
    "start_time": "2022-10-28T22:38:08.173Z"
   },
   {
    "duration": 11,
    "start_time": "2022-10-28T22:38:37.466Z"
   },
   {
    "duration": 18,
    "start_time": "2022-10-28T22:45:14.385Z"
   },
   {
    "duration": 15,
    "start_time": "2022-10-28T22:45:57.195Z"
   },
   {
    "duration": 11,
    "start_time": "2022-10-28T22:46:05.494Z"
   },
   {
    "duration": 10,
    "start_time": "2022-10-28T22:48:46.183Z"
   },
   {
    "duration": 12,
    "start_time": "2022-10-28T22:48:58.209Z"
   },
   {
    "duration": 1066,
    "start_time": "2022-10-29T10:52:39.326Z"
   },
   {
    "duration": 65,
    "start_time": "2022-10-29T10:52:40.394Z"
   },
   {
    "duration": 29,
    "start_time": "2022-10-29T10:52:40.461Z"
   },
   {
    "duration": 16,
    "start_time": "2022-10-29T10:52:40.492Z"
   },
   {
    "duration": 13,
    "start_time": "2022-10-29T10:52:40.511Z"
   },
   {
    "duration": 8,
    "start_time": "2022-10-29T10:52:40.525Z"
   },
   {
    "duration": 19,
    "start_time": "2022-10-29T10:52:40.534Z"
   },
   {
    "duration": 5,
    "start_time": "2022-10-29T10:52:40.554Z"
   },
   {
    "duration": 29,
    "start_time": "2022-10-29T10:52:40.560Z"
   },
   {
    "duration": 4,
    "start_time": "2022-10-29T10:52:40.591Z"
   },
   {
    "duration": 29,
    "start_time": "2022-10-29T10:52:40.596Z"
   },
   {
    "duration": 21,
    "start_time": "2022-10-29T10:52:40.626Z"
   },
   {
    "duration": 13,
    "start_time": "2022-10-29T10:52:40.649Z"
   },
   {
    "duration": 28,
    "start_time": "2022-10-29T10:52:40.666Z"
   },
   {
    "duration": 5,
    "start_time": "2022-10-29T10:52:40.696Z"
   },
   {
    "duration": 5,
    "start_time": "2022-10-29T10:52:40.721Z"
   },
   {
    "duration": 16,
    "start_time": "2022-10-29T10:52:40.727Z"
   },
   {
    "duration": 5,
    "start_time": "2022-10-29T10:52:40.744Z"
   },
   {
    "duration": 14,
    "start_time": "2022-10-29T10:52:40.751Z"
   },
   {
    "duration": 25,
    "start_time": "2022-10-29T10:52:40.767Z"
   },
   {
    "duration": 32,
    "start_time": "2022-10-29T10:52:40.793Z"
   },
   {
    "duration": 167,
    "start_time": "2022-10-29T10:52:40.827Z"
   },
   {
    "duration": 13,
    "start_time": "2022-10-29T10:52:40.996Z"
   },
   {
    "duration": 5,
    "start_time": "2022-10-29T10:52:41.021Z"
   },
   {
    "duration": 139,
    "start_time": "2022-10-29T10:52:41.028Z"
   },
   {
    "duration": 22,
    "start_time": "2022-10-29T10:52:41.169Z"
   },
   {
    "duration": 10,
    "start_time": "2022-10-29T10:52:41.192Z"
   },
   {
    "duration": 180,
    "start_time": "2022-10-29T10:52:41.203Z"
   },
   {
    "duration": 15,
    "start_time": "2022-10-29T10:52:41.384Z"
   },
   {
    "duration": 26,
    "start_time": "2022-10-29T10:52:41.400Z"
   },
   {
    "duration": 21,
    "start_time": "2022-10-29T10:52:41.428Z"
   },
   {
    "duration": 14,
    "start_time": "2022-10-29T10:52:41.451Z"
   },
   {
    "duration": 13,
    "start_time": "2022-10-29T10:52:41.467Z"
   },
   {
    "duration": 42,
    "start_time": "2022-10-29T10:52:41.482Z"
   },
   {
    "duration": 3,
    "start_time": "2022-10-29T10:52:41.526Z"
   },
   {
    "duration": 764,
    "start_time": "2022-10-29T10:52:41.531Z"
   },
   {
    "duration": 103,
    "start_time": "2022-10-29T10:52:42.297Z"
   },
   {
    "duration": 105,
    "start_time": "2022-10-29T10:52:42.401Z"
   },
   {
    "duration": 709,
    "start_time": "2022-10-29T10:52:42.507Z"
   },
   {
    "duration": 15,
    "start_time": "2022-10-29T10:52:43.217Z"
   },
   {
    "duration": 11,
    "start_time": "2022-10-29T10:52:43.236Z"
   },
   {
    "duration": 650,
    "start_time": "2022-10-29T10:52:43.248Z"
   },
   {
    "duration": 10,
    "start_time": "2022-10-29T10:52:43.900Z"
   },
   {
    "duration": 11,
    "start_time": "2022-10-29T10:52:43.921Z"
   },
   {
    "duration": 6,
    "start_time": "2022-10-29T10:52:43.933Z"
   },
   {
    "duration": 170,
    "start_time": "2022-10-29T10:52:43.940Z"
   },
   {
    "duration": 22,
    "start_time": "2022-10-29T10:52:44.112Z"
   },
   {
    "duration": 16,
    "start_time": "2022-10-29T10:52:44.135Z"
   },
   {
    "duration": 10,
    "start_time": "2022-10-29T10:52:44.153Z"
   },
   {
    "duration": 131,
    "start_time": "2022-10-29T10:52:44.165Z"
   },
   {
    "duration": 11,
    "start_time": "2022-10-29T10:52:44.297Z"
   },
   {
    "duration": 138,
    "start_time": "2022-10-29T10:52:44.322Z"
   },
   {
    "duration": 12,
    "start_time": "2022-10-29T10:52:44.462Z"
   },
   {
    "duration": 215,
    "start_time": "2022-10-29T10:52:44.475Z"
   },
   {
    "duration": 6,
    "start_time": "2022-10-29T10:52:44.691Z"
   },
   {
    "duration": 9,
    "start_time": "2022-10-29T10:52:44.699Z"
   },
   {
    "duration": 13,
    "start_time": "2022-10-29T10:52:44.709Z"
   },
   {
    "duration": 16,
    "start_time": "2022-10-29T10:52:44.723Z"
   },
   {
    "duration": 133,
    "start_time": "2022-10-29T10:52:44.740Z"
   },
   {
    "duration": 14,
    "start_time": "2022-10-29T10:52:44.875Z"
   },
   {
    "duration": 136,
    "start_time": "2022-10-29T10:52:44.891Z"
   },
   {
    "duration": 14,
    "start_time": "2022-10-29T10:52:45.029Z"
   },
   {
    "duration": 148,
    "start_time": "2022-10-29T10:52:45.045Z"
   },
   {
    "duration": 119,
    "start_time": "2022-10-29T10:52:45.194Z"
   },
   {
    "duration": 127,
    "start_time": "2022-10-29T10:52:45.322Z"
   },
   {
    "duration": 132,
    "start_time": "2022-10-29T10:52:45.451Z"
   },
   {
    "duration": 6,
    "start_time": "2022-10-29T10:52:45.585Z"
   },
   {
    "duration": 13,
    "start_time": "2022-10-29T10:52:45.593Z"
   },
   {
    "duration": 19,
    "start_time": "2022-10-29T10:52:45.607Z"
   },
   {
    "duration": 9,
    "start_time": "2022-10-29T10:52:45.628Z"
   },
   {
    "duration": 9,
    "start_time": "2022-10-29T10:52:45.638Z"
   },
   {
    "duration": 11,
    "start_time": "2022-10-29T10:52:45.648Z"
   },
   {
    "duration": 1253,
    "start_time": "2022-10-29T21:16:52.554Z"
   },
   {
    "duration": 198,
    "start_time": "2022-10-29T21:16:54.295Z"
   },
   {
    "duration": 29,
    "start_time": "2022-10-29T21:16:56.250Z"
   },
   {
    "duration": 13,
    "start_time": "2022-10-29T21:16:56.745Z"
   },
   {
    "duration": 5,
    "start_time": "2022-10-29T21:16:57.208Z"
   },
   {
    "duration": 5,
    "start_time": "2022-10-29T21:16:57.703Z"
   },
   {
    "duration": 16,
    "start_time": "2022-10-29T21:16:58.201Z"
   },
   {
    "duration": 5,
    "start_time": "2022-10-29T21:16:59.047Z"
   },
   {
    "duration": 24,
    "start_time": "2022-10-29T21:17:00.372Z"
   },
   {
    "duration": 6,
    "start_time": "2022-10-29T21:17:00.894Z"
   },
   {
    "duration": 5,
    "start_time": "2022-10-29T21:17:01.815Z"
   },
   {
    "duration": 19,
    "start_time": "2022-10-29T21:17:02.296Z"
   },
   {
    "duration": 5,
    "start_time": "2022-10-29T21:17:09.554Z"
   },
   {
    "duration": 5,
    "start_time": "2022-10-29T21:17:10.712Z"
   },
   {
    "duration": 4,
    "start_time": "2022-10-29T21:17:14.655Z"
   },
   {
    "duration": 100,
    "start_time": "2022-10-29T21:17:20.787Z"
   },
   {
    "duration": 18,
    "start_time": "2022-10-29T21:18:05.696Z"
   },
   {
    "duration": 19,
    "start_time": "2022-10-29T21:18:26.905Z"
   },
   {
    "duration": 6,
    "start_time": "2022-10-29T21:19:19.897Z"
   },
   {
    "duration": 4,
    "start_time": "2022-10-29T21:19:36.512Z"
   },
   {
    "duration": 4,
    "start_time": "2022-10-29T21:19:46.425Z"
   },
   {
    "duration": 6,
    "start_time": "2022-10-29T21:19:47.799Z"
   },
   {
    "duration": 4,
    "start_time": "2022-10-29T21:20:56.248Z"
   },
   {
    "duration": 5,
    "start_time": "2022-10-29T21:20:56.672Z"
   },
   {
    "duration": 14,
    "start_time": "2022-10-29T21:20:57.988Z"
   },
   {
    "duration": 3,
    "start_time": "2022-10-29T21:20:58.711Z"
   },
   {
    "duration": 4,
    "start_time": "2022-10-29T21:20:59.047Z"
   },
   {
    "duration": 13,
    "start_time": "2022-10-29T21:21:00.215Z"
   },
   {
    "duration": 4,
    "start_time": "2022-10-29T21:21:00.649Z"
   },
   {
    "duration": 14,
    "start_time": "2022-10-29T21:21:01.355Z"
   },
   {
    "duration": 16,
    "start_time": "2022-10-29T21:21:03.234Z"
   },
   {
    "duration": 8,
    "start_time": "2022-10-29T21:21:05.088Z"
   },
   {
    "duration": 158,
    "start_time": "2022-10-29T21:21:05.647Z"
   },
   {
    "duration": 22,
    "start_time": "2022-10-29T21:26:48.074Z"
   },
   {
    "duration": 333,
    "start_time": "2022-10-29T21:26:58.719Z"
   },
   {
    "duration": 140,
    "start_time": "2022-10-29T21:27:16.489Z"
   },
   {
    "duration": 189,
    "start_time": "2022-10-29T21:27:41.169Z"
   },
   {
    "duration": 144,
    "start_time": "2022-10-29T21:28:40.607Z"
   },
   {
    "duration": 136,
    "start_time": "2022-10-29T21:29:18.783Z"
   },
   {
    "duration": 138,
    "start_time": "2022-10-29T21:29:25.388Z"
   },
   {
    "duration": 218,
    "start_time": "2022-10-29T21:31:15.192Z"
   },
   {
    "duration": 155,
    "start_time": "2022-10-29T21:31:52.009Z"
   },
   {
    "duration": 150,
    "start_time": "2022-10-29T21:31:59.302Z"
   },
   {
    "duration": 151,
    "start_time": "2022-10-29T21:33:04.064Z"
   },
   {
    "duration": 14,
    "start_time": "2022-10-29T21:33:31.376Z"
   },
   {
    "duration": 335,
    "start_time": "2022-10-29T21:34:05.390Z"
   },
   {
    "duration": 190,
    "start_time": "2022-10-29T21:34:22.701Z"
   },
   {
    "duration": 164,
    "start_time": "2022-10-29T21:36:46.688Z"
   },
   {
    "duration": 160,
    "start_time": "2022-10-29T21:38:23.572Z"
   },
   {
    "duration": 12,
    "start_time": "2022-10-29T21:38:31.654Z"
   },
   {
    "duration": 126,
    "start_time": "2022-10-29T21:39:48.685Z"
   },
   {
    "duration": 122,
    "start_time": "2022-10-29T21:40:56.637Z"
   },
   {
    "duration": 217,
    "start_time": "2022-10-29T21:41:00.788Z"
   },
   {
    "duration": 136,
    "start_time": "2022-10-29T21:44:05.766Z"
   },
   {
    "duration": 23,
    "start_time": "2022-10-29T21:44:16.241Z"
   },
   {
    "duration": 12,
    "start_time": "2022-10-29T21:44:19.011Z"
   },
   {
    "duration": 156,
    "start_time": "2022-10-29T21:44:19.755Z"
   },
   {
    "duration": 152,
    "start_time": "2022-10-29T21:44:50.469Z"
   },
   {
    "duration": 11,
    "start_time": "2022-10-29T21:45:29.339Z"
   },
   {
    "duration": 10,
    "start_time": "2022-10-29T21:46:02.851Z"
   },
   {
    "duration": 146,
    "start_time": "2022-10-29T21:47:44.907Z"
   },
   {
    "duration": 143,
    "start_time": "2022-10-29T21:49:38.589Z"
   },
   {
    "duration": 10,
    "start_time": "2022-10-29T21:50:57.540Z"
   },
   {
    "duration": 3,
    "start_time": "2022-10-29T21:51:10.442Z"
   },
   {
    "duration": 126,
    "start_time": "2022-10-29T21:51:11.067Z"
   },
   {
    "duration": 1027,
    "start_time": "2022-10-29T21:51:54.140Z"
   },
   {
    "duration": 65,
    "start_time": "2022-10-29T21:51:55.666Z"
   },
   {
    "duration": 30,
    "start_time": "2022-10-29T21:51:57.995Z"
   },
   {
    "duration": 15,
    "start_time": "2022-10-29T21:51:58.731Z"
   },
   {
    "duration": 5,
    "start_time": "2022-10-29T21:51:59.338Z"
   },
   {
    "duration": 5,
    "start_time": "2022-10-29T21:52:00.001Z"
   },
   {
    "duration": 18,
    "start_time": "2022-10-29T21:52:00.508Z"
   },
   {
    "duration": 5,
    "start_time": "2022-10-29T21:52:01.538Z"
   },
   {
    "duration": 24,
    "start_time": "2022-10-29T21:52:02.588Z"
   },
   {
    "duration": 5,
    "start_time": "2022-10-29T21:52:03.653Z"
   },
   {
    "duration": 4,
    "start_time": "2022-10-29T21:52:04.954Z"
   },
   {
    "duration": 20,
    "start_time": "2022-10-29T21:52:05.948Z"
   },
   {
    "duration": 5,
    "start_time": "2022-10-29T21:52:08.065Z"
   },
   {
    "duration": 5,
    "start_time": "2022-10-29T21:52:09.433Z"
   },
   {
    "duration": 4,
    "start_time": "2022-10-29T21:52:10.083Z"
   },
   {
    "duration": 20,
    "start_time": "2022-10-29T21:52:11.891Z"
   },
   {
    "duration": 5,
    "start_time": "2022-10-29T21:52:13.178Z"
   },
   {
    "duration": 5,
    "start_time": "2022-10-29T21:52:13.745Z"
   },
   {
    "duration": 12,
    "start_time": "2022-10-29T21:52:16.244Z"
   },
   {
    "duration": 5,
    "start_time": "2022-10-29T21:52:16.733Z"
   },
   {
    "duration": 12,
    "start_time": "2022-10-29T21:52:17.394Z"
   },
   {
    "duration": 18,
    "start_time": "2022-10-29T21:52:19.290Z"
   },
   {
    "duration": 7,
    "start_time": "2022-10-29T21:52:22.129Z"
   },
   {
    "duration": 156,
    "start_time": "2022-10-29T21:52:22.962Z"
   },
   {
    "duration": 13,
    "start_time": "2022-10-29T21:52:27.841Z"
   },
   {
    "duration": 4,
    "start_time": "2022-10-29T21:52:29.058Z"
   },
   {
    "duration": 122,
    "start_time": "2022-10-29T21:52:29.642Z"
   },
   {
    "duration": 21,
    "start_time": "2022-10-29T21:52:33.154Z"
   },
   {
    "duration": 10,
    "start_time": "2022-10-29T21:52:33.706Z"
   },
   {
    "duration": 145,
    "start_time": "2022-10-29T21:52:34.362Z"
   },
   {
    "duration": 15,
    "start_time": "2022-10-29T21:52:36.236Z"
   },
   {
    "duration": 15,
    "start_time": "2022-10-29T21:52:37.348Z"
   },
   {
    "duration": 15,
    "start_time": "2022-10-29T21:52:37.802Z"
   },
   {
    "duration": 15,
    "start_time": "2022-10-29T21:52:38.354Z"
   },
   {
    "duration": 15,
    "start_time": "2022-10-29T21:52:38.979Z"
   },
   {
    "duration": 16,
    "start_time": "2022-10-29T21:52:39.441Z"
   },
   {
    "duration": 2,
    "start_time": "2022-10-29T21:52:40.540Z"
   },
   {
    "duration": 828,
    "start_time": "2022-10-29T21:52:41.145Z"
   },
   {
    "duration": 153,
    "start_time": "2022-10-29T21:53:22.522Z"
   },
   {
    "duration": 123,
    "start_time": "2022-10-29T21:53:59.291Z"
   },
   {
    "duration": 165,
    "start_time": "2022-10-29T21:56:46.337Z"
   },
   {
    "duration": 92,
    "start_time": "2022-10-29T21:57:04.130Z"
   },
   {
    "duration": 90,
    "start_time": "2022-10-29T21:57:13.362Z"
   },
   {
    "duration": 7,
    "start_time": "2022-10-29T22:13:19.296Z"
   },
   {
    "duration": 154,
    "start_time": "2022-10-29T22:13:21.832Z"
   },
   {
    "duration": 16,
    "start_time": "2022-10-29T22:13:54.416Z"
   },
   {
    "duration": 15,
    "start_time": "2022-10-29T22:14:05.672Z"
   },
   {
    "duration": 13,
    "start_time": "2022-10-29T22:15:11.511Z"
   },
   {
    "duration": 117,
    "start_time": "2022-10-29T22:15:15.849Z"
   },
   {
    "duration": 14,
    "start_time": "2022-10-29T22:15:27.839Z"
   },
   {
    "duration": 120,
    "start_time": "2022-10-29T22:15:35.240Z"
   },
   {
    "duration": 13,
    "start_time": "2022-10-29T22:15:46.160Z"
   },
   {
    "duration": 125,
    "start_time": "2022-10-29T22:15:49.269Z"
   },
   {
    "duration": 5,
    "start_time": "2022-10-29T22:16:13.271Z"
   },
   {
    "duration": 5,
    "start_time": "2022-10-29T22:16:17.872Z"
   },
   {
    "duration": 5,
    "start_time": "2022-10-29T22:16:20.623Z"
   },
   {
    "duration": 5,
    "start_time": "2022-10-29T22:17:27.353Z"
   },
   {
    "duration": 15,
    "start_time": "2022-10-29T22:18:56.423Z"
   },
   {
    "duration": 138,
    "start_time": "2022-10-29T22:19:00.176Z"
   },
   {
    "duration": 15,
    "start_time": "2022-10-29T22:19:04.785Z"
   },
   {
    "duration": 128,
    "start_time": "2022-10-29T22:19:08.303Z"
   },
   {
    "duration": 14,
    "start_time": "2022-10-29T22:19:11.167Z"
   },
   {
    "duration": 123,
    "start_time": "2022-10-29T22:19:14.158Z"
   },
   {
    "duration": 129,
    "start_time": "2022-10-29T22:20:53.790Z"
   },
   {
    "duration": 122,
    "start_time": "2022-10-29T22:20:58.511Z"
   },
   {
    "duration": 125,
    "start_time": "2022-10-29T22:21:05.311Z"
   },
   {
    "duration": 10,
    "start_time": "2022-10-29T22:30:16.837Z"
   },
   {
    "duration": 12,
    "start_time": "2022-10-29T22:30:31.030Z"
   },
   {
    "duration": 10,
    "start_time": "2022-10-29T22:30:49.495Z"
   },
   {
    "duration": 11,
    "start_time": "2022-10-29T22:30:58.702Z"
   },
   {
    "duration": 716,
    "start_time": "2022-10-29T22:35:19.503Z"
   },
   {
    "duration": 592,
    "start_time": "2022-10-29T22:35:32.901Z"
   },
   {
    "duration": 186,
    "start_time": "2022-10-29T22:36:31.422Z"
   },
   {
    "duration": 113,
    "start_time": "2022-10-29T22:36:42.093Z"
   },
   {
    "duration": 8,
    "start_time": "2022-10-29T22:36:51.199Z"
   },
   {
    "duration": 152,
    "start_time": "2022-10-29T22:36:53.429Z"
   },
   {
    "duration": 263,
    "start_time": "2022-10-29T22:37:03.648Z"
   },
   {
    "duration": 132,
    "start_time": "2022-10-29T22:37:44.277Z"
   },
   {
    "duration": 130,
    "start_time": "2022-10-29T22:38:08.341Z"
   },
   {
    "duration": 138,
    "start_time": "2022-10-29T22:38:22.549Z"
   },
   {
    "duration": 138,
    "start_time": "2022-10-29T22:38:50.752Z"
   },
   {
    "duration": 106,
    "start_time": "2022-10-29T22:39:05.629Z"
   },
   {
    "duration": 107,
    "start_time": "2022-10-29T22:39:20.046Z"
   },
   {
    "duration": 121,
    "start_time": "2022-10-29T22:39:20.916Z"
   },
   {
    "duration": 128,
    "start_time": "2022-10-29T22:39:24.782Z"
   },
   {
    "duration": 106,
    "start_time": "2022-10-29T22:39:26.015Z"
   },
   {
    "duration": 17,
    "start_time": "2022-10-29T22:40:02.375Z"
   },
   {
    "duration": 135,
    "start_time": "2022-10-29T22:40:10.845Z"
   },
   {
    "duration": 128,
    "start_time": "2022-10-29T22:40:23.349Z"
   },
   {
    "duration": 144,
    "start_time": "2022-10-29T22:41:15.213Z"
   },
   {
    "duration": 132,
    "start_time": "2022-10-29T22:41:31.284Z"
   },
   {
    "duration": 137,
    "start_time": "2022-10-29T22:41:45.396Z"
   },
   {
    "duration": 1223,
    "start_time": "2022-10-30T12:06:15.912Z"
   },
   {
    "duration": 113,
    "start_time": "2022-10-30T12:06:17.137Z"
   },
   {
    "duration": 35,
    "start_time": "2022-10-30T12:06:17.251Z"
   },
   {
    "duration": 13,
    "start_time": "2022-10-30T12:06:17.289Z"
   },
   {
    "duration": 8,
    "start_time": "2022-10-30T12:06:17.304Z"
   },
   {
    "duration": 9,
    "start_time": "2022-10-30T12:06:17.313Z"
   },
   {
    "duration": 17,
    "start_time": "2022-10-30T12:06:17.323Z"
   },
   {
    "duration": 4,
    "start_time": "2022-10-30T12:06:17.342Z"
   },
   {
    "duration": 27,
    "start_time": "2022-10-30T12:06:17.347Z"
   },
   {
    "duration": 4,
    "start_time": "2022-10-30T12:06:17.377Z"
   },
   {
    "duration": 5,
    "start_time": "2022-10-30T12:06:17.409Z"
   },
   {
    "duration": 22,
    "start_time": "2022-10-30T12:06:17.415Z"
   },
   {
    "duration": 6,
    "start_time": "2022-10-30T12:06:17.438Z"
   },
   {
    "duration": 6,
    "start_time": "2022-10-30T12:06:17.446Z"
   },
   {
    "duration": 6,
    "start_time": "2022-10-30T12:06:17.454Z"
   },
   {
    "duration": 50,
    "start_time": "2022-10-30T12:06:17.461Z"
   },
   {
    "duration": 5,
    "start_time": "2022-10-30T12:06:17.513Z"
   },
   {
    "duration": 11,
    "start_time": "2022-10-30T12:06:17.519Z"
   },
   {
    "duration": 13,
    "start_time": "2022-10-30T12:06:17.532Z"
   },
   {
    "duration": 4,
    "start_time": "2022-10-30T12:06:17.547Z"
   },
   {
    "duration": 17,
    "start_time": "2022-10-30T12:06:17.552Z"
   },
   {
    "duration": 40,
    "start_time": "2022-10-30T12:06:17.570Z"
   },
   {
    "duration": 8,
    "start_time": "2022-10-30T12:06:17.611Z"
   },
   {
    "duration": 179,
    "start_time": "2022-10-30T12:06:17.620Z"
   },
   {
    "duration": 17,
    "start_time": "2022-10-30T12:06:17.801Z"
   },
   {
    "duration": 4,
    "start_time": "2022-10-30T12:06:17.820Z"
   },
   {
    "duration": 160,
    "start_time": "2022-10-30T12:06:17.826Z"
   },
   {
    "duration": 28,
    "start_time": "2022-10-30T12:06:17.990Z"
   },
   {
    "duration": 12,
    "start_time": "2022-10-30T12:06:18.019Z"
   },
   {
    "duration": 181,
    "start_time": "2022-10-30T12:06:18.032Z"
   },
   {
    "duration": 15,
    "start_time": "2022-10-30T12:06:18.215Z"
   },
   {
    "duration": 17,
    "start_time": "2022-10-30T12:06:18.232Z"
   },
   {
    "duration": 14,
    "start_time": "2022-10-30T12:06:18.251Z"
   },
   {
    "duration": 15,
    "start_time": "2022-10-30T12:06:18.266Z"
   },
   {
    "duration": 15,
    "start_time": "2022-10-30T12:06:18.309Z"
   },
   {
    "duration": 15,
    "start_time": "2022-10-30T12:06:18.326Z"
   },
   {
    "duration": 3,
    "start_time": "2022-10-30T12:06:18.342Z"
   },
   {
    "duration": 798,
    "start_time": "2022-10-30T12:06:18.346Z"
   },
   {
    "duration": 111,
    "start_time": "2022-10-30T12:06:19.146Z"
   },
   {
    "duration": 114,
    "start_time": "2022-10-30T12:06:19.259Z"
   },
   {
    "duration": 178,
    "start_time": "2022-10-30T12:06:19.375Z"
   },
   {
    "duration": 112,
    "start_time": "2022-10-30T12:06:19.555Z"
   },
   {
    "duration": 112,
    "start_time": "2022-10-30T12:06:19.669Z"
   },
   {
    "duration": 693,
    "start_time": "2022-10-30T12:06:19.783Z"
   },
   {
    "duration": 14,
    "start_time": "2022-10-30T12:06:20.478Z"
   },
   {
    "duration": 11,
    "start_time": "2022-10-30T12:06:20.494Z"
   },
   {
    "duration": 657,
    "start_time": "2022-10-30T12:06:20.507Z"
   },
   {
    "duration": 11,
    "start_time": "2022-10-30T12:06:21.165Z"
   },
   {
    "duration": 10,
    "start_time": "2022-10-30T12:06:21.177Z"
   },
   {
    "duration": 25,
    "start_time": "2022-10-30T12:06:21.189Z"
   },
   {
    "duration": 250,
    "start_time": "2022-10-30T12:06:21.215Z"
   },
   {
    "duration": 15,
    "start_time": "2022-10-30T12:06:21.466Z"
   },
   {
    "duration": 32,
    "start_time": "2022-10-30T12:06:21.482Z"
   },
   {
    "duration": 11,
    "start_time": "2022-10-30T12:06:21.516Z"
   },
   {
    "duration": 146,
    "start_time": "2022-10-30T12:06:21.529Z"
   },
   {
    "duration": 12,
    "start_time": "2022-10-30T12:06:21.677Z"
   },
   {
    "duration": 160,
    "start_time": "2022-10-30T12:06:21.691Z"
   },
   {
    "duration": 13,
    "start_time": "2022-10-30T12:06:21.853Z"
   },
   {
    "duration": 156,
    "start_time": "2022-10-30T12:06:21.868Z"
   },
   {
    "duration": 5,
    "start_time": "2022-10-30T12:06:22.026Z"
   },
   {
    "duration": 7,
    "start_time": "2022-10-30T12:06:22.033Z"
   },
   {
    "duration": 6,
    "start_time": "2022-10-30T12:06:22.042Z"
   },
   {
    "duration": 22,
    "start_time": "2022-10-30T12:06:22.049Z"
   },
   {
    "duration": 163,
    "start_time": "2022-10-30T12:06:22.072Z"
   },
   {
    "duration": 15,
    "start_time": "2022-10-30T12:06:22.237Z"
   },
   {
    "duration": 156,
    "start_time": "2022-10-30T12:06:22.253Z"
   },
   {
    "duration": 15,
    "start_time": "2022-10-30T12:06:22.410Z"
   },
   {
    "duration": 148,
    "start_time": "2022-10-30T12:06:22.427Z"
   },
   {
    "duration": 155,
    "start_time": "2022-10-30T12:06:22.576Z"
   },
   {
    "duration": 146,
    "start_time": "2022-10-30T12:06:22.732Z"
   },
   {
    "duration": 155,
    "start_time": "2022-10-30T12:06:22.880Z"
   },
   {
    "duration": 5,
    "start_time": "2022-10-30T12:06:23.036Z"
   },
   {
    "duration": 15,
    "start_time": "2022-10-30T12:06:23.042Z"
   },
   {
    "duration": 13,
    "start_time": "2022-10-30T12:06:23.059Z"
   },
   {
    "duration": 22,
    "start_time": "2022-10-30T12:06:23.074Z"
   },
   {
    "duration": 17,
    "start_time": "2022-10-30T12:06:23.098Z"
   },
   {
    "duration": 12,
    "start_time": "2022-10-30T12:06:23.117Z"
   },
   {
    "duration": 15,
    "start_time": "2022-10-30T12:14:41.260Z"
   },
   {
    "duration": 13,
    "start_time": "2022-10-30T12:14:50.515Z"
   },
   {
    "duration": 4,
    "start_time": "2022-10-30T12:15:00.558Z"
   },
   {
    "duration": 21,
    "start_time": "2022-10-30T12:15:05.849Z"
   },
   {
    "duration": 12,
    "start_time": "2022-10-30T12:17:15.052Z"
   },
   {
    "duration": 12,
    "start_time": "2022-10-30T12:17:21.990Z"
   },
   {
    "duration": 12,
    "start_time": "2022-10-30T12:17:29.492Z"
   },
   {
    "duration": 11,
    "start_time": "2022-10-30T12:17:41.763Z"
   },
   {
    "duration": 1130,
    "start_time": "2022-10-30T12:17:53.177Z"
   },
   {
    "duration": 71,
    "start_time": "2022-10-30T12:17:54.310Z"
   },
   {
    "duration": 38,
    "start_time": "2022-10-30T12:17:54.383Z"
   },
   {
    "duration": 24,
    "start_time": "2022-10-30T12:17:54.424Z"
   },
   {
    "duration": 9,
    "start_time": "2022-10-30T12:17:54.451Z"
   },
   {
    "duration": 13,
    "start_time": "2022-10-30T12:17:54.461Z"
   },
   {
    "duration": 23,
    "start_time": "2022-10-30T12:17:54.477Z"
   },
   {
    "duration": 6,
    "start_time": "2022-10-30T12:17:54.509Z"
   },
   {
    "duration": 28,
    "start_time": "2022-10-30T12:17:54.517Z"
   },
   {
    "duration": 6,
    "start_time": "2022-10-30T12:17:54.547Z"
   },
   {
    "duration": 11,
    "start_time": "2022-10-30T12:17:54.555Z"
   },
   {
    "duration": 46,
    "start_time": "2022-10-30T12:17:54.568Z"
   },
   {
    "duration": 5,
    "start_time": "2022-10-30T12:17:54.615Z"
   },
   {
    "duration": 5,
    "start_time": "2022-10-30T12:17:54.623Z"
   },
   {
    "duration": 7,
    "start_time": "2022-10-30T12:17:54.629Z"
   },
   {
    "duration": 24,
    "start_time": "2022-10-30T12:17:54.637Z"
   },
   {
    "duration": 5,
    "start_time": "2022-10-30T12:17:54.662Z"
   },
   {
    "duration": 8,
    "start_time": "2022-10-30T12:17:54.669Z"
   },
   {
    "duration": 14,
    "start_time": "2022-10-30T12:17:54.709Z"
   },
   {
    "duration": 6,
    "start_time": "2022-10-30T12:17:54.724Z"
   },
   {
    "duration": 15,
    "start_time": "2022-10-30T12:17:54.731Z"
   },
   {
    "duration": 18,
    "start_time": "2022-10-30T12:17:54.748Z"
   },
   {
    "duration": 8,
    "start_time": "2022-10-30T12:17:54.768Z"
   },
   {
    "duration": 175,
    "start_time": "2022-10-30T12:17:54.809Z"
   },
   {
    "duration": 24,
    "start_time": "2022-10-30T12:17:54.985Z"
   },
   {
    "duration": 4,
    "start_time": "2022-10-30T12:17:55.010Z"
   },
   {
    "duration": 144,
    "start_time": "2022-10-30T12:17:55.016Z"
   },
   {
    "duration": 26,
    "start_time": "2022-10-30T12:17:55.162Z"
   },
   {
    "duration": 27,
    "start_time": "2022-10-30T12:17:55.189Z"
   },
   {
    "duration": 174,
    "start_time": "2022-10-30T12:17:55.218Z"
   },
   {
    "duration": 24,
    "start_time": "2022-10-30T12:17:55.393Z"
   },
   {
    "duration": 14,
    "start_time": "2022-10-30T12:17:55.419Z"
   },
   {
    "duration": 14,
    "start_time": "2022-10-30T12:17:55.434Z"
   },
   {
    "duration": 14,
    "start_time": "2022-10-30T12:17:55.449Z"
   },
   {
    "duration": 14,
    "start_time": "2022-10-30T12:17:55.464Z"
   },
   {
    "duration": 43,
    "start_time": "2022-10-30T12:17:55.479Z"
   },
   {
    "duration": 2,
    "start_time": "2022-10-30T12:17:55.523Z"
   },
   {
    "duration": 803,
    "start_time": "2022-10-30T12:17:55.527Z"
   },
   {
    "duration": 115,
    "start_time": "2022-10-30T12:17:56.332Z"
   },
   {
    "duration": 119,
    "start_time": "2022-10-30T12:17:56.449Z"
   },
   {
    "duration": 174,
    "start_time": "2022-10-30T12:17:56.572Z"
   },
   {
    "duration": 107,
    "start_time": "2022-10-30T12:17:56.748Z"
   },
   {
    "duration": 107,
    "start_time": "2022-10-30T12:17:56.856Z"
   },
   {
    "duration": 675,
    "start_time": "2022-10-30T12:17:56.965Z"
   },
   {
    "duration": 14,
    "start_time": "2022-10-30T12:17:57.642Z"
   },
   {
    "duration": 13,
    "start_time": "2022-10-30T12:17:57.657Z"
   },
   {
    "duration": 661,
    "start_time": "2022-10-30T12:17:57.672Z"
   },
   {
    "duration": 11,
    "start_time": "2022-10-30T12:17:58.335Z"
   },
   {
    "duration": 10,
    "start_time": "2022-10-30T12:17:58.348Z"
   },
   {
    "duration": 6,
    "start_time": "2022-10-30T12:17:58.360Z"
   },
   {
    "duration": 265,
    "start_time": "2022-10-30T12:17:58.367Z"
   },
   {
    "duration": 16,
    "start_time": "2022-10-30T12:17:58.634Z"
   },
   {
    "duration": 13,
    "start_time": "2022-10-30T12:17:58.652Z"
   },
   {
    "duration": 13,
    "start_time": "2022-10-30T12:17:58.667Z"
   },
   {
    "duration": 171,
    "start_time": "2022-10-30T12:17:58.681Z"
   },
   {
    "duration": 12,
    "start_time": "2022-10-30T12:17:58.854Z"
   },
   {
    "duration": 158,
    "start_time": "2022-10-30T12:17:58.868Z"
   },
   {
    "duration": 14,
    "start_time": "2022-10-30T12:17:59.027Z"
   },
   {
    "duration": 160,
    "start_time": "2022-10-30T12:17:59.042Z"
   },
   {
    "duration": 6,
    "start_time": "2022-10-30T12:17:59.204Z"
   },
   {
    "duration": 7,
    "start_time": "2022-10-30T12:17:59.212Z"
   },
   {
    "duration": 7,
    "start_time": "2022-10-30T12:17:59.220Z"
   },
   {
    "duration": 18,
    "start_time": "2022-10-30T12:17:59.228Z"
   },
   {
    "duration": 169,
    "start_time": "2022-10-30T12:17:59.247Z"
   },
   {
    "duration": 16,
    "start_time": "2022-10-30T12:17:59.418Z"
   },
   {
    "duration": 156,
    "start_time": "2022-10-30T12:17:59.435Z"
   },
   {
    "duration": 21,
    "start_time": "2022-10-30T12:17:59.592Z"
   },
   {
    "duration": 144,
    "start_time": "2022-10-30T12:17:59.615Z"
   },
   {
    "duration": 154,
    "start_time": "2022-10-30T12:17:59.761Z"
   },
   {
    "duration": 153,
    "start_time": "2022-10-30T12:17:59.917Z"
   },
   {
    "duration": 152,
    "start_time": "2022-10-30T12:18:00.071Z"
   },
   {
    "duration": 5,
    "start_time": "2022-10-30T12:18:00.225Z"
   },
   {
    "duration": 7,
    "start_time": "2022-10-30T12:18:00.231Z"
   },
   {
    "duration": 12,
    "start_time": "2022-10-30T12:18:00.240Z"
   },
   {
    "duration": 13,
    "start_time": "2022-10-30T12:18:00.254Z"
   },
   {
    "duration": 10,
    "start_time": "2022-10-30T12:18:00.268Z"
   },
   {
    "duration": 41,
    "start_time": "2022-10-30T12:18:00.279Z"
   },
   {
    "duration": 23,
    "start_time": "2022-10-30T12:20:27.690Z"
   },
   {
    "duration": 12,
    "start_time": "2022-10-30T12:22:04.988Z"
   },
   {
    "duration": 12,
    "start_time": "2022-10-30T12:22:43.136Z"
   },
   {
    "duration": 1320,
    "start_time": "2022-10-30T15:10:17.080Z"
   },
   {
    "duration": 505,
    "start_time": "2022-10-30T15:10:18.402Z"
   },
   {
    "duration": 30,
    "start_time": "2022-10-30T15:10:20.571Z"
   },
   {
    "duration": 16,
    "start_time": "2022-10-30T15:10:21.412Z"
   },
   {
    "duration": 7,
    "start_time": "2022-10-30T15:10:21.932Z"
   },
   {
    "duration": 5,
    "start_time": "2022-10-30T15:10:22.581Z"
   },
   {
    "duration": 16,
    "start_time": "2022-10-30T15:10:23.057Z"
   },
   {
    "duration": 31,
    "start_time": "2022-10-30T15:10:27.349Z"
   },
   {
    "duration": 5,
    "start_time": "2022-10-30T15:10:34.533Z"
   },
   {
    "duration": 5,
    "start_time": "2022-10-30T15:10:35.357Z"
   },
   {
    "duration": 7,
    "start_time": "2022-10-30T15:10:40.436Z"
   },
   {
    "duration": 4,
    "start_time": "2022-10-30T15:10:41.262Z"
   },
   {
    "duration": 6,
    "start_time": "2022-10-30T15:10:44.743Z"
   },
   {
    "duration": 20,
    "start_time": "2022-10-30T15:10:46.949Z"
   },
   {
    "duration": 215,
    "start_time": "2022-10-30T15:11:06.333Z"
   },
   {
    "duration": 15,
    "start_time": "2022-10-30T15:13:55.963Z"
   },
   {
    "duration": 11,
    "start_time": "2022-10-30T15:22:38.699Z"
   },
   {
    "duration": 89,
    "start_time": "2022-10-30T15:41:35.842Z"
   },
   {
    "duration": 8,
    "start_time": "2022-10-30T15:44:13.184Z"
   },
   {
    "duration": 99,
    "start_time": "2022-10-30T15:44:16.549Z"
   },
   {
    "duration": 8,
    "start_time": "2022-10-30T15:44:18.502Z"
   },
   {
    "duration": 31,
    "start_time": "2022-10-30T15:45:20.293Z"
   },
   {
    "duration": 10,
    "start_time": "2022-10-30T15:45:42.974Z"
   },
   {
    "duration": 9,
    "start_time": "2022-10-30T15:45:58.908Z"
   },
   {
    "duration": 10,
    "start_time": "2022-10-30T15:49:34.396Z"
   },
   {
    "duration": 10,
    "start_time": "2022-10-30T15:49:44.170Z"
   },
   {
    "duration": 102,
    "start_time": "2022-10-30T15:53:20.185Z"
   },
   {
    "duration": 10,
    "start_time": "2022-10-30T15:53:38.364Z"
   },
   {
    "duration": 191,
    "start_time": "2022-10-30T15:58:23.553Z"
   },
   {
    "duration": 1095,
    "start_time": "2022-10-30T16:32:35.601Z"
   },
   {
    "duration": 109,
    "start_time": "2022-10-30T16:32:36.697Z"
   },
   {
    "duration": 32,
    "start_time": "2022-10-30T16:32:36.807Z"
   },
   {
    "duration": 14,
    "start_time": "2022-10-30T16:32:36.841Z"
   },
   {
    "duration": 4,
    "start_time": "2022-10-30T16:32:36.858Z"
   },
   {
    "duration": 10,
    "start_time": "2022-10-30T16:32:36.864Z"
   },
   {
    "duration": 33,
    "start_time": "2022-10-30T16:32:36.876Z"
   },
   {
    "duration": 4,
    "start_time": "2022-10-30T16:32:36.911Z"
   },
   {
    "duration": 23,
    "start_time": "2022-10-30T16:32:36.917Z"
   },
   {
    "duration": 4,
    "start_time": "2022-10-30T16:32:36.942Z"
   },
   {
    "duration": 7,
    "start_time": "2022-10-30T16:32:36.948Z"
   },
   {
    "duration": 21,
    "start_time": "2022-10-30T16:32:36.956Z"
   },
   {
    "duration": 31,
    "start_time": "2022-10-30T16:32:36.978Z"
   },
   {
    "duration": 3,
    "start_time": "2022-10-30T16:32:37.012Z"
   },
   {
    "duration": 8,
    "start_time": "2022-10-30T16:32:37.017Z"
   },
   {
    "duration": 20,
    "start_time": "2022-10-30T16:32:37.027Z"
   },
   {
    "duration": 4,
    "start_time": "2022-10-30T16:32:37.049Z"
   },
   {
    "duration": 6,
    "start_time": "2022-10-30T16:32:37.055Z"
   },
   {
    "duration": 13,
    "start_time": "2022-10-30T16:32:37.062Z"
   },
   {
    "duration": 5,
    "start_time": "2022-10-30T16:32:37.076Z"
   },
   {
    "duration": 12,
    "start_time": "2022-10-30T16:32:37.109Z"
   },
   {
    "duration": 17,
    "start_time": "2022-10-30T16:32:37.123Z"
   },
   {
    "duration": 6,
    "start_time": "2022-10-30T16:32:37.142Z"
   },
   {
    "duration": 198,
    "start_time": "2022-10-30T16:32:37.149Z"
   },
   {
    "duration": 12,
    "start_time": "2022-10-30T16:32:37.349Z"
   },
   {
    "duration": 4,
    "start_time": "2022-10-30T16:32:37.362Z"
   },
   {
    "duration": 172,
    "start_time": "2022-10-30T16:32:37.367Z"
   },
   {
    "duration": 22,
    "start_time": "2022-10-30T16:32:37.540Z"
   },
   {
    "duration": 10,
    "start_time": "2022-10-30T16:32:37.564Z"
   },
   {
    "duration": 180,
    "start_time": "2022-10-30T16:32:37.576Z"
   },
   {
    "duration": 15,
    "start_time": "2022-10-30T16:32:37.757Z"
   },
   {
    "duration": 15,
    "start_time": "2022-10-30T16:32:37.773Z"
   },
   {
    "duration": 32,
    "start_time": "2022-10-30T16:32:37.789Z"
   },
   {
    "duration": 14,
    "start_time": "2022-10-30T16:32:37.823Z"
   },
   {
    "duration": 14,
    "start_time": "2022-10-30T16:32:37.838Z"
   },
   {
    "duration": 15,
    "start_time": "2022-10-30T16:32:37.854Z"
   },
   {
    "duration": 3,
    "start_time": "2022-10-30T16:32:37.870Z"
   },
   {
    "duration": 813,
    "start_time": "2022-10-30T16:32:37.875Z"
   },
   {
    "duration": 107,
    "start_time": "2022-10-30T16:32:38.690Z"
   },
   {
    "duration": 15,
    "start_time": "2022-10-30T16:32:38.799Z"
   },
   {
    "duration": 119,
    "start_time": "2022-10-30T16:32:38.819Z"
   },
   {
    "duration": 9,
    "start_time": "2022-10-30T16:32:38.940Z"
   },
   {
    "duration": 171,
    "start_time": "2022-10-30T16:32:38.950Z"
   },
   {
    "duration": 8,
    "start_time": "2022-10-30T16:32:39.123Z"
   },
   {
    "duration": 110,
    "start_time": "2022-10-30T16:32:39.132Z"
   },
   {
    "duration": 8,
    "start_time": "2022-10-30T16:32:39.244Z"
   },
   {
    "duration": 113,
    "start_time": "2022-10-30T16:32:39.253Z"
   },
   {
    "duration": 8,
    "start_time": "2022-10-30T16:32:39.368Z"
   },
   {
    "duration": 659,
    "start_time": "2022-10-30T16:32:39.378Z"
   },
   {
    "duration": 12,
    "start_time": "2022-10-30T16:32:40.038Z"
   },
   {
    "duration": 10,
    "start_time": "2022-10-30T16:32:40.052Z"
   },
   {
    "duration": 641,
    "start_time": "2022-10-30T16:32:40.063Z"
   },
   {
    "duration": 11,
    "start_time": "2022-10-30T16:32:40.706Z"
   },
   {
    "duration": 9,
    "start_time": "2022-10-30T16:32:40.719Z"
   },
   {
    "duration": 5,
    "start_time": "2022-10-30T16:32:40.730Z"
   },
   {
    "duration": 258,
    "start_time": "2022-10-30T16:32:40.737Z"
   },
   {
    "duration": 19,
    "start_time": "2022-10-30T16:32:40.997Z"
   },
   {
    "duration": 14,
    "start_time": "2022-10-30T16:32:41.017Z"
   },
   {
    "duration": 12,
    "start_time": "2022-10-30T16:32:41.032Z"
   },
   {
    "duration": 149,
    "start_time": "2022-10-30T16:32:41.045Z"
   },
   {
    "duration": 24,
    "start_time": "2022-10-30T16:32:41.195Z"
   },
   {
    "duration": 154,
    "start_time": "2022-10-30T16:32:41.220Z"
   },
   {
    "duration": 13,
    "start_time": "2022-10-30T16:32:41.375Z"
   },
   {
    "duration": 173,
    "start_time": "2022-10-30T16:32:41.389Z"
   },
   {
    "duration": 6,
    "start_time": "2022-10-30T16:32:41.563Z"
   },
   {
    "duration": 10,
    "start_time": "2022-10-30T16:32:41.571Z"
   },
   {
    "duration": 9,
    "start_time": "2022-10-30T16:32:41.583Z"
   },
   {
    "duration": 29,
    "start_time": "2022-10-30T16:32:41.594Z"
   },
   {
    "duration": 156,
    "start_time": "2022-10-30T16:32:41.625Z"
   },
   {
    "duration": 15,
    "start_time": "2022-10-30T16:32:41.783Z"
   },
   {
    "duration": 145,
    "start_time": "2022-10-30T16:32:41.809Z"
   },
   {
    "duration": 15,
    "start_time": "2022-10-30T16:32:41.956Z"
   },
   {
    "duration": 146,
    "start_time": "2022-10-30T16:32:41.972Z"
   },
   {
    "duration": 157,
    "start_time": "2022-10-30T16:32:42.120Z"
   },
   {
    "duration": 152,
    "start_time": "2022-10-30T16:32:42.279Z"
   },
   {
    "duration": 211,
    "start_time": "2022-10-30T16:32:42.433Z"
   },
   {
    "duration": 6,
    "start_time": "2022-10-30T16:32:42.647Z"
   },
   {
    "duration": 10,
    "start_time": "2022-10-30T16:32:42.654Z"
   },
   {
    "duration": 14,
    "start_time": "2022-10-30T16:32:42.665Z"
   },
   {
    "duration": 33,
    "start_time": "2022-10-30T16:32:42.681Z"
   },
   {
    "duration": 35,
    "start_time": "2022-10-30T16:32:42.716Z"
   },
   {
    "duration": 18,
    "start_time": "2022-10-30T16:32:42.753Z"
   },
   {
    "duration": 15,
    "start_time": "2022-10-30T16:32:42.773Z"
   }
  ],
  "kernelspec": {
   "display_name": "Python 3 (ipykernel)",
   "language": "python",
   "name": "python3"
  },
  "language_info": {
   "codemirror_mode": {
    "name": "ipython",
    "version": 3
   },
   "file_extension": ".py",
   "mimetype": "text/x-python",
   "name": "python",
   "nbconvert_exporter": "python",
   "pygments_lexer": "ipython3",
   "version": "3.9.13"
  },
  "toc": {
   "base_numbering": 1,
   "nav_menu": {},
   "number_sections": true,
   "sideBar": true,
   "skip_h1_title": true,
   "title_cell": "Table of Contents",
   "title_sidebar": "Contents",
   "toc_cell": false,
   "toc_position": {},
   "toc_section_display": true,
   "toc_window_display": false
  }
 },
 "nbformat": 4,
 "nbformat_minor": 2
}
