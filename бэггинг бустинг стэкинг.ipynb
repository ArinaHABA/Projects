{
 "cells": [
  {
   "cell_type": "code",
   "execution_count": 1,
   "id": "6e30e8c3",
   "metadata": {},
   "outputs": [],
   "source": [
    "import pandas as pd\n",
    "import numpy as np\n",
    "import plotly.express as px\n",
    "import seaborn as sns\n",
    "import matplotlib.pyplot as plt\n",
    "import sklearn\n",
    "import category_encoders as ce\n",
    "from sklearn.model_selection import train_test_split\n",
    "from sklearn.ensemble import RandomForestRegressor\n",
    "from sklearn.ensemble import GradientBoostingRegressor\n",
    "from mlxtend.regressor import StackingCVRegressor\n",
    "from sklearn.datasets import make_regression\n",
    "from sklearn.metrics import mean_squared_error\n",
    "from sklearn.model_selection import GridSearchCV\n",
    "from sklearn.linear_model import LinearRegression"
   ]
  },
  {
   "cell_type": "code",
   "execution_count": 2,
   "id": "fd6a21d9",
   "metadata": {},
   "outputs": [],
   "source": [
    "df = pd.read_csv(\"Life Expectancy Data.csv\")"
   ]
  },
  {
   "cell_type": "code",
   "execution_count": 3,
   "id": "b4315d17",
   "metadata": {},
   "outputs": [],
   "source": [
    "y = df[\"Life expectancy \"]\n",
    "X =  df.drop([\"Life expectancy \"], axis=1)"
   ]
  },
  {
   "cell_type": "code",
   "execution_count": 4,
   "id": "9d6682b7",
   "metadata": {},
   "outputs": [],
   "source": [
    "y.fillna(y.median(), inplace=True)"
   ]
  },
  {
   "cell_type": "code",
   "execution_count": 5,
   "id": "7aea1571",
   "metadata": {},
   "outputs": [],
   "source": [
    "X.Year = pd.to_datetime(X.Year).dt.year"
   ]
  },
  {
   "cell_type": "code",
   "execution_count": 6,
   "id": "f97d72f2",
   "metadata": {},
   "outputs": [],
   "source": [
    "bin_enc = ce.BinaryEncoder(drop_invariant=True)\n",
    "X = bin_enc.fit_transform(X) "
   ]
  },
  {
   "cell_type": "code",
   "execution_count": 7,
   "id": "ade130fd",
   "metadata": {},
   "outputs": [],
   "source": [
    "X.fillna(X.mean(), inplace=True)"
   ]
  },
  {
   "cell_type": "code",
   "execution_count": 8,
   "id": "a9e4e603",
   "metadata": {},
   "outputs": [],
   "source": [
    "X_train, X_test, y_train, y_test= train_test_split(X, y, test_size= 0.30, random_state=9)"
   ]
  },
  {
   "cell_type": "markdown",
   "id": "1bceb33b",
   "metadata": {},
   "source": [
    "## Случайный лес (группа бэггинга)\n",
    "\n",
    "Создается несколько независимых моделей на основе одного и того же алгоритма, но на разных наборах данных, с использованием случайной подвыборки из общего набора данных. Затем предсказания всех этих моделей комбинируются в одно общее предсказание путем усреднения или голосования.\n",
    "\n",
    "Случайный лес - это метод ансамблирования в машинном обучении, который состоит из нескольких деревьев решений. Каждое дерево решений обучается на подмножестве данных и подмножестве признаков, которые выбираются случайным образом. Когда нужно сделать прогноз, каждое дерево в лесу выдает свой отдельный прогноз, а затем все прогнозы объединяются в один общий прогноз путем усреднения или голосования."
   ]
  },
  {
   "cell_type": "code",
   "execution_count": 9,
   "id": "5034a5f3",
   "metadata": {},
   "outputs": [],
   "source": [
    "rfr = RandomForestRegressor()\n",
    "rfr.fit(X_train, y_train)\n",
    "prediction = rfr.predict(X_test)"
   ]
  },
  {
   "cell_type": "code",
   "execution_count": 10,
   "id": "ec3a2346",
   "metadata": {},
   "outputs": [
    {
     "data": {
      "text/html": [
       "<style>#sk-container-id-1 {color: black;background-color: white;}#sk-container-id-1 pre{padding: 0;}#sk-container-id-1 div.sk-toggleable {background-color: white;}#sk-container-id-1 label.sk-toggleable__label {cursor: pointer;display: block;width: 100%;margin-bottom: 0;padding: 0.3em;box-sizing: border-box;text-align: center;}#sk-container-id-1 label.sk-toggleable__label-arrow:before {content: \"▸\";float: left;margin-right: 0.25em;color: #696969;}#sk-container-id-1 label.sk-toggleable__label-arrow:hover:before {color: black;}#sk-container-id-1 div.sk-estimator:hover label.sk-toggleable__label-arrow:before {color: black;}#sk-container-id-1 div.sk-toggleable__content {max-height: 0;max-width: 0;overflow: hidden;text-align: left;background-color: #f0f8ff;}#sk-container-id-1 div.sk-toggleable__content pre {margin: 0.2em;color: black;border-radius: 0.25em;background-color: #f0f8ff;}#sk-container-id-1 input.sk-toggleable__control:checked~div.sk-toggleable__content {max-height: 200px;max-width: 100%;overflow: auto;}#sk-container-id-1 input.sk-toggleable__control:checked~label.sk-toggleable__label-arrow:before {content: \"▾\";}#sk-container-id-1 div.sk-estimator input.sk-toggleable__control:checked~label.sk-toggleable__label {background-color: #d4ebff;}#sk-container-id-1 div.sk-label input.sk-toggleable__control:checked~label.sk-toggleable__label {background-color: #d4ebff;}#sk-container-id-1 input.sk-hidden--visually {border: 0;clip: rect(1px 1px 1px 1px);clip: rect(1px, 1px, 1px, 1px);height: 1px;margin: -1px;overflow: hidden;padding: 0;position: absolute;width: 1px;}#sk-container-id-1 div.sk-estimator {font-family: monospace;background-color: #f0f8ff;border: 1px dotted black;border-radius: 0.25em;box-sizing: border-box;margin-bottom: 0.5em;}#sk-container-id-1 div.sk-estimator:hover {background-color: #d4ebff;}#sk-container-id-1 div.sk-parallel-item::after {content: \"\";width: 100%;border-bottom: 1px solid gray;flex-grow: 1;}#sk-container-id-1 div.sk-label:hover label.sk-toggleable__label {background-color: #d4ebff;}#sk-container-id-1 div.sk-serial::before {content: \"\";position: absolute;border-left: 1px solid gray;box-sizing: border-box;top: 0;bottom: 0;left: 50%;z-index: 0;}#sk-container-id-1 div.sk-serial {display: flex;flex-direction: column;align-items: center;background-color: white;padding-right: 0.2em;padding-left: 0.2em;position: relative;}#sk-container-id-1 div.sk-item {position: relative;z-index: 1;}#sk-container-id-1 div.sk-parallel {display: flex;align-items: stretch;justify-content: center;background-color: white;position: relative;}#sk-container-id-1 div.sk-item::before, #sk-container-id-1 div.sk-parallel-item::before {content: \"\";position: absolute;border-left: 1px solid gray;box-sizing: border-box;top: 0;bottom: 0;left: 50%;z-index: -1;}#sk-container-id-1 div.sk-parallel-item {display: flex;flex-direction: column;z-index: 1;position: relative;background-color: white;}#sk-container-id-1 div.sk-parallel-item:first-child::after {align-self: flex-end;width: 50%;}#sk-container-id-1 div.sk-parallel-item:last-child::after {align-self: flex-start;width: 50%;}#sk-container-id-1 div.sk-parallel-item:only-child::after {width: 0;}#sk-container-id-1 div.sk-dashed-wrapped {border: 1px dashed gray;margin: 0 0.4em 0.5em 0.4em;box-sizing: border-box;padding-bottom: 0.4em;background-color: white;}#sk-container-id-1 div.sk-label label {font-family: monospace;font-weight: bold;display: inline-block;line-height: 1.2em;}#sk-container-id-1 div.sk-label-container {text-align: center;}#sk-container-id-1 div.sk-container {/* jupyter's `normalize.less` sets `[hidden] { display: none; }` but bootstrap.min.css set `[hidden] { display: none !important; }` so we also need the `!important` here to be able to override the default hidden behavior on the sphinx rendered scikit-learn.org. See: https://github.com/scikit-learn/scikit-learn/issues/21755 */display: inline-block !important;position: relative;}#sk-container-id-1 div.sk-text-repr-fallback {display: none;}</style><div id=\"sk-container-id-1\" class=\"sk-top-container\"><div class=\"sk-text-repr-fallback\"><pre>GridSearchCV(cv=5, estimator=RandomForestRegressor(),\n",
       "             param_grid={&#x27;max_depth&#x27;: [10, 15, 20]})</pre><b>In a Jupyter environment, please rerun this cell to show the HTML representation or trust the notebook. <br />On GitHub, the HTML representation is unable to render, please try loading this page with nbviewer.org.</b></div><div class=\"sk-container\" hidden><div class=\"sk-item sk-dashed-wrapped\"><div class=\"sk-label-container\"><div class=\"sk-label sk-toggleable\"><input class=\"sk-toggleable__control sk-hidden--visually\" id=\"sk-estimator-id-1\" type=\"checkbox\" ><label for=\"sk-estimator-id-1\" class=\"sk-toggleable__label sk-toggleable__label-arrow\">GridSearchCV</label><div class=\"sk-toggleable__content\"><pre>GridSearchCV(cv=5, estimator=RandomForestRegressor(),\n",
       "             param_grid={&#x27;max_depth&#x27;: [10, 15, 20]})</pre></div></div></div><div class=\"sk-parallel\"><div class=\"sk-parallel-item\"><div class=\"sk-item\"><div class=\"sk-label-container\"><div class=\"sk-label sk-toggleable\"><input class=\"sk-toggleable__control sk-hidden--visually\" id=\"sk-estimator-id-2\" type=\"checkbox\" ><label for=\"sk-estimator-id-2\" class=\"sk-toggleable__label sk-toggleable__label-arrow\">estimator: RandomForestRegressor</label><div class=\"sk-toggleable__content\"><pre>RandomForestRegressor()</pre></div></div></div><div class=\"sk-serial\"><div class=\"sk-item\"><div class=\"sk-estimator sk-toggleable\"><input class=\"sk-toggleable__control sk-hidden--visually\" id=\"sk-estimator-id-3\" type=\"checkbox\" ><label for=\"sk-estimator-id-3\" class=\"sk-toggleable__label sk-toggleable__label-arrow\">RandomForestRegressor</label><div class=\"sk-toggleable__content\"><pre>RandomForestRegressor()</pre></div></div></div></div></div></div></div></div></div></div>"
      ],
      "text/plain": [
       "GridSearchCV(cv=5, estimator=RandomForestRegressor(),\n",
       "             param_grid={'max_depth': [10, 15, 20]})"
      ]
     },
     "execution_count": 10,
     "metadata": {},
     "output_type": "execute_result"
    }
   ],
   "source": [
    "params = { \n",
    " 'max_depth' : [10, 15, 20],\n",
    "}\n",
    "\n",
    "grid = GridSearchCV(estimator=RandomForestRegressor(), param_grid=params, cv= 5)\n",
    "grid.fit(X_train, y_train)"
   ]
  },
  {
   "cell_type": "code",
   "execution_count": 11,
   "id": "f2ff248e",
   "metadata": {},
   "outputs": [
    {
     "data": {
      "text/plain": [
       "(0.9553142711661892, {'max_depth': 15})"
      ]
     },
     "execution_count": 11,
     "metadata": {},
     "output_type": "execute_result"
    }
   ],
   "source": [
    "grid.best_score_, grid.best_params_"
   ]
  },
  {
   "cell_type": "code",
   "execution_count": 12,
   "id": "858c80fd",
   "metadata": {},
   "outputs": [
    {
     "data": {
      "text/plain": [
       "3.780427824778443"
      ]
     },
     "execution_count": 12,
     "metadata": {},
     "output_type": "execute_result"
    }
   ],
   "source": [
    "rfr = RandomForestRegressor(max_depth=15, random_state=0)\n",
    "rfr.fit(X_train, y_train)\n",
    "prediction = rfr.predict(X_test)\n",
    "mean_squared_error(y_test, prediction)"
   ]
  },
  {
   "cell_type": "markdown",
   "id": "922ad2ce",
   "metadata": {},
   "source": [
    "## Группа бустинга\n",
    "\n",
    "Последовательное обучение слабых моделей для создания сильной модели. В бустинге каждая модель учится на наборе данных, который был скорректирован на основе ошибок предыдущей модели. Таким образом, каждая следующая модель фокусируется на тех объектах, на которых предыдущая модель ошиблась, и старается исправить ошибки. В результате мы получаем сильную модель, которая может давать более точные прогнозы, чем каждая из слабых моделей в отдельности."
   ]
  },
  {
   "cell_type": "code",
   "execution_count": null,
   "id": "86163b87",
   "metadata": {},
   "outputs": [],
   "source": [
    "params = {\n",
    "    'n_estimators': [500, 800],\n",
    "    'max_depth': [5, 8],\n",
    "    'min_samples_split': [2, 5],\n",
    "    'learning_rate': [0.01, 0.1]\n",
    "}\n",
    "grid = GridSearchCV(GradientBoostingRegressor(), param_grid=params, cv=5, n_jobs=-1)\n",
    "grid.fit(X_train, y_train)"
   ]
  },
  {
   "cell_type": "code",
   "execution_count": null,
   "id": "14f94d57",
   "metadata": {},
   "outputs": [],
   "source": [
    "grid.best_score_, grid.best_params_"
   ]
  },
  {
   "cell_type": "code",
   "execution_count": null,
   "id": "47c56c40",
   "metadata": {},
   "outputs": [],
   "source": [
    "gbr = GradientBoostingRegressor(**grid.best_params_)\n",
    "gbr.fit(X_train, y_train)\n",
    "prediction = gbr.predict(X_test)"
   ]
  },
  {
   "cell_type": "code",
   "execution_count": null,
   "id": "a4ff74e3",
   "metadata": {},
   "outputs": [],
   "source": [
    "mean_squared_error(y_test, prediction)"
   ]
  },
  {
   "cell_type": "markdown",
   "id": "8def217d",
   "metadata": {},
   "source": [
    "## Группа стекинга\n",
    "\n",
    "Обучаем несколько моделей на тренировочном наборе данных, затем используем их для создания прогнозов на тестовом наборе данных. Затем мы собираем прогнозы от базовых моделей и используем их в качестве входных данных для мета-модели. Мета-модель обучается на этих данных, чтобы улучшить производительность модели."
   ]
  },
  {
   "cell_type": "code",
   "execution_count": null,
   "id": "e1790f7f",
   "metadata": {},
   "outputs": [],
   "source": [
    "reg1 = RandomForestRegressor(random_state=42)\n",
    "reg2 = GradientBoostingRegressor(random_state=42)\n",
    "reg3 = LinearRegression()\n",
    "meta_learner = LinearRegression()\n",
    "sr = StackingCVRegressor(regressors=[reg1, reg2, reg3], meta_regressor=meta_learner)\n",
    "params = {\n",
    "    'randomforestregressor__max_depth': [5, 8]\n",
    "}\n",
    "\n",
    "grid = GridSearchCV(estimator=sr, param_grid=params, cv=5, n_jobs=-1)\n",
    "grid.fit(X_train, y_train)"
   ]
  },
  {
   "cell_type": "code",
   "execution_count": null,
   "id": "2e0e2f9c",
   "metadata": {},
   "outputs": [],
   "source": [
    "sr.get_params().keys()"
   ]
  },
  {
   "cell_type": "code",
   "execution_count": null,
   "id": "82fba19a",
   "metadata": {},
   "outputs": [],
   "source": [
    "grid.best_score_, grid.best_params_"
   ]
  },
  {
   "cell_type": "code",
   "execution_count": null,
   "id": "f8f1a6b0",
   "metadata": {},
   "outputs": [],
   "source": [
    "# __init__() got an unexpected keyword argument 'randomforestregressor__max_depth'\n",
    "# почему???\n",
    "sr = StackingCVRegressor(regressors=[reg1, reg2, reg3], meta_regressor=meta_learner, randomforestregressor__max_depth=8)\n",
    "sr.fit(X_train, y_train)\n",
    "prediction = sr.predict(X_test)"
   ]
  },
  {
   "cell_type": "code",
   "execution_count": null,
   "id": "d713eaf6",
   "metadata": {},
   "outputs": [],
   "source": [
    "mean_squared_error(y_test, prediction)"
   ]
  }
 ],
 "metadata": {
  "kernelspec": {
   "display_name": "Python 3 (ipykernel)",
   "language": "python",
   "name": "python3"
  },
  "language_info": {
   "codemirror_mode": {
    "name": "ipython",
    "version": 3
   },
   "file_extension": ".py",
   "mimetype": "text/x-python",
   "name": "python",
   "nbconvert_exporter": "python",
   "pygments_lexer": "ipython3",
   "version": "3.9.13"
  }
 },
 "nbformat": 4,
 "nbformat_minor": 5
}
